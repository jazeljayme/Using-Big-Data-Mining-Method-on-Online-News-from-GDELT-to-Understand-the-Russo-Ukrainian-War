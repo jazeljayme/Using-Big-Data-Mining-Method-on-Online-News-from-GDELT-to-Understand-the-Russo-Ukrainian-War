{
 "cells": [
  {
   "cell_type": "code",
   "execution_count": 1,
   "id": "18002d7d-535a-496c-b364-7a9a98688c4b",
   "metadata": {
    "execution": {
     "iopub.execute_input": "2022-03-09T15:26:06.698870Z",
     "iopub.status.busy": "2022-03-09T15:26:06.698648Z",
     "iopub.status.idle": "2022-03-09T15:26:58.111889Z",
     "shell.execute_reply": "2022-03-09T15:26:58.111314Z",
     "shell.execute_reply.started": "2022-03-09T15:26:06.698844Z"
    },
    "tags": []
   },
   "outputs": [
    {
     "data": {
      "application/vnd.jupyter.widget-view+json": {
       "model_id": "50c61511b1084eb2a6e627be2cb77473",
       "version_major": 2,
       "version_minor": 0
      },
      "text/plain": [
       "VBox()"
      ]
     },
     "metadata": {},
     "output_type": "display_data"
    },
    {
     "name": "stdout",
     "output_type": "stream",
     "text": [
      "Starting Spark application\n"
     ]
    },
    {
     "data": {
      "text/html": [
       "<table>\n",
       "<tr><th>ID</th><th>YARN Application ID</th><th>Kind</th><th>State</th><th>Spark UI</th><th>Driver log</th><th>Current session?</th></tr><tr><td>7</td><td>application_1646821801438_0009</td><td>pyspark</td><td>idle</td><td><a target=\"_blank\" href=\"http://ip-172-31-31-75.ec2.internal:20888/proxy/application_1646821801438_0009/\" class=\"emr-proxy-link\" emr-resource=\"j-1IQL9WP1ZHYT\n",
       "\" application-id=\"application_1646821801438_0009\">Link</a></td><td><a target=\"_blank\" href=\"http://ip-172-31-30-57.ec2.internal:8042/node/containerlogs/container_1646821801438_0009_01_000001/livy\" >Link</a></td><td>✔</td></tr></table>"
      ],
      "text/plain": [
       "<IPython.core.display.HTML object>"
      ]
     },
     "metadata": {},
     "output_type": "display_data"
    },
    {
     "data": {
      "application/vnd.jupyter.widget-view+json": {
       "model_id": "",
       "version_major": 2,
       "version_minor": 0
      },
      "text/plain": [
       "FloatProgress(value=0.0, bar_style='info', description='Progress:', layout=Layout(height='25px', width='50%'),…"
      ]
     },
     "metadata": {},
     "output_type": "display_data"
    },
    {
     "name": "stdout",
     "output_type": "stream",
     "text": [
      "SparkSession available as 'spark'.\n"
     ]
    },
    {
     "data": {
      "application/vnd.jupyter.widget-view+json": {
       "model_id": "",
       "version_major": 2,
       "version_minor": 0
      },
      "text/plain": [
       "FloatProgress(value=0.0, bar_style='info', description='Progress:', layout=Layout(height='25px', width='50%'),…"
      ]
     },
     "metadata": {},
     "output_type": "display_data"
    }
   ],
   "source": [
    "from pyspark.sql import SparkSession\n",
    "\n",
    "\n",
    "spark = SparkSession \\\n",
    "        .builder \\\n",
    "        .appName('aws') \\\n",
    "        .getOrCreate()"
   ]
  },
  {
   "cell_type": "markdown",
   "id": "aba5f4ef-81c5-403a-ab1a-cab06c8c24e5",
   "metadata": {
    "tags": []
   },
   "source": [
    "# Read gdelt v2 file from Google BigQuery, filter >= 2013, and save into parquet file"
   ]
  },
  {
   "cell_type": "code",
   "execution_count": 2,
   "id": "c7e2e6bd-cd8e-4d58-9170-6b3830629fea",
   "metadata": {
    "execution": {
     "iopub.execute_input": "2022-03-09T13:01:16.408459Z",
     "iopub.status.busy": "2022-03-09T13:01:16.408078Z",
     "iopub.status.idle": "2022-03-09T13:01:25.930676Z",
     "shell.execute_reply": "2022-03-09T13:01:25.929702Z",
     "shell.execute_reply.started": "2022-03-09T13:01:16.408423Z"
    },
    "tags": []
   },
   "outputs": [
    {
     "data": {
      "application/vnd.jupyter.widget-view+json": {
       "model_id": "e58caa69447a4d70a9a54b364c2cad7d",
       "version_major": 2,
       "version_minor": 0
      },
      "text/plain": [
       "VBox()"
      ]
     },
     "metadata": {},
     "output_type": "display_data"
    },
    {
     "data": {
      "application/vnd.jupyter.widget-view+json": {
       "model_id": "",
       "version_major": 2,
       "version_minor": 0
      },
      "text/plain": [
       "FloatProgress(value=0.0, bar_style='info', description='Progress:', layout=Layout(height='25px', width='50%'),…"
      ]
     },
     "metadata": {},
     "output_type": "display_data"
    }
   ],
   "source": [
    "df = spark.read.parquet('s3://bdcc-final-project-bucket/gdelt-v2.parquet')"
   ]
  },
  {
   "cell_type": "code",
   "execution_count": 3,
   "id": "0b02b6ae-516b-4c81-837e-ee096d8c5d5d",
   "metadata": {
    "execution": {
     "iopub.execute_input": "2022-03-09T13:01:25.932967Z",
     "iopub.status.busy": "2022-03-09T13:01:25.932507Z",
     "iopub.status.idle": "2022-03-09T13:01:39.284827Z",
     "shell.execute_reply": "2022-03-09T13:01:39.284158Z",
     "shell.execute_reply.started": "2022-03-09T13:01:25.932929Z"
    },
    "tags": []
   },
   "outputs": [
    {
     "data": {
      "application/vnd.jupyter.widget-view+json": {
       "model_id": "b70187a6bae94d9a986481bb6a2a4c63",
       "version_major": 2,
       "version_minor": 0
      },
      "text/plain": [
       "VBox()"
      ]
     },
     "metadata": {},
     "output_type": "display_data"
    },
    {
     "data": {
      "application/vnd.jupyter.widget-view+json": {
       "model_id": "",
       "version_major": 2,
       "version_minor": 0
      },
      "text/plain": [
       "FloatProgress(value=0.0, bar_style='info', description='Progress:', layout=Layout(height='25px', width='50%'),…"
      ]
     },
     "metadata": {},
     "output_type": "display_data"
    },
    {
     "name": "stdout",
     "output_type": "stream",
     "text": [
      "621401952"
     ]
    }
   ],
   "source": [
    "df.count()"
   ]
  },
  {
   "cell_type": "code",
   "execution_count": 4,
   "id": "699e8226-4832-405c-94b9-3ce887e6287f",
   "metadata": {
    "execution": {
     "iopub.execute_input": "2022-03-09T13:01:39.286121Z",
     "iopub.status.busy": "2022-03-09T13:01:39.285951Z",
     "iopub.status.idle": "2022-03-09T13:01:40.085270Z",
     "shell.execute_reply": "2022-03-09T13:01:40.084665Z",
     "shell.execute_reply.started": "2022-03-09T13:01:39.286100Z"
    },
    "tags": []
   },
   "outputs": [
    {
     "data": {
      "application/vnd.jupyter.widget-view+json": {
       "model_id": "ad8802a50fac49bf96fd33cf440f537b",
       "version_major": 2,
       "version_minor": 0
      },
      "text/plain": [
       "VBox()"
      ]
     },
     "metadata": {},
     "output_type": "display_data"
    },
    {
     "data": {
      "application/vnd.jupyter.widget-view+json": {
       "model_id": "",
       "version_major": 2,
       "version_minor": 0
      },
      "text/plain": [
       "FloatProgress(value=0.0, bar_style='info', description='Progress:', layout=Layout(height='25px', width='50%'),…"
      ]
     },
     "metadata": {},
     "output_type": "display_data"
    }
   ],
   "source": [
    "df.createOrReplaceTempView('df')"
   ]
  },
  {
   "cell_type": "code",
   "execution_count": 5,
   "id": "389e89d1-5f96-4a18-af8d-40e9e26ef25d",
   "metadata": {
    "execution": {
     "iopub.execute_input": "2022-03-09T13:01:40.086521Z",
     "iopub.status.busy": "2022-03-09T13:01:40.086170Z",
     "iopub.status.idle": "2022-03-09T13:01:40.359598Z",
     "shell.execute_reply": "2022-03-09T13:01:40.358830Z",
     "shell.execute_reply.started": "2022-03-09T13:01:40.086486Z"
    },
    "tags": []
   },
   "outputs": [
    {
     "data": {
      "application/vnd.jupyter.widget-view+json": {
       "model_id": "24c70814575649c3a4dd300f41f64222",
       "version_major": 2,
       "version_minor": 0
      },
      "text/plain": [
       "VBox()"
      ]
     },
     "metadata": {},
     "output_type": "display_data"
    },
    {
     "data": {
      "application/vnd.jupyter.widget-view+json": {
       "model_id": "",
       "version_major": 2,
       "version_minor": 0
      },
      "text/plain": [
       "FloatProgress(value=0.0, bar_style='info', description='Progress:', layout=Layout(height='25px', width='50%'),…"
      ]
     },
     "metadata": {},
     "output_type": "display_data"
    }
   ],
   "source": [
    "df_v2 = (spark.sql(\"\"\"SELECT *\n",
    "                      FROM df\n",
    "                      WHERE Year >= 2013\n",
    "                      ORDER BY Year DESC\n",
    "                      \"\"\"))"
   ]
  },
  {
   "cell_type": "code",
   "execution_count": 6,
   "id": "c7fd6cc1-f7fb-41ae-8b17-37aff55e3d27",
   "metadata": {
    "execution": {
     "iopub.execute_input": "2022-03-09T13:01:40.363164Z",
     "iopub.status.busy": "2022-03-09T13:01:40.362915Z",
     "iopub.status.idle": "2022-03-09T13:51:19.377626Z",
     "shell.execute_reply": "2022-03-09T13:51:19.377005Z",
     "shell.execute_reply.started": "2022-03-09T13:01:40.363131Z"
    },
    "tags": []
   },
   "outputs": [
    {
     "data": {
      "application/vnd.jupyter.widget-view+json": {
       "model_id": "b462bfb9af734e379af45a945158c850",
       "version_major": 2,
       "version_minor": 0
      },
      "text/plain": [
       "VBox()"
      ]
     },
     "metadata": {},
     "output_type": "display_data"
    },
    {
     "data": {
      "application/vnd.jupyter.widget-view+json": {
       "model_id": "",
       "version_major": 2,
       "version_minor": 0
      },
      "text/plain": [
       "FloatProgress(value=0.0, bar_style='info', description='Progress:', layout=Layout(height='25px', width='50%'),…"
      ]
     },
     "metadata": {},
     "output_type": "display_data"
    }
   ],
   "source": [
    "df_v2.write.parquet('s3://bdcc-final-project-bucket/df_v2.parquet',\n",
    "                    partitionBy=['Year', 'MonthYear'])"
   ]
  },
  {
   "cell_type": "markdown",
   "id": "a7522d3c-0ef3-446d-ad22-f371e1a72cdd",
   "metadata": {},
   "source": [
    "# Read gdelt v1 from AWS S3"
   ]
  },
  {
   "cell_type": "code",
   "execution_count": 2,
   "id": "b7101e5c-bfdf-4870-aad7-eb2dad4b0597",
   "metadata": {
    "execution": {
     "iopub.execute_input": "2022-03-09T15:27:41.822450Z",
     "iopub.status.busy": "2022-03-09T15:27:41.822224Z",
     "iopub.status.idle": "2022-03-09T15:27:53.160793Z",
     "shell.execute_reply": "2022-03-09T15:27:53.160205Z",
     "shell.execute_reply.started": "2022-03-09T15:27:41.822426Z"
    },
    "tags": []
   },
   "outputs": [
    {
     "data": {
      "application/vnd.jupyter.widget-view+json": {
       "model_id": "78a909615c4440c6a4fee8c614442744",
       "version_major": 2,
       "version_minor": 0
      },
      "text/plain": [
       "VBox()"
      ]
     },
     "metadata": {},
     "output_type": "display_data"
    },
    {
     "data": {
      "application/vnd.jupyter.widget-view+json": {
       "model_id": "",
       "version_major": 2,
       "version_minor": 0
      },
      "text/plain": [
       "FloatProgress(value=0.0, bar_style='info', description='Progress:', layout=Layout(height='25px', width='50%'),…"
      ]
     },
     "metadata": {},
     "output_type": "display_data"
    }
   ],
   "source": [
    "df_v1 = spark.read.parquet('s3://bdcc-final-project-bucket/df.parquet')"
   ]
  },
  {
   "cell_type": "code",
   "execution_count": 3,
   "id": "c8011cb0-114b-49cd-b6f3-963d06b08017",
   "metadata": {
    "execution": {
     "iopub.execute_input": "2022-03-09T15:27:53.161983Z",
     "iopub.status.busy": "2022-03-09T15:27:53.161779Z",
     "iopub.status.idle": "2022-03-09T15:27:55.614691Z",
     "shell.execute_reply": "2022-03-09T15:27:55.613895Z",
     "shell.execute_reply.started": "2022-03-09T15:27:53.161954Z"
    },
    "tags": []
   },
   "outputs": [
    {
     "data": {
      "application/vnd.jupyter.widget-view+json": {
       "model_id": "25398a892f284053bd96e124cff00e31",
       "version_major": 2,
       "version_minor": 0
      },
      "text/plain": [
       "VBox()"
      ]
     },
     "metadata": {},
     "output_type": "display_data"
    },
    {
     "data": {
      "application/vnd.jupyter.widget-view+json": {
       "model_id": "",
       "version_major": 2,
       "version_minor": 0
      },
      "text/plain": [
       "FloatProgress(value=0.0, bar_style='info', description='Progress:', layout=Layout(height='25px', width='50%'),…"
      ]
     },
     "metadata": {},
     "output_type": "display_data"
    }
   ],
   "source": [
    "df_v1.createOrReplaceTempView('df_v1')"
   ]
  },
  {
   "cell_type": "code",
   "execution_count": 4,
   "id": "53215571-87aa-4570-a271-ba3988e5151f",
   "metadata": {
    "execution": {
     "iopub.execute_input": "2022-03-09T15:27:55.616540Z",
     "iopub.status.busy": "2022-03-09T15:27:55.616053Z",
     "iopub.status.idle": "2022-03-09T15:27:55.700804Z",
     "shell.execute_reply": "2022-03-09T15:27:55.700134Z",
     "shell.execute_reply.started": "2022-03-09T15:27:55.616502Z"
    },
    "tags": []
   },
   "outputs": [
    {
     "data": {
      "application/vnd.jupyter.widget-view+json": {
       "model_id": "a5a93a6474f24d2ea52436b2fc818e0d",
       "version_major": 2,
       "version_minor": 0
      },
      "text/plain": [
       "VBox()"
      ]
     },
     "metadata": {},
     "output_type": "display_data"
    },
    {
     "data": {
      "application/vnd.jupyter.widget-view+json": {
       "model_id": "",
       "version_major": 2,
       "version_minor": 0
      },
      "text/plain": [
       "FloatProgress(value=0.0, bar_style='info', description='Progress:', layout=Layout(height='25px', width='50%'),…"
      ]
     },
     "metadata": {},
     "output_type": "display_data"
    },
    {
     "name": "stdout",
     "output_type": "stream",
     "text": [
      "<class 'pyspark.sql.dataframe.DataFrame'>"
     ]
    }
   ],
   "source": [
    "type(df_v1)"
   ]
  },
  {
   "cell_type": "markdown",
   "id": "7059422c-c656-44d1-bc56-74db641cfb49",
   "metadata": {},
   "source": [
    "# Read gdelt v2 from AWS S3 (transferred from GCP)"
   ]
  },
  {
   "cell_type": "code",
   "execution_count": 5,
   "id": "e555ca11-b852-4abb-af28-3ca69799c28d",
   "metadata": {
    "execution": {
     "iopub.execute_input": "2022-03-09T15:27:57.414484Z",
     "iopub.status.busy": "2022-03-09T15:27:57.414262Z",
     "iopub.status.idle": "2022-03-09T15:28:02.699708Z",
     "shell.execute_reply": "2022-03-09T15:28:02.699098Z",
     "shell.execute_reply.started": "2022-03-09T15:27:57.414460Z"
    },
    "tags": []
   },
   "outputs": [
    {
     "data": {
      "application/vnd.jupyter.widget-view+json": {
       "model_id": "ea8ba30a4aa8481f9604801ce90d4a55",
       "version_major": 2,
       "version_minor": 0
      },
      "text/plain": [
       "VBox()"
      ]
     },
     "metadata": {},
     "output_type": "display_data"
    },
    {
     "data": {
      "application/vnd.jupyter.widget-view+json": {
       "model_id": "",
       "version_major": 2,
       "version_minor": 0
      },
      "text/plain": [
       "FloatProgress(value=0.0, bar_style='info', description='Progress:', layout=Layout(height='25px', width='50%'),…"
      ]
     },
     "metadata": {},
     "output_type": "display_data"
    }
   ],
   "source": [
    "df_v2 = spark.read.parquet('s3://bdcc-final-project-bucket/df_v2.parquet')"
   ]
  },
  {
   "cell_type": "code",
   "execution_count": 6,
   "id": "11d61330-4672-4cba-b273-a01fb14cfe28",
   "metadata": {
    "execution": {
     "iopub.execute_input": "2022-03-09T15:28:02.701285Z",
     "iopub.status.busy": "2022-03-09T15:28:02.701033Z",
     "iopub.status.idle": "2022-03-09T15:28:02.968497Z",
     "shell.execute_reply": "2022-03-09T15:28:02.967888Z",
     "shell.execute_reply.started": "2022-03-09T15:28:02.701250Z"
    },
    "tags": []
   },
   "outputs": [
    {
     "data": {
      "application/vnd.jupyter.widget-view+json": {
       "model_id": "7ab4c45a77b448a38e2a4892a9a4a36d",
       "version_major": 2,
       "version_minor": 0
      },
      "text/plain": [
       "VBox()"
      ]
     },
     "metadata": {},
     "output_type": "display_data"
    },
    {
     "data": {
      "application/vnd.jupyter.widget-view+json": {
       "model_id": "",
       "version_major": 2,
       "version_minor": 0
      },
      "text/plain": [
       "FloatProgress(value=0.0, bar_style='info', description='Progress:', layout=Layout(height='25px', width='50%'),…"
      ]
     },
     "metadata": {},
     "output_type": "display_data"
    }
   ],
   "source": [
    "df_v2.createOrReplaceTempView('df_v2')"
   ]
  },
  {
   "cell_type": "code",
   "execution_count": 7,
   "id": "c1cc3973-81bd-4615-a236-c1ab06b94e0a",
   "metadata": {
    "execution": {
     "iopub.execute_input": "2022-03-09T15:28:02.970255Z",
     "iopub.status.busy": "2022-03-09T15:28:02.970003Z",
     "iopub.status.idle": "2022-03-09T15:28:03.021965Z",
     "shell.execute_reply": "2022-03-09T15:28:03.021378Z",
     "shell.execute_reply.started": "2022-03-09T15:28:02.970221Z"
    },
    "tags": []
   },
   "outputs": [
    {
     "data": {
      "application/vnd.jupyter.widget-view+json": {
       "model_id": "a637a934db784a9a8711922d50edadca",
       "version_major": 2,
       "version_minor": 0
      },
      "text/plain": [
       "VBox()"
      ]
     },
     "metadata": {},
     "output_type": "display_data"
    },
    {
     "data": {
      "application/vnd.jupyter.widget-view+json": {
       "model_id": "",
       "version_major": 2,
       "version_minor": 0
      },
      "text/plain": [
       "FloatProgress(value=0.0, bar_style='info', description='Progress:', layout=Layout(height='25px', width='50%'),…"
      ]
     },
     "metadata": {},
     "output_type": "display_data"
    },
    {
     "name": "stdout",
     "output_type": "stream",
     "text": [
      "<class 'pyspark.sql.dataframe.DataFrame'>"
     ]
    }
   ],
   "source": [
    "type(df_v2)"
   ]
  },
  {
   "cell_type": "markdown",
   "id": "2d16ccb6-65cf-4b21-aa0e-0fc02b633fe6",
   "metadata": {},
   "source": [
    "# Concatenate\n",
    "## Get 2013-14 from gdelt v1"
   ]
  },
  {
   "cell_type": "code",
   "execution_count": 8,
   "id": "b28bbc50-474b-4c88-a7e8-0f20d24c1e77",
   "metadata": {
    "execution": {
     "iopub.execute_input": "2022-03-09T15:28:03.023066Z",
     "iopub.status.busy": "2022-03-09T15:28:03.022903Z",
     "iopub.status.idle": "2022-03-09T15:28:03.280183Z",
     "shell.execute_reply": "2022-03-09T15:28:03.279349Z",
     "shell.execute_reply.started": "2022-03-09T15:28:03.023045Z"
    },
    "tags": []
   },
   "outputs": [
    {
     "data": {
      "application/vnd.jupyter.widget-view+json": {
       "model_id": "39e4426c929b4f309dff5a7ac0792ce4",
       "version_major": 2,
       "version_minor": 0
      },
      "text/plain": [
       "VBox()"
      ]
     },
     "metadata": {},
     "output_type": "display_data"
    },
    {
     "data": {
      "application/vnd.jupyter.widget-view+json": {
       "model_id": "",
       "version_major": 2,
       "version_minor": 0
      },
      "text/plain": [
       "FloatProgress(value=0.0, bar_style='info', description='Progress:', layout=Layout(height='25px', width='50%'),…"
      ]
     },
     "metadata": {},
     "output_type": "display_data"
    }
   ],
   "source": [
    "df_v1 = (spark.sql(\"\"\"SELECT *\n",
    "                      FROM df_v1\n",
    "                      WHERE Year = 2013 OR Year = 2014\n",
    "                      ORDER BY Year DESC\n",
    "                      \"\"\"))"
   ]
  },
  {
   "cell_type": "code",
   "execution_count": 9,
   "id": "5b319f56-94fc-4776-a64d-fb71ad2deab2",
   "metadata": {
    "execution": {
     "iopub.execute_input": "2022-03-09T15:28:03.281602Z",
     "iopub.status.busy": "2022-03-09T15:28:03.281376Z",
     "iopub.status.idle": "2022-03-09T15:28:03.369594Z",
     "shell.execute_reply": "2022-03-09T15:28:03.368897Z",
     "shell.execute_reply.started": "2022-03-09T15:28:03.281572Z"
    },
    "tags": []
   },
   "outputs": [
    {
     "data": {
      "application/vnd.jupyter.widget-view+json": {
       "model_id": "c7271c21857047eea1de8d1d85fbde68",
       "version_major": 2,
       "version_minor": 0
      },
      "text/plain": [
       "VBox()"
      ]
     },
     "metadata": {},
     "output_type": "display_data"
    },
    {
     "data": {
      "application/vnd.jupyter.widget-view+json": {
       "model_id": "",
       "version_major": 2,
       "version_minor": 0
      },
      "text/plain": [
       "FloatProgress(value=0.0, bar_style='info', description='Progress:', layout=Layout(height='25px', width='50%'),…"
      ]
     },
     "metadata": {},
     "output_type": "display_data"
    },
    {
     "name": "stdout",
     "output_type": "stream",
     "text": [
      "root\n",
      " |-- GLOBALEVENTID: string (nullable = true)\n",
      " |-- SQLDATE: string (nullable = true)\n",
      " |-- FractionDate: string (nullable = true)\n",
      " |-- Actor1Code: string (nullable = true)\n",
      " |-- Actor1Name: string (nullable = true)\n",
      " |-- Actor1CountryCode: string (nullable = true)\n",
      " |-- Actor1KnownGroupCode: string (nullable = true)\n",
      " |-- Actor1EthnicCode: string (nullable = true)\n",
      " |-- Actor1Religion1Code: string (nullable = true)\n",
      " |-- Actor1Religion2Code: string (nullable = true)\n",
      " |-- Actor1Type1Code: string (nullable = true)\n",
      " |-- Actor1Type2Code: string (nullable = true)\n",
      " |-- Actor1Type3Code: string (nullable = true)\n",
      " |-- Actor2Code: string (nullable = true)\n",
      " |-- Actor2Name: string (nullable = true)\n",
      " |-- Actor2CountryCode: string (nullable = true)\n",
      " |-- Actor2KnownGroupCode: string (nullable = true)\n",
      " |-- Actor2EthnicCode: string (nullable = true)\n",
      " |-- Actor2Religion1Code: string (nullable = true)\n",
      " |-- Actor2Religion2Code: string (nullable = true)\n",
      " |-- Actor2Type1Code: string (nullable = true)\n",
      " |-- Actor2Type2Code: string (nullable = true)\n",
      " |-- Actor2Type3Code: string (nullable = true)\n",
      " |-- IsRootEvent: string (nullable = true)\n",
      " |-- EventCode: string (nullable = true)\n",
      " |-- EventBaseCode: string (nullable = true)\n",
      " |-- EventRootCode: string (nullable = true)\n",
      " |-- QuadClass: string (nullable = true)\n",
      " |-- GoldsteinScale: string (nullable = true)\n",
      " |-- NumMentions: string (nullable = true)\n",
      " |-- NumSources: string (nullable = true)\n",
      " |-- NumArticles: string (nullable = true)\n",
      " |-- AvgTone: string (nullable = true)\n",
      " |-- Actor1Geo_Type: string (nullable = true)\n",
      " |-- Actor1Geo_FullName: string (nullable = true)\n",
      " |-- Actor1Geo_CountryCode: string (nullable = true)\n",
      " |-- Actor1Geo_ADM1Code: string (nullable = true)\n",
      " |-- Actor1Geo_Lat: string (nullable = true)\n",
      " |-- Actor1Geo_Long: string (nullable = true)\n",
      " |-- Actor1Geo_FeatureID: string (nullable = true)\n",
      " |-- Actor2Geo_Type: string (nullable = true)\n",
      " |-- Actor2Geo_FullName: string (nullable = true)\n",
      " |-- Actor2Geo_CountryCode: string (nullable = true)\n",
      " |-- Actor2Geo_ADM1Code: string (nullable = true)\n",
      " |-- Actor2Geo_Lat: string (nullable = true)\n",
      " |-- Actor2Geo_Long: string (nullable = true)\n",
      " |-- Actor2Geo_FeatureID: string (nullable = true)\n",
      " |-- ActionGeo_Type: string (nullable = true)\n",
      " |-- ActionGeo_FullName: string (nullable = true)\n",
      " |-- ActionGeo_CountryCode: string (nullable = true)\n",
      " |-- ActionGeo_ADM1Code: string (nullable = true)\n",
      " |-- ActionGeo_Lat: string (nullable = true)\n",
      " |-- ActionGeo_Long: string (nullable = true)\n",
      " |-- ActionGeo_FeatureID: string (nullable = true)\n",
      " |-- DATEADDED: string (nullable = true)\n",
      " |-- SOURCEURL: string (nullable = true)\n",
      " |-- Year: integer (nullable = true)\n",
      " |-- MonthYear: integer (nullable = true)"
     ]
    }
   ],
   "source": [
    "df_v1.printSchema()"
   ]
  },
  {
   "cell_type": "markdown",
   "id": "86215cb2-5016-4801-95e9-48a7c1dd2a17",
   "metadata": {},
   "source": [
    "### Count rows and check per year"
   ]
  },
  {
   "cell_type": "code",
   "execution_count": 10,
   "id": "3a784926-8e39-4e93-9e1f-65c41e4fd699",
   "metadata": {
    "execution": {
     "iopub.execute_input": "2022-03-09T15:28:04.374605Z",
     "iopub.status.busy": "2022-03-09T15:28:04.374392Z",
     "iopub.status.idle": "2022-03-09T15:28:17.697272Z",
     "shell.execute_reply": "2022-03-09T15:28:17.696559Z",
     "shell.execute_reply.started": "2022-03-09T15:28:04.374583Z"
    },
    "tags": []
   },
   "outputs": [
    {
     "data": {
      "application/vnd.jupyter.widget-view+json": {
       "model_id": "cd918e7e5bc84f89bcfb85012197a0bc",
       "version_major": 2,
       "version_minor": 0
      },
      "text/plain": [
       "VBox()"
      ]
     },
     "metadata": {},
     "output_type": "display_data"
    },
    {
     "data": {
      "application/vnd.jupyter.widget-view+json": {
       "model_id": "",
       "version_major": 2,
       "version_minor": 0
      },
      "text/plain": [
       "FloatProgress(value=0.0, bar_style='info', description='Progress:', layout=Layout(height='25px', width='50%'),…"
      ]
     },
     "metadata": {},
     "output_type": "display_data"
    },
    {
     "name": "stdout",
     "output_type": "stream",
     "text": [
      "75789143"
     ]
    }
   ],
   "source": [
    "df_v1.count()"
   ]
  },
  {
   "cell_type": "code",
   "execution_count": 11,
   "id": "311ffea0-4004-4708-857c-d8ee7a0605bf",
   "metadata": {
    "execution": {
     "iopub.execute_input": "2022-03-09T15:28:17.698649Z",
     "iopub.status.busy": "2022-03-09T15:28:17.698480Z",
     "iopub.status.idle": "2022-03-09T15:28:25.173497Z",
     "shell.execute_reply": "2022-03-09T15:28:25.172894Z",
     "shell.execute_reply.started": "2022-03-09T15:28:17.698628Z"
    },
    "tags": []
   },
   "outputs": [
    {
     "data": {
      "application/vnd.jupyter.widget-view+json": {
       "model_id": "d82e7e5f4b4b465fb6d9a6d8dc70e72a",
       "version_major": 2,
       "version_minor": 0
      },
      "text/plain": [
       "VBox()"
      ]
     },
     "metadata": {},
     "output_type": "display_data"
    },
    {
     "data": {
      "application/vnd.jupyter.widget-view+json": {
       "model_id": "",
       "version_major": 2,
       "version_minor": 0
      },
      "text/plain": [
       "FloatProgress(value=0.0, bar_style='info', description='Progress:', layout=Layout(height='25px', width='50%'),…"
      ]
     },
     "metadata": {},
     "output_type": "display_data"
    },
    {
     "name": "stdout",
     "output_type": "stream",
     "text": [
      "+----+--------+\n",
      "|year|   count|\n",
      "+----+--------+\n",
      "|2014|48381955|\n",
      "|2013|27407188|\n",
      "+----+--------+"
     ]
    }
   ],
   "source": [
    "from pyspark.sql.functions import desc\n",
    "\n",
    "(df_v1.groupby('year')\n",
    "      .count()\n",
    "      .orderBy(desc('year'))\n",
    "      .show())"
   ]
  },
  {
   "cell_type": "markdown",
   "id": "e03e1a7a-c03a-49b5-a927-ee1ae225aab3",
   "metadata": {},
   "source": [
    "## Get 2015-22 from gdelt v2"
   ]
  },
  {
   "cell_type": "code",
   "execution_count": 12,
   "id": "cba370c9-7833-4800-948c-c1a757240b19",
   "metadata": {
    "execution": {
     "iopub.execute_input": "2022-03-09T15:28:25.175588Z",
     "iopub.status.busy": "2022-03-09T15:28:25.175339Z",
     "iopub.status.idle": "2022-03-09T15:28:25.463411Z",
     "shell.execute_reply": "2022-03-09T15:28:25.462713Z",
     "shell.execute_reply.started": "2022-03-09T15:28:25.175554Z"
    },
    "tags": []
   },
   "outputs": [
    {
     "data": {
      "application/vnd.jupyter.widget-view+json": {
       "model_id": "42e7b1b4e7ae41209d622d63924b592f",
       "version_major": 2,
       "version_minor": 0
      },
      "text/plain": [
       "VBox()"
      ]
     },
     "metadata": {},
     "output_type": "display_data"
    },
    {
     "data": {
      "application/vnd.jupyter.widget-view+json": {
       "model_id": "",
       "version_major": 2,
       "version_minor": 0
      },
      "text/plain": [
       "FloatProgress(value=0.0, bar_style='info', description='Progress:', layout=Layout(height='25px', width='50%'),…"
      ]
     },
     "metadata": {},
     "output_type": "display_data"
    }
   ],
   "source": [
    "df_v2 = (spark.sql(\"\"\"SELECT *\n",
    "                      FROM df_v2\n",
    "                      WHERE Year >= 2015\n",
    "                      ORDER BY Year DESC\n",
    "                      \"\"\"))"
   ]
  },
  {
   "cell_type": "code",
   "execution_count": 13,
   "id": "d6f69c0b-fb1a-4d9f-925c-55c033058026",
   "metadata": {
    "execution": {
     "iopub.execute_input": "2022-03-09T15:28:25.464865Z",
     "iopub.status.busy": "2022-03-09T15:28:25.464617Z",
     "iopub.status.idle": "2022-03-09T15:28:25.553177Z",
     "shell.execute_reply": "2022-03-09T15:28:25.552512Z",
     "shell.execute_reply.started": "2022-03-09T15:28:25.464831Z"
    },
    "tags": []
   },
   "outputs": [
    {
     "data": {
      "application/vnd.jupyter.widget-view+json": {
       "model_id": "909ab52075714fe2a6058b7fee604c03",
       "version_major": 2,
       "version_minor": 0
      },
      "text/plain": [
       "VBox()"
      ]
     },
     "metadata": {},
     "output_type": "display_data"
    },
    {
     "data": {
      "application/vnd.jupyter.widget-view+json": {
       "model_id": "",
       "version_major": 2,
       "version_minor": 0
      },
      "text/plain": [
       "FloatProgress(value=0.0, bar_style='info', description='Progress:', layout=Layout(height='25px', width='50%'),…"
      ]
     },
     "metadata": {},
     "output_type": "display_data"
    },
    {
     "name": "stdout",
     "output_type": "stream",
     "text": [
      "root\n",
      " |-- GLOBALEVENTID: long (nullable = true)\n",
      " |-- SQLDATE: long (nullable = true)\n",
      " |-- FractionDate: double (nullable = true)\n",
      " |-- Actor1Code: string (nullable = true)\n",
      " |-- Actor1Name: string (nullable = true)\n",
      " |-- Actor1CountryCode: string (nullable = true)\n",
      " |-- Actor1KnownGroupCode: string (nullable = true)\n",
      " |-- Actor1EthnicCode: string (nullable = true)\n",
      " |-- Actor1Religion1Code: string (nullable = true)\n",
      " |-- Actor1Religion2Code: string (nullable = true)\n",
      " |-- Actor1Type1Code: string (nullable = true)\n",
      " |-- Actor1Type2Code: string (nullable = true)\n",
      " |-- Actor1Type3Code: string (nullable = true)\n",
      " |-- Actor2Code: string (nullable = true)\n",
      " |-- Actor2Name: string (nullable = true)\n",
      " |-- Actor2CountryCode: string (nullable = true)\n",
      " |-- Actor2KnownGroupCode: string (nullable = true)\n",
      " |-- Actor2EthnicCode: string (nullable = true)\n",
      " |-- Actor2Religion1Code: string (nullable = true)\n",
      " |-- Actor2Religion2Code: string (nullable = true)\n",
      " |-- Actor2Type1Code: string (nullable = true)\n",
      " |-- Actor2Type2Code: string (nullable = true)\n",
      " |-- Actor2Type3Code: string (nullable = true)\n",
      " |-- IsRootEvent: long (nullable = true)\n",
      " |-- EventCode: string (nullable = true)\n",
      " |-- EventBaseCode: string (nullable = true)\n",
      " |-- EventRootCode: string (nullable = true)\n",
      " |-- QuadClass: long (nullable = true)\n",
      " |-- GoldsteinScale: double (nullable = true)\n",
      " |-- NumMentions: long (nullable = true)\n",
      " |-- NumSources: long (nullable = true)\n",
      " |-- NumArticles: long (nullable = true)\n",
      " |-- AvgTone: double (nullable = true)\n",
      " |-- Actor1Geo_Type: long (nullable = true)\n",
      " |-- Actor1Geo_FullName: string (nullable = true)\n",
      " |-- Actor1Geo_CountryCode: string (nullable = true)\n",
      " |-- Actor1Geo_ADM1Code: string (nullable = true)\n",
      " |-- Actor1Geo_ADM2Code: string (nullable = true)\n",
      " |-- Actor1Geo_Lat: double (nullable = true)\n",
      " |-- Actor1Geo_Long: double (nullable = true)\n",
      " |-- Actor1Geo_FeatureID: string (nullable = true)\n",
      " |-- Actor2Geo_Type: long (nullable = true)\n",
      " |-- Actor2Geo_FullName: string (nullable = true)\n",
      " |-- Actor2Geo_CountryCode: string (nullable = true)\n",
      " |-- Actor2Geo_ADM1Code: string (nullable = true)\n",
      " |-- Actor2Geo_ADM2Code: string (nullable = true)\n",
      " |-- Actor2Geo_Lat: double (nullable = true)\n",
      " |-- Actor2Geo_Long: double (nullable = true)\n",
      " |-- Actor2Geo_FeatureID: string (nullable = true)\n",
      " |-- ActionGeo_Type: long (nullable = true)\n",
      " |-- ActionGeo_FullName: string (nullable = true)\n",
      " |-- ActionGeo_CountryCode: string (nullable = true)\n",
      " |-- ActionGeo_ADM1Code: string (nullable = true)\n",
      " |-- ActionGeo_ADM2Code: string (nullable = true)\n",
      " |-- ActionGeo_Lat: double (nullable = true)\n",
      " |-- ActionGeo_Long: double (nullable = true)\n",
      " |-- ActionGeo_FeatureID: string (nullable = true)\n",
      " |-- DATEADDED: long (nullable = true)\n",
      " |-- SOURCEURL: string (nullable = true)\n",
      " |-- Year: integer (nullable = true)\n",
      " |-- MonthYear: integer (nullable = true)"
     ]
    }
   ],
   "source": [
    "df_v2.printSchema()"
   ]
  },
  {
   "cell_type": "markdown",
   "id": "55fc0290-92a2-4433-927f-99c77ab7f285",
   "metadata": {},
   "source": [
    "As seen above, we have 3 new columns for gdelt v2: `Actor1Geo_ADM2Code`, `Actor2Geo_ADM2Code`, `ActionGeo_ADM2Code`. Because they are not needed in our analysis, we can drop these columns."
   ]
  },
  {
   "cell_type": "markdown",
   "id": "4d485481-7254-499b-8bad-6eff388ae69f",
   "metadata": {
    "execution": {
     "iopub.execute_input": "2022-03-09T14:43:03.205937Z",
     "iopub.status.busy": "2022-03-09T14:43:03.205654Z",
     "iopub.status.idle": "2022-03-09T14:43:03.259080Z",
     "shell.execute_reply": "2022-03-09T14:43:03.258562Z",
     "shell.execute_reply.started": "2022-03-09T14:43:03.205910Z"
    }
   },
   "source": [
    "### Drop excess columns"
   ]
  },
  {
   "cell_type": "code",
   "execution_count": 14,
   "id": "c8c0bee3-29e5-45e6-ba95-4443a6073e25",
   "metadata": {
    "execution": {
     "iopub.execute_input": "2022-03-09T15:28:30.889753Z",
     "iopub.status.busy": "2022-03-09T15:28:30.889477Z",
     "iopub.status.idle": "2022-03-09T15:28:30.954566Z",
     "shell.execute_reply": "2022-03-09T15:28:30.953801Z",
     "shell.execute_reply.started": "2022-03-09T15:28:30.889699Z"
    },
    "tags": []
   },
   "outputs": [
    {
     "data": {
      "application/vnd.jupyter.widget-view+json": {
       "model_id": "7e1ff8ff497747eb8924146486cc01db",
       "version_major": 2,
       "version_minor": 0
      },
      "text/plain": [
       "VBox()"
      ]
     },
     "metadata": {},
     "output_type": "display_data"
    },
    {
     "data": {
      "application/vnd.jupyter.widget-view+json": {
       "model_id": "",
       "version_major": 2,
       "version_minor": 0
      },
      "text/plain": [
       "FloatProgress(value=0.0, bar_style='info', description='Progress:', layout=Layout(height='25px', width='50%'),…"
      ]
     },
     "metadata": {},
     "output_type": "display_data"
    }
   ],
   "source": [
    "columns_to_drop = ['Actor1Geo_ADM2Code', 'Actor2Geo_ADM2Code', 'ActionGeo_ADM2Code']\n",
    "df_v2 = df_v2.drop(*columns_to_drop)"
   ]
  },
  {
   "cell_type": "markdown",
   "id": "c91cf8b9-f8e9-48f6-bb6e-5a9858c5904a",
   "metadata": {},
   "source": [
    "### Count rows and check per year"
   ]
  },
  {
   "cell_type": "code",
   "execution_count": 15,
   "id": "c9d74a07-533d-47f7-96ef-56ba6612a61e",
   "metadata": {
    "execution": {
     "iopub.execute_input": "2022-03-09T15:28:32.784269Z",
     "iopub.status.busy": "2022-03-09T15:28:32.784053Z",
     "iopub.status.idle": "2022-03-09T15:28:38.080565Z",
     "shell.execute_reply": "2022-03-09T15:28:38.080006Z",
     "shell.execute_reply.started": "2022-03-09T15:28:32.784244Z"
    },
    "tags": []
   },
   "outputs": [
    {
     "data": {
      "application/vnd.jupyter.widget-view+json": {
       "model_id": "5f2114f95c9f4133b5754c5cc1c176ae",
       "version_major": 2,
       "version_minor": 0
      },
      "text/plain": [
       "VBox()"
      ]
     },
     "metadata": {},
     "output_type": "display_data"
    },
    {
     "data": {
      "application/vnd.jupyter.widget-view+json": {
       "model_id": "",
       "version_major": 2,
       "version_minor": 0
      },
      "text/plain": [
       "FloatProgress(value=0.0, bar_style='info', description='Progress:', layout=Layout(height='25px', width='50%'),…"
      ]
     },
     "metadata": {},
     "output_type": "display_data"
    },
    {
     "name": "stdout",
     "output_type": "stream",
     "text": [
      "619651383"
     ]
    }
   ],
   "source": [
    "df_v2.count()"
   ]
  },
  {
   "cell_type": "code",
   "execution_count": 16,
   "id": "5ac88d79-e571-4c39-8f91-d7110da853ee",
   "metadata": {
    "execution": {
     "iopub.execute_input": "2022-03-09T15:28:38.081878Z",
     "iopub.status.busy": "2022-03-09T15:28:38.081604Z",
     "iopub.status.idle": "2022-03-09T15:28:43.367309Z",
     "shell.execute_reply": "2022-03-09T15:28:43.366636Z",
     "shell.execute_reply.started": "2022-03-09T15:28:38.081853Z"
    },
    "tags": []
   },
   "outputs": [
    {
     "data": {
      "application/vnd.jupyter.widget-view+json": {
       "model_id": "3f18c2895eba47d7b7c2539bb41f9dea",
       "version_major": 2,
       "version_minor": 0
      },
      "text/plain": [
       "VBox()"
      ]
     },
     "metadata": {},
     "output_type": "display_data"
    },
    {
     "data": {
      "application/vnd.jupyter.widget-view+json": {
       "model_id": "",
       "version_major": 2,
       "version_minor": 0
      },
      "text/plain": [
       "FloatProgress(value=0.0, bar_style='info', description='Progress:', layout=Layout(height='25px', width='50%'),…"
      ]
     },
     "metadata": {},
     "output_type": "display_data"
    },
    {
     "name": "stdout",
     "output_type": "stream",
     "text": [
      "+----+---------+\n",
      "|year|    count|\n",
      "+----+---------+\n",
      "|2022| 11233162|\n",
      "|2021| 58835556|\n",
      "|2020| 65355708|\n",
      "|2019| 82320409|\n",
      "|2018| 94274806|\n",
      "|2017|105043785|\n",
      "|2016|114490697|\n",
      "|2015| 88097260|\n",
      "+----+---------+"
     ]
    }
   ],
   "source": [
    "(df_v2.groupby('year')\n",
    "      .count()\n",
    "      .orderBy(desc('year'))\n",
    "      .show())"
   ]
  },
  {
   "cell_type": "markdown",
   "id": "cb268df7-586b-4206-8e4e-19a7b34c5142",
   "metadata": {},
   "source": [
    "# unionByName all dataframes"
   ]
  },
  {
   "cell_type": "code",
   "execution_count": 17,
   "id": "646ae162-3246-40fc-aeda-13c20b471fde",
   "metadata": {
    "execution": {
     "iopub.execute_input": "2022-03-09T15:28:43.406063Z",
     "iopub.status.busy": "2022-03-09T15:28:43.405829Z",
     "iopub.status.idle": "2022-03-09T15:28:43.671440Z",
     "shell.execute_reply": "2022-03-09T15:28:43.670847Z",
     "shell.execute_reply.started": "2022-03-09T15:28:43.406039Z"
    },
    "tags": []
   },
   "outputs": [
    {
     "data": {
      "application/vnd.jupyter.widget-view+json": {
       "model_id": "667437000d3041ac86b236395f39b354",
       "version_major": 2,
       "version_minor": 0
      },
      "text/plain": [
       "VBox()"
      ]
     },
     "metadata": {},
     "output_type": "display_data"
    },
    {
     "data": {
      "application/vnd.jupyter.widget-view+json": {
       "model_id": "",
       "version_major": 2,
       "version_minor": 0
      },
      "text/plain": [
       "FloatProgress(value=0.0, bar_style='info', description='Progress:', layout=Layout(height='25px', width='50%'),…"
      ]
     },
     "metadata": {},
     "output_type": "display_data"
    }
   ],
   "source": [
    "from functools import reduce\n",
    "from pyspark.sql import DataFrame\n",
    "\n",
    "def union_all(*dfs):\n",
    "    return reduce(DataFrame.unionByName, dfs)\n",
    "\n",
    "\n",
    "my_dic = {}\n",
    "my_dic['df_v1'] = df_v1\n",
    "my_dic['df_v2'] = df_v2\n",
    "\n",
    "df_combined = union_all(*my_dic.values())"
   ]
  },
  {
   "cell_type": "code",
   "execution_count": 19,
   "id": "394c6613-1667-4e27-b22f-1ea7a88fe707",
   "metadata": {
    "execution": {
     "iopub.execute_input": "2022-03-09T15:30:06.019394Z",
     "iopub.status.busy": "2022-03-09T15:30:06.019173Z",
     "iopub.status.idle": "2022-03-09T16:36:10.618821Z",
     "shell.execute_reply": "2022-03-09T16:36:10.618198Z",
     "shell.execute_reply.started": "2022-03-09T15:30:06.019372Z"
    },
    "tags": []
   },
   "outputs": [
    {
     "data": {
      "application/vnd.jupyter.widget-view+json": {
       "model_id": "77b833642cfb4c0980d53815e491bb8d",
       "version_major": 2,
       "version_minor": 0
      },
      "text/plain": [
       "VBox()"
      ]
     },
     "metadata": {},
     "output_type": "display_data"
    },
    {
     "data": {
      "application/vnd.jupyter.widget-view+json": {
       "model_id": "",
       "version_major": 2,
       "version_minor": 0
      },
      "text/plain": [
       "FloatProgress(value=0.0, bar_style='info', description='Progress:', layout=Layout(height='25px', width='50%'),…"
      ]
     },
     "metadata": {},
     "output_type": "display_data"
    }
   ],
   "source": [
    "df_combined.write.parquet(\n",
    "    's3://bdcc-final-project-bucket/df_combined.parquet',\n",
    "    partitionBy=['Year', 'MonthYear'])"
   ]
  },
  {
   "cell_type": "markdown",
   "id": "fd9cbb42-7ef0-407a-9e53-b04d7a5b9182",
   "metadata": {},
   "source": [
    "# Check file"
   ]
  },
  {
   "cell_type": "code",
   "execution_count": 21,
   "id": "1ebee57e-9c1c-4263-973f-14f2247573e3",
   "metadata": {
    "execution": {
     "iopub.execute_input": "2022-03-09T16:39:36.446945Z",
     "iopub.status.busy": "2022-03-09T16:39:36.446722Z",
     "iopub.status.idle": "2022-03-09T16:39:47.737224Z",
     "shell.execute_reply": "2022-03-09T16:39:47.736503Z",
     "shell.execute_reply.started": "2022-03-09T16:39:36.446920Z"
    },
    "tags": []
   },
   "outputs": [
    {
     "data": {
      "application/vnd.jupyter.widget-view+json": {
       "model_id": "bf59865f66744bb1b488aa69afb19680",
       "version_major": 2,
       "version_minor": 0
      },
      "text/plain": [
       "VBox()"
      ]
     },
     "metadata": {},
     "output_type": "display_data"
    },
    {
     "data": {
      "application/vnd.jupyter.widget-view+json": {
       "model_id": "",
       "version_major": 2,
       "version_minor": 0
      },
      "text/plain": [
       "FloatProgress(value=0.0, bar_style='info', description='Progress:', layout=Layout(height='25px', width='50%'),…"
      ]
     },
     "metadata": {},
     "output_type": "display_data"
    }
   ],
   "source": [
    "df_combined_check = spark.read.parquet(\n",
    "    's3://bdcc-final-project-bucket/df_combined.parquet')"
   ]
  },
  {
   "cell_type": "code",
   "execution_count": 22,
   "id": "b6c2dded-8d83-4d5c-b879-7d4fc231c774",
   "metadata": {
    "execution": {
     "iopub.execute_input": "2022-03-09T16:39:47.738637Z",
     "iopub.status.busy": "2022-03-09T16:39:47.738407Z",
     "iopub.status.idle": "2022-03-09T16:39:47.797023Z",
     "shell.execute_reply": "2022-03-09T16:39:47.795993Z",
     "shell.execute_reply.started": "2022-03-09T16:39:47.738602Z"
    },
    "tags": []
   },
   "outputs": [
    {
     "data": {
      "application/vnd.jupyter.widget-view+json": {
       "model_id": "4c3840c44c47409aa5698c95fa7e641f",
       "version_major": 2,
       "version_minor": 0
      },
      "text/plain": [
       "VBox()"
      ]
     },
     "metadata": {},
     "output_type": "display_data"
    },
    {
     "data": {
      "application/vnd.jupyter.widget-view+json": {
       "model_id": "",
       "version_major": 2,
       "version_minor": 0
      },
      "text/plain": [
       "FloatProgress(value=0.0, bar_style='info', description='Progress:', layout=Layout(height='25px', width='50%'),…"
      ]
     },
     "metadata": {},
     "output_type": "display_data"
    },
    {
     "name": "stdout",
     "output_type": "stream",
     "text": [
      "root\n",
      " |-- GLOBALEVENTID: string (nullable = true)\n",
      " |-- SQLDATE: string (nullable = true)\n",
      " |-- FractionDate: string (nullable = true)\n",
      " |-- Actor1Code: string (nullable = true)\n",
      " |-- Actor1Name: string (nullable = true)\n",
      " |-- Actor1CountryCode: string (nullable = true)\n",
      " |-- Actor1KnownGroupCode: string (nullable = true)\n",
      " |-- Actor1EthnicCode: string (nullable = true)\n",
      " |-- Actor1Religion1Code: string (nullable = true)\n",
      " |-- Actor1Religion2Code: string (nullable = true)\n",
      " |-- Actor1Type1Code: string (nullable = true)\n",
      " |-- Actor1Type2Code: string (nullable = true)\n",
      " |-- Actor1Type3Code: string (nullable = true)\n",
      " |-- Actor2Code: string (nullable = true)\n",
      " |-- Actor2Name: string (nullable = true)\n",
      " |-- Actor2CountryCode: string (nullable = true)\n",
      " |-- Actor2KnownGroupCode: string (nullable = true)\n",
      " |-- Actor2EthnicCode: string (nullable = true)\n",
      " |-- Actor2Religion1Code: string (nullable = true)\n",
      " |-- Actor2Religion2Code: string (nullable = true)\n",
      " |-- Actor2Type1Code: string (nullable = true)\n",
      " |-- Actor2Type2Code: string (nullable = true)\n",
      " |-- Actor2Type3Code: string (nullable = true)\n",
      " |-- IsRootEvent: string (nullable = true)\n",
      " |-- EventCode: string (nullable = true)\n",
      " |-- EventBaseCode: string (nullable = true)\n",
      " |-- EventRootCode: string (nullable = true)\n",
      " |-- QuadClass: string (nullable = true)\n",
      " |-- GoldsteinScale: string (nullable = true)\n",
      " |-- NumMentions: string (nullable = true)\n",
      " |-- NumSources: string (nullable = true)\n",
      " |-- NumArticles: string (nullable = true)\n",
      " |-- AvgTone: string (nullable = true)\n",
      " |-- Actor1Geo_Type: string (nullable = true)\n",
      " |-- Actor1Geo_FullName: string (nullable = true)\n",
      " |-- Actor1Geo_CountryCode: string (nullable = true)\n",
      " |-- Actor1Geo_ADM1Code: string (nullable = true)\n",
      " |-- Actor1Geo_Lat: string (nullable = true)\n",
      " |-- Actor1Geo_Long: string (nullable = true)\n",
      " |-- Actor1Geo_FeatureID: string (nullable = true)\n",
      " |-- Actor2Geo_Type: string (nullable = true)\n",
      " |-- Actor2Geo_FullName: string (nullable = true)\n",
      " |-- Actor2Geo_CountryCode: string (nullable = true)\n",
      " |-- Actor2Geo_ADM1Code: string (nullable = true)\n",
      " |-- Actor2Geo_Lat: string (nullable = true)\n",
      " |-- Actor2Geo_Long: string (nullable = true)\n",
      " |-- Actor2Geo_FeatureID: string (nullable = true)\n",
      " |-- ActionGeo_Type: string (nullable = true)\n",
      " |-- ActionGeo_FullName: string (nullable = true)\n",
      " |-- ActionGeo_CountryCode: string (nullable = true)\n",
      " |-- ActionGeo_ADM1Code: string (nullable = true)\n",
      " |-- ActionGeo_Lat: string (nullable = true)\n",
      " |-- ActionGeo_Long: string (nullable = true)\n",
      " |-- ActionGeo_FeatureID: string (nullable = true)\n",
      " |-- DATEADDED: string (nullable = true)\n",
      " |-- SOURCEURL: string (nullable = true)\n",
      " |-- Year: integer (nullable = true)\n",
      " |-- MonthYear: integer (nullable = true)"
     ]
    }
   ],
   "source": [
    "df_combined_check.printSchema()"
   ]
  },
  {
   "cell_type": "code",
   "execution_count": 27,
   "id": "7569b5e4-cac0-4df0-8a26-26dad6a57714",
   "metadata": {
    "execution": {
     "iopub.execute_input": "2022-03-09T16:41:15.153387Z",
     "iopub.status.busy": "2022-03-09T16:41:15.153136Z",
     "iopub.status.idle": "2022-03-09T16:41:32.486830Z",
     "shell.execute_reply": "2022-03-09T16:41:32.486151Z",
     "shell.execute_reply.started": "2022-03-09T16:41:15.153336Z"
    },
    "tags": []
   },
   "outputs": [
    {
     "data": {
      "application/vnd.jupyter.widget-view+json": {
       "model_id": "753d3715b888456a990b5305425ff050",
       "version_major": 2,
       "version_minor": 0
      },
      "text/plain": [
       "VBox()"
      ]
     },
     "metadata": {},
     "output_type": "display_data"
    },
    {
     "data": {
      "application/vnd.jupyter.widget-view+json": {
       "model_id": "",
       "version_major": 2,
       "version_minor": 0
      },
      "text/plain": [
       "FloatProgress(value=0.0, bar_style='info', description='Progress:', layout=Layout(height='25px', width='50%'),…"
      ]
     },
     "metadata": {},
     "output_type": "display_data"
    },
    {
     "name": "stdout",
     "output_type": "stream",
     "text": [
      "+----+---------+\n",
      "|year|    count|\n",
      "+----+---------+\n",
      "|2022| 11233162|\n",
      "|2021| 58835556|\n",
      "|2020| 65355708|\n",
      "|2019| 82320409|\n",
      "|2018| 94274806|\n",
      "|2017|105043785|\n",
      "|2016|114490697|\n",
      "|2015| 88097260|\n",
      "|2014| 48381955|\n",
      "|2013| 27407188|\n",
      "+----+---------+"
     ]
    }
   ],
   "source": [
    "(df_combined_check.groupby('year')\n",
    "                  .count()\n",
    "                  .orderBy(desc('year'))\n",
    "                  .show())"
   ]
  },
  {
   "cell_type": "code",
   "execution_count": 28,
   "id": "22e879f2-5eab-46be-885d-a47719a919a7",
   "metadata": {
    "execution": {
     "iopub.execute_input": "2022-03-09T16:41:32.487992Z",
     "iopub.status.busy": "2022-03-09T16:41:32.487820Z",
     "iopub.status.idle": "2022-03-09T16:41:35.769154Z",
     "shell.execute_reply": "2022-03-09T16:41:35.768501Z",
     "shell.execute_reply.started": "2022-03-09T16:41:32.487970Z"
    },
    "tags": []
   },
   "outputs": [
    {
     "data": {
      "application/vnd.jupyter.widget-view+json": {
       "model_id": "019d6586ee064f93a5096a61d291e6d4",
       "version_major": 2,
       "version_minor": 0
      },
      "text/plain": [
       "VBox()"
      ]
     },
     "metadata": {},
     "output_type": "display_data"
    },
    {
     "data": {
      "application/vnd.jupyter.widget-view+json": {
       "model_id": "",
       "version_major": 2,
       "version_minor": 0
      },
      "text/plain": [
       "FloatProgress(value=0.0, bar_style='info', description='Progress:', layout=Layout(height='25px', width='50%'),…"
      ]
     },
     "metadata": {},
     "output_type": "display_data"
    },
    {
     "name": "stdout",
     "output_type": "stream",
     "text": [
      "695440526"
     ]
    }
   ],
   "source": [
    "df_combined_check.count()"
   ]
  },
  {
   "cell_type": "markdown",
   "id": "4c713318-4e34-45c8-bda6-0d405106fcb2",
   "metadata": {},
   "source": [
    "The total must be 695,440,526."
   ]
  },
  {
   "cell_type": "markdown",
   "id": "841ca21c-4633-451e-ad26-622bbccd54c5",
   "metadata": {},
   "source": [
    "# Filter and save as `war_ukr_rus_w_internal.parquet`"
   ]
  },
  {
   "cell_type": "code",
   "execution_count": null,
   "id": "e6d07b2e-b14f-460b-818e-2e8f4f9f2cae",
   "metadata": {},
   "outputs": [],
   "source": [
    "df_filtered = spark.read.parquet('s3://bdcc-final-project-bucket/df_combined.parquet/')"
   ]
  },
  {
   "cell_type": "code",
   "execution_count": null,
   "id": "95b0cca0-f2b2-496b-98c3-927c8b0e9e3b",
   "metadata": {},
   "outputs": [],
   "source": [
    "df_filtered.printSchema()"
   ]
  },
  {
   "cell_type": "code",
   "execution_count": null,
   "id": "77904005-9ec7-4392-8ea9-66a7955935db",
   "metadata": {},
   "outputs": [],
   "source": [
    "df_filtered.createOrReplaceTempView('df_filtered')"
   ]
  },
  {
   "cell_type": "code",
   "execution_count": null,
   "id": "f5b41e43-87fd-4daf-bcae-4e7b8d74c9f6",
   "metadata": {},
   "outputs": [],
   "source": [
    "event_codes_path = 's3://bdcc-lab2-bucket/parquet_files/CAMEO.eventcodes.txt'\n",
    "desc_eventTab = spark.sparkContext.textFile(event_codes_path)\n",
    "header = desc_eventTab.first()\n",
    "\n",
    "# Filter out the header, make sure the rest looks correct\n",
    "log_txt = desc_eventTab.filter(lambda line: line != header)\n",
    "temp_var = log_txt.map(lambda k: k.split(\"\\t\"))\n",
    "event_desc = temp_var.toDF(header.split(\"\\t\"))\n",
    "print('Selected Event Codes from the Dataset'\n",
    "      ' and its Corresponding Descriptions')\n",
    "event_desc.show(10, truncate=False)\n",
    "\n",
    "# For local temporary view of this DataFrame\n",
    "event_desc.createOrReplaceTempView('event_desc')"
   ]
  },
  {
   "cell_type": "code",
   "execution_count": null,
   "id": "43b3c503-b97a-458a-96ef-e139baabf344",
   "metadata": {},
   "outputs": [],
   "source": [
    "df_filtered_1 = spark.sql(\n",
    "    \"\"\"select distinct *\n",
    "    from (\n",
    "        select GLOBALEVENTID,\n",
    "               Actor1Name,\n",
    "               Actor2Name,\n",
    "               Actor1CountryCode,\n",
    "               Actor2CountryCode,\n",
    "               AvgTone,\n",
    "               NumMentions,\n",
    "               GoldSteinScale,\n",
    "               EventRootCode,\n",
    "               EventBaseCode,\n",
    "               EventCode,\n",
    "               SQLDATE,\n",
    "               MonthYear,\n",
    "               Year,\n",
    "               SOURCEURL\n",
    "        from df_filtered\n",
    "        where (\n",
    "              (Actor1CountryCode in ('CHN', 'USA', 'GBR',\n",
    "                                    'FRA', 'RUS', 'UKR') and\n",
    "               Actor2CountryCode in ('UKR', 'RUS')\n",
    "              )\n",
    "              or\n",
    "              (Actor2CountryCode in ('CHN', 'USA', 'GBR',\n",
    "                                    'FRA', 'RUS', 'UKR') and\n",
    "               Actor1CountryCode in ('UKR', 'RUS')\n",
    "              )\n",
    "              )\n",
    "              and\n",
    "               Actor2CountryCode != '' and\n",
    "               AvgTone != '' and\n",
    "               NumMentions != '' and\n",
    "               GoldSteinScale != '' and\n",
    "               (rlike(df_filtered.SOURCEURL,\n",
    "\"(?i).*?(war|conflict|aggress|crisis|invade|attack|invasion\"\n",
    "\"|weapon|nuclear|military|army|politic|alliance|battle|airforce\"\n",
    "\"|marine|combat|fight|soldier|discord|martial|power|violence\"\n",
    "\"|peace|negotiat|agree|coalition|ally|aid|sanction|refuge|defen|offen).*?\"))\n",
    "        )\n",
    "        join event_desc on event_desc.CAMEOEVENTCODE == EventCode\n",
    "        order by SQLDATE\n",
    "        \"\"\"\n",
    "           )\n",
    "df_filtered_1.show()"
   ]
  },
  {
   "cell_type": "code",
   "execution_count": null,
   "id": "362e9581-2dc0-4a64-a436-8c172f819740",
   "metadata": {},
   "outputs": [],
   "source": [
    "df_filtered_1.write.parquet('s3://bdcc-final-project-bucket/war_ukr_rus_w_internal.parquet')"
   ]
  }
 ],
 "metadata": {
  "kernelspec": {
   "display_name": "Python 3 (ipykernel)",
   "language": "python",
   "name": "python3"
  },
  "language_info": {
   "codemirror_mode": {
    "name": "ipython",
    "version": 3
   },
   "file_extension": ".py",
   "mimetype": "text/x-python",
   "name": "python",
   "nbconvert_exporter": "python",
   "pygments_lexer": "ipython3",
   "version": "3.9.6"
  },
  "toc": {
   "base_numbering": 1,
   "nav_menu": {},
   "number_sections": true,
   "sideBar": true,
   "skip_h1_title": false,
   "title_cell": "Table of Contents",
   "title_sidebar": "Contents",
   "toc_cell": false,
   "toc_position": {},
   "toc_section_display": true,
   "toc_window_display": false
  }
 },
 "nbformat": 4,
 "nbformat_minor": 5
}
