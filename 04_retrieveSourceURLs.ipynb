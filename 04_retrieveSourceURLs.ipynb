{
 "cells": [
  {
   "cell_type": "code",
   "execution_count": 1,
   "id": "e8a259c1",
   "metadata": {
    "execution": {
     "iopub.execute_input": "2022-03-10T15:09:32.525445Z",
     "iopub.status.busy": "2022-03-10T15:09:32.525214Z",
     "iopub.status.idle": "2022-03-10T15:10:00.395185Z",
     "shell.execute_reply": "2022-03-10T15:10:00.394540Z",
     "shell.execute_reply.started": "2022-03-10T15:09:32.525422Z"
    },
    "tags": []
   },
   "outputs": [
    {
     "data": {
      "application/vnd.jupyter.widget-view+json": {
       "model_id": "ec6fb00b6032400692f9e0114a00056a",
       "version_major": 2,
       "version_minor": 0
      },
      "text/plain": [
       "VBox()"
      ]
     },
     "metadata": {},
     "output_type": "display_data"
    },
    {
     "name": "stdout",
     "output_type": "stream",
     "text": [
      "Starting Spark application\n"
     ]
    },
    {
     "data": {
      "text/html": [
       "<table>\n",
       "<tr><th>ID</th><th>YARN Application ID</th><th>Kind</th><th>State</th><th>Spark UI</th><th>Driver log</th><th>Current session?</th></tr><tr><td>15</td><td>application_1646890912134_0017</td><td>pyspark</td><td>idle</td><td><a target=\"_blank\" href=\"http://ip-172-31-29-120.ec2.internal:20888/proxy/application_1646890912134_0017/\" class=\"emr-proxy-link\" emr-resource=\"j-29IXC36KOEE8V\n",
       "\" application-id=\"application_1646890912134_0017\">Link</a></td><td><a target=\"_blank\" href=\"http://ip-172-31-25-32.ec2.internal:8042/node/containerlogs/container_1646890912134_0017_01_000001/livy\" >Link</a></td><td>✔</td></tr></table>"
      ],
      "text/plain": [
       "<IPython.core.display.HTML object>"
      ]
     },
     "metadata": {},
     "output_type": "display_data"
    },
    {
     "data": {
      "application/vnd.jupyter.widget-view+json": {
       "model_id": "",
       "version_major": 2,
       "version_minor": 0
      },
      "text/plain": [
       "FloatProgress(value=0.0, bar_style='info', description='Progress:', layout=Layout(height='25px', width='50%'),…"
      ]
     },
     "metadata": {},
     "output_type": "display_data"
    },
    {
     "name": "stdout",
     "output_type": "stream",
     "text": [
      "SparkSession available as 'spark'.\n"
     ]
    },
    {
     "data": {
      "application/vnd.jupyter.widget-view+json": {
       "model_id": "",
       "version_major": 2,
       "version_minor": 0
      },
      "text/plain": [
       "FloatProgress(value=0.0, bar_style='info', description='Progress:', layout=Layout(height='25px', width='50%'),…"
      ]
     },
     "metadata": {},
     "output_type": "display_data"
    }
   ],
   "source": [
    "from pyspark.sql import SparkSession\n",
    "from pyspark.sql.functions import *\n",
    "\n",
    "spark = SparkSession \\\n",
    "        .builder \\\n",
    "        .master('local[*]') \\\n",
    "        .getOrCreate()"
   ]
  },
  {
   "cell_type": "markdown",
   "id": "bcea20d9-3944-418e-9ad1-9f110ec58b88",
   "metadata": {
    "tags": []
   },
   "source": [
    "# Preprocessing: re-save `war_ukr_rus_w_internal.parquet` to include URLs"
   ]
  },
  {
   "cell_type": "code",
   "execution_count": 2,
   "id": "d4861638",
   "metadata": {
    "execution": {
     "iopub.execute_input": "2022-03-10T15:11:12.991132Z",
     "iopub.status.busy": "2022-03-10T15:11:12.990836Z",
     "iopub.status.idle": "2022-03-10T15:11:24.331149Z",
     "shell.execute_reply": "2022-03-10T15:11:24.330408Z",
     "shell.execute_reply.started": "2022-03-10T15:11:12.991098Z"
    },
    "tags": []
   },
   "outputs": [
    {
     "data": {
      "application/vnd.jupyter.widget-view+json": {
       "model_id": "77b3836779a749659acb4f9d264e6724",
       "version_major": 2,
       "version_minor": 0
      },
      "text/plain": [
       "VBox()"
      ]
     },
     "metadata": {},
     "output_type": "display_data"
    },
    {
     "data": {
      "application/vnd.jupyter.widget-view+json": {
       "model_id": "",
       "version_major": 2,
       "version_minor": 0
      },
      "text/plain": [
       "FloatProgress(value=0.0, bar_style='info', description='Progress:', layout=Layout(height='25px', width='50%'),…"
      ]
     },
     "metadata": {},
     "output_type": "display_data"
    }
   ],
   "source": [
    "path = \"s3://bdcc-final-project-bucket/war_ukr_rus_w_internal.parquet/\"\n",
    "data = spark.read.parquet(path)\n",
    "data.createOrReplaceTempView('data')"
   ]
  },
  {
   "cell_type": "code",
   "execution_count": 3,
   "id": "b6aae99e",
   "metadata": {
    "execution": {
     "iopub.execute_input": "2022-03-10T15:11:58.104639Z",
     "iopub.status.busy": "2022-03-10T15:11:58.104419Z",
     "iopub.status.idle": "2022-03-10T15:12:19.517077Z",
     "shell.execute_reply": "2022-03-10T15:12:19.508662Z",
     "shell.execute_reply.started": "2022-03-10T15:11:58.104617Z"
    },
    "tags": []
   },
   "outputs": [
    {
     "data": {
      "application/vnd.jupyter.widget-view+json": {
       "model_id": "4db75281843348b5ae7b130ddb464fe4",
       "version_major": 2,
       "version_minor": 0
      },
      "text/plain": [
       "VBox()"
      ]
     },
     "metadata": {},
     "output_type": "display_data"
    },
    {
     "data": {
      "application/vnd.jupyter.widget-view+json": {
       "model_id": "",
       "version_major": 2,
       "version_minor": 0
      },
      "text/plain": [
       "FloatProgress(value=0.0, bar_style='info', description='Progress:', layout=Layout(height='25px', width='50%'),…"
      ]
     },
     "metadata": {},
     "output_type": "display_data"
    },
    {
     "name": "stdout",
     "output_type": "stream",
     "text": [
      "+---------+----------+-----------------+-----------+--------------+--------------------+--------+--------------------+\n",
      "|MonthYear|Actor1Name|          AvgTone|NumMentions|GoldSteinScale|             itemset|trans_id|           SOURCEURL|\n",
      "+---------+----------+-----------------+-----------+--------------+--------------------+--------+--------------------+\n",
      "|   201301|     CHINA| 2.36724248240563|        5.0|           0.0|[CHINA_1,RUSSIA_2...|  299465|http://www.newyor...|\n",
      "|   201301|    MOSCOW|0.969088640789692|       31.0|          -5.0|[MOSCOW_1,WALL ST...|  512305|http://www.global...|\n",
      "+---------+----------+-----------------+-----------+--------------+--------------------+--------+--------------------+\n",
      "only showing top 2 rows"
     ]
    }
   ],
   "source": [
    "transactions1 = spark.sql(\"\"\"\n",
    "    select MonthYear,\n",
    "           Actor1Name,\n",
    "           avg(AvgTone) as AvgTone,\n",
    "           sum(NumMentions) as NumMentions,\n",
    "           avg(GoldSteinScale) as GoldSteinScale,\n",
    "           collect_set(\n",
    "                       concat(\n",
    "                              Actor1Name,'_1', ',',\n",
    "                              Actor2Name, '_2', ',',\n",
    "                              Actor2CountryCode, '-',\n",
    "                              EVENTDESCRIPTION\n",
    "                              )\n",
    "                       ) as itemset,\n",
    "            row_number() over (order by (select 1)) as trans_id,\n",
    "            SOURCEURL\n",
    "        from data\n",
    "        group by MonthYear, Actor1Name, SOURCEURL\n",
    "        order by MonthYear asc, Actor1Name asc\n",
    "        \"\"\")\n",
    "\n",
    "transactions2 = transactions1.withColumn(\n",
    "    'itemset', array_distinct(split(transactions1['itemset'][0], '-')))\n",
    "\n",
    "transactions2.show(2)"
   ]
  },
  {
   "cell_type": "code",
   "execution_count": 4,
   "id": "b574b1d9",
   "metadata": {
    "execution": {
     "iopub.execute_input": "2022-03-10T15:12:19.518684Z",
     "iopub.status.busy": "2022-03-10T15:12:19.518440Z",
     "iopub.status.idle": "2022-03-10T15:12:38.856037Z",
     "shell.execute_reply": "2022-03-10T15:12:38.855316Z",
     "shell.execute_reply.started": "2022-03-10T15:12:19.518651Z"
    },
    "tags": []
   },
   "outputs": [
    {
     "data": {
      "application/vnd.jupyter.widget-view+json": {
       "model_id": "d58279c041804cb8a233fa23516e2481",
       "version_major": 2,
       "version_minor": 0
      },
      "text/plain": [
       "VBox()"
      ]
     },
     "metadata": {},
     "output_type": "display_data"
    },
    {
     "data": {
      "application/vnd.jupyter.widget-view+json": {
       "model_id": "",
       "version_major": 2,
       "version_minor": 0
      },
      "text/plain": [
       "FloatProgress(value=0.0, bar_style='info', description='Progress:', layout=Layout(height='25px', width='50%'),…"
      ]
     },
     "metadata": {},
     "output_type": "display_data"
    }
   ],
   "source": [
    "transactions2.write.parquet(\n",
    "    's3://bdcc-final-project-bucket/itemsets_w_urls-2.parquet')"
   ]
  },
  {
   "cell_type": "code",
   "execution_count": 33,
   "id": "48f8fe26-f2cd-4543-b06e-7783dfbf4068",
   "metadata": {
    "execution": {
     "iopub.execute_input": "2022-03-10T16:23:55.842440Z",
     "iopub.status.busy": "2022-03-10T16:23:55.842183Z",
     "iopub.status.idle": "2022-03-10T16:24:15.169653Z",
     "shell.execute_reply": "2022-03-10T16:24:15.168910Z",
     "shell.execute_reply.started": "2022-03-10T16:23:55.842401Z"
    },
    "tags": []
   },
   "outputs": [
    {
     "data": {
      "application/vnd.jupyter.widget-view+json": {
       "model_id": "13a2b9e6c9ab4b4e996c345bc0639274",
       "version_major": 2,
       "version_minor": 0
      },
      "text/plain": [
       "VBox()"
      ]
     },
     "metadata": {},
     "output_type": "display_data"
    },
    {
     "data": {
      "application/vnd.jupyter.widget-view+json": {
       "model_id": "",
       "version_major": 2,
       "version_minor": 0
      },
      "text/plain": [
       "FloatProgress(value=0.0, bar_style='info', description='Progress:', layout=Layout(height='25px', width='50%'),…"
      ]
     },
     "metadata": {},
     "output_type": "display_data"
    },
    {
     "name": "stdout",
     "output_type": "stream",
     "text": [
      "+----+--------+---------------+--------------------+--------------------+\n",
      "|Year| SQLDATE|     Actor1Name|             itemset|           SOURCEURL|\n",
      "+----+--------+---------------+--------------------+--------------------+\n",
      "|2013|20130110|   NORTH DAKOTA|[NORTH DAKOTA_1, ...|http://www.herald...|\n",
      "|2013|20130304|        UKRAINE|[UKRAINE_1, WASHI...|http://www.csmoni...|\n",
      "|2013|20130304| UNITED KINGDOM|[UNITED KINGDOM_1...|http://www.newrep...|\n",
      "|2013|20130402|         RUSSIA|[RUSSIA_1, CHINA_...|http://www.thenew...|\n",
      "|2013|20130402|THE WHITE HOUSE|[THE WHITE HOUSE_...|http://thehill.co...|\n",
      "+----+--------+---------------+--------------------+--------------------+"
     ]
    }
   ],
   "source": [
    "trans_db = spark.sql(\n",
    "    \"\"\"\n",
    "    SELECT\n",
    "        Year,\n",
    "        SQLDATE,\n",
    "        Actor1Name,\n",
    "        COLLECT_SET(CONCAT(\n",
    "            Actor1Name, \"_1\", \", \",\n",
    "            Actor2Name, \"_2\", \", \",\n",
    "            Actor2CountryCode, \"-\",\n",
    "            EVENTDESCRIPTION\n",
    "        )) AS itemset,\n",
    "        SOURCEURL\n",
    "    FROM data\n",
    "    GROUP BY Year, SQLDATE, Actor1Name, SOURCEURL\n",
    "    \"\"\"\n",
    ")\n",
    "\n",
    "trans_db.limit(5).show()"
   ]
  },
  {
   "cell_type": "code",
   "execution_count": 34,
   "id": "c9877114-b46f-458c-b027-ff1ced9d3ebb",
   "metadata": {
    "execution": {
     "iopub.execute_input": "2022-03-10T16:24:29.321257Z",
     "iopub.status.busy": "2022-03-10T16:24:29.321010Z",
     "iopub.status.idle": "2022-03-10T16:24:40.620809Z",
     "shell.execute_reply": "2022-03-10T16:24:40.620040Z",
     "shell.execute_reply.started": "2022-03-10T16:24:29.321232Z"
    },
    "tags": []
   },
   "outputs": [
    {
     "data": {
      "application/vnd.jupyter.widget-view+json": {
       "model_id": "7e44b8d0da5143af9385d8b3ae4841f0",
       "version_major": 2,
       "version_minor": 0
      },
      "text/plain": [
       "VBox()"
      ]
     },
     "metadata": {},
     "output_type": "display_data"
    },
    {
     "data": {
      "application/vnd.jupyter.widget-view+json": {
       "model_id": "",
       "version_major": 2,
       "version_minor": 0
      },
      "text/plain": [
       "FloatProgress(value=0.0, bar_style='info', description='Progress:', layout=Layout(height='25px', width='50%'),…"
      ]
     },
     "metadata": {},
     "output_type": "display_data"
    }
   ],
   "source": [
    "trans_db.write.parquet('s3://bdcc-final-project-bucket/itemsets_w_urls-3.parquet')"
   ]
  },
  {
   "cell_type": "markdown",
   "id": "54834ffa-32ec-4228-b757-7bea62247da6",
   "metadata": {},
   "source": [
    "# Retrieve URLs in a Spark dataframe"
   ]
  },
  {
   "cell_type": "code",
   "execution_count": 48,
   "id": "ba4c6d47-457e-4f38-911e-88cfd2683d29",
   "metadata": {
    "execution": {
     "iopub.execute_input": "2022-03-10T16:42:09.166763Z",
     "iopub.status.busy": "2022-03-10T16:42:09.166519Z",
     "iopub.status.idle": "2022-03-10T16:42:09.221507Z",
     "shell.execute_reply": "2022-03-10T16:42:09.220917Z",
     "shell.execute_reply.started": "2022-03-10T16:42:09.166737Z"
    },
    "tags": []
   },
   "outputs": [
    {
     "data": {
      "application/vnd.jupyter.widget-view+json": {
       "model_id": "ac07a0b0252041e8b62a939151a922fe",
       "version_major": 2,
       "version_minor": 0
      },
      "text/plain": [
       "VBox()"
      ]
     },
     "metadata": {},
     "output_type": "display_data"
    },
    {
     "data": {
      "application/vnd.jupyter.widget-view+json": {
       "model_id": "",
       "version_major": 2,
       "version_minor": 0
      },
      "text/plain": [
       "FloatProgress(value=0.0, bar_style='info', description='Progress:', layout=Layout(height='25px', width='50%'),…"
      ]
     },
     "metadata": {},
     "output_type": "display_data"
    }
   ],
   "source": [
    "def df_all_urls(antecedent, consequent, items_to_show='all', truncate=False):\n",
    "    \"\"\"Retrieves a list of `SOURCEURL`s from an inputted\n",
    "    antecendent term and a consequent term.\n",
    "    \n",
    "    Parameters\n",
    "    -----\n",
    "    input_df: dataframe\n",
    "        A dataframe with at least two columns containing (1) an array of\n",
    "        itemsets in the column `itemset`, and (2) the source URLs in the\n",
    "        column `SOURCEURL`.\n",
    "    antecedent: string\n",
    "        Antecedent string.\n",
    "    consequent: string\n",
    "        Consequent string.\n",
    "    items_to_show: string\n",
    "        How many items to show.\n",
    "    truncate: boolean\n",
    "        If a truncated dataframe is desired.\n",
    "    \n",
    "    Output\n",
    "    -----\n",
    "    Spark dataframe\n",
    "        Containing all `SOURCEURL`s\n",
    "    \"\"\"\n",
    "    input_df_path = 's3://bdcc-final-project-bucket/itemsets_w_urls-3.parquet'\n",
    "    input_df = spark.read.parquet(input_df_path)\n",
    "    input_df = input_df.withColumn('itemset', concat_ws(', ', 'itemset'))\n",
    "    search_term = antecedent + ', ' + consequent\n",
    "    if items_to_show == 'all':\n",
    "        return input_df.filter(col(\n",
    "               'itemset').like(search_term)).show(truncate=truncate)\n",
    "    else:\n",
    "        return input_df.filter(col(\n",
    "               'itemset').like(search_term)).show(items_to_show,\n",
    "                                                  truncate=truncate)"
   ]
  },
  {
   "cell_type": "code",
   "execution_count": 56,
   "id": "7b9d2f32-b1fa-4dd2-a3dd-eb727e3889f7",
   "metadata": {
    "execution": {
     "iopub.execute_input": "2022-03-10T17:23:57.207691Z",
     "iopub.status.busy": "2022-03-10T17:23:57.207467Z",
     "iopub.status.idle": "2022-03-10T17:24:06.502707Z",
     "shell.execute_reply": "2022-03-10T17:24:06.502064Z",
     "shell.execute_reply.started": "2022-03-10T17:23:57.207667Z"
    },
    "tags": []
   },
   "outputs": [
    {
     "data": {
      "application/vnd.jupyter.widget-view+json": {
       "model_id": "1329f45161e240a0afcf646ea987a24e",
       "version_major": 2,
       "version_minor": 0
      },
      "text/plain": [
       "VBox()"
      ]
     },
     "metadata": {},
     "output_type": "display_data"
    },
    {
     "data": {
      "application/vnd.jupyter.widget-view+json": {
       "model_id": "",
       "version_major": 2,
       "version_minor": 0
      },
      "text/plain": [
       "FloatProgress(value=0.0, bar_style='info', description='Progress:', layout=Layout(height='25px', width='50%'),…"
      ]
     },
     "metadata": {},
     "output_type": "display_data"
    },
    {
     "name": "stdout",
     "output_type": "stream",
     "text": [
      "+----+--------+-----------+-----------------------------------------------------------------------------------------------------------------------------------------------------------------------------------------------------------------------------------+----------------------------------------------------------------------------------------------------------------------+\n",
      "|Year|SQLDATE |Actor1Name |itemset                                                                                                                                                                                                                            |SOURCEURL                                                                                                             |\n",
      "+----+--------+-----------+-----------------------------------------------------------------------------------------------------------------------------------------------------------------------------------------------------------------------------------+----------------------------------------------------------------------------------------------------------------------+\n",
      "|2013|20131127|RUSSIA     |RUSSIA_1, REUTERS_2, USA-Use conventional military force, not specified below, RUSSIA_1, UKRAINE_2, UKR-Disapprove, not specified below                                                                                            |http://www.firstpost.com/world/five-years-after-war-georgia-defies-russia-over-europe-1254363.html                    |\n",
      "|2013|20131218|KALININGRAD|KALININGRAD_1, RUSSIAN_2, RUS-Use conventional military force, not specified below, KALININGRAD_1, RUSSIAN_2, RUS-Make statement, not specified below, KALININGRAD_1, RUSSIAN_2, RUS-Appeal, not specified below                   |http://english.pravda.ru/russia/politics/18-12-2013/126418-russia_iskander_usa-0/                                     |\n",
      "|2014|20140219|RUSSIAN    |RUSSIAN_1, RUSSIA_2, RUS-Arrest, detain, or charge with legal action , RUSSIAN_1, RUSSIA_2, RUS-Use conventional military force, not specified below, RUSSIAN_1, VLADIMIR PUTIN_2, RUS-Arrest, detain, or charge with legal action |http://www.independent.ie/world-news/europe/russian-security-forces-attack-pussy-riot-members-with-whips-30024750.html|\n",
      "|2014|20140220|RUSSIAN    |RUSSIAN_1, UKRAINE_2, UKR-Make optimistic comment, RUSSIAN_1, UNITED STATES_2, USA-Use conventional military force, not specified below, RUSSIAN_1, RUSSIAN_2, RUS-Make statement, not specified below                             |http://www.firstpost.com/world/dont-be-doormat-russia-warns-cash-starved-kiev-1401269.html                            |\n",
      "|2014|20140220|UKRAINE    |UKRAINE_1, RUSSIA_2, RUS-Use conventional military force, not specified below, UKRAINE_1, RUSSIAN_2, RUS-Use conventional military force, not specified below                                                                      |http://voiceofrussia.com/news/2014_02_20/Russian-diplomatic-mission-malls-in-Ukraine-fend-off-night-attacks-8158/     |\n",
      "+----+--------+-----------+-----------------------------------------------------------------------------------------------------------------------------------------------------------------------------------------------------------------------------------+----------------------------------------------------------------------------------------------------------------------+\n",
      "only showing top 5 rows"
     ]
    }
   ],
   "source": [
    "# Sample\n",
    "df_all_urls('%RUSSIA%Use conventional military force, not specifie%',\n",
    "            '%RUS%', items_to_show=5, truncate=False)"
   ]
  },
  {
   "cell_type": "markdown",
   "id": "4289cbd2-d83f-4997-9de5-4d3e35b16b90",
   "metadata": {},
   "source": [
    "# Retrieve URLs in a csv.gz file in S3 bucket"
   ]
  },
  {
   "cell_type": "code",
   "execution_count": 57,
   "id": "a1ced8f2-13f1-4253-a32c-f330ec5ef7cf",
   "metadata": {
    "execution": {
     "iopub.execute_input": "2022-03-10T17:24:12.107269Z",
     "iopub.status.busy": "2022-03-10T17:24:12.106985Z",
     "iopub.status.idle": "2022-03-10T17:24:12.199339Z",
     "shell.execute_reply": "2022-03-10T17:24:12.197756Z",
     "shell.execute_reply.started": "2022-03-10T17:24:12.107241Z"
    },
    "tags": []
   },
   "outputs": [
    {
     "data": {
      "application/vnd.jupyter.widget-view+json": {
       "model_id": "5dccc3b91bb34125ab6e760ed81e4b6c",
       "version_major": 2,
       "version_minor": 0
      },
      "text/plain": [
       "VBox()"
      ]
     },
     "metadata": {},
     "output_type": "display_data"
    },
    {
     "data": {
      "application/vnd.jupyter.widget-view+json": {
       "model_id": "",
       "version_major": 2,
       "version_minor": 0
      },
      "text/plain": [
       "FloatProgress(value=0.0, bar_style='info', description='Progress:', layout=Layout(height='25px', width='50%'),…"
      ]
     },
     "metadata": {},
     "output_type": "display_data"
    }
   ],
   "source": [
    "def csv_all_urls(antecedent, consequent, path):\n",
    "    \"\"\"Retrieves a list of `SOURCEURL`s from an inputted\n",
    "    antecendent term and a consequent term.\n",
    "    \n",
    "    Parameters\n",
    "    -----\n",
    "    input_df: dataframe\n",
    "        A dataframe with at least two columns containing (1) an array of\n",
    "        itemsets in the column `itemset`, and (2) the source URLs in the\n",
    "        column `SOURCEURL`.\n",
    "    antecedent: string\n",
    "        Antecedent string.\n",
    "    consequent: string\n",
    "        Consequent string.\n",
    "    path: string\n",
    "        Path to s3 bucket.\n",
    "    \n",
    "    Output\n",
    "    -----\n",
    "    csv.gz file\n",
    "        Containing all `SOURCEURL`s\n",
    "    \"\"\"\n",
    "    input_df_path = 's3://bdcc-final-project-bucket/itemsets_w_urls-3.parquet'\n",
    "    input_df = spark.read.parquet(input_df_path)\n",
    "    input_df = input_df.withColumn('itemset', concat_ws(', ', 'itemset'))\n",
    "    search_term = antecedent + ', ' + consequent\n",
    "    output_df = input_df.filter(col('itemset').like(search_term))\n",
    "    return output_df.repartition(1).write.option(\n",
    "                    'header', True).option('compression', 'gzip').csv(path)"
   ]
  },
  {
   "cell_type": "code",
   "execution_count": 59,
   "id": "2977daf6-8a03-457a-8ceb-dc6d7d2b25a1",
   "metadata": {
    "execution": {
     "iopub.execute_input": "2022-03-10T17:24:17.342974Z",
     "iopub.status.busy": "2022-03-10T17:24:17.342732Z",
     "iopub.status.idle": "2022-03-10T17:24:24.633054Z",
     "shell.execute_reply": "2022-03-10T17:24:24.632344Z",
     "shell.execute_reply.started": "2022-03-10T17:24:17.342949Z"
    },
    "tags": []
   },
   "outputs": [
    {
     "data": {
      "application/vnd.jupyter.widget-view+json": {
       "model_id": "f5142db9184d43f5b0b684500ab4c535",
       "version_major": 2,
       "version_minor": 0
      },
      "text/plain": [
       "VBox()"
      ]
     },
     "metadata": {},
     "output_type": "display_data"
    },
    {
     "data": {
      "application/vnd.jupyter.widget-view+json": {
       "model_id": "",
       "version_major": 2,
       "version_minor": 0
      },
      "text/plain": [
       "FloatProgress(value=0.0, bar_style='info', description='Progress:', layout=Layout(height='25px', width='50%'),…"
      ]
     },
     "metadata": {},
     "output_type": "display_data"
    }
   ],
   "source": [
    "# Sample\n",
    "csv_all_urls('%RUSSIA%Use conventional military force, not specifie%',\n",
    "             '%RUS%', 's3://bdcc-final-project-bucket/russia-conv-2')"
   ]
  }
 ],
 "metadata": {
  "kernelspec": {
   "display_name": "Python 3 (ipykernel)",
   "language": "python",
   "name": "python3"
  },
  "language_info": {
   "codemirror_mode": {
    "name": "ipython",
    "version": 3
   },
   "file_extension": ".py",
   "mimetype": "text/x-python",
   "name": "python",
   "nbconvert_exporter": "python",
   "pygments_lexer": "ipython3",
   "version": "3.9.6"
  },
  "toc": {
   "base_numbering": 1,
   "nav_menu": {},
   "number_sections": true,
   "sideBar": true,
   "skip_h1_title": false,
   "title_cell": "Table of Contents",
   "title_sidebar": "Contents",
   "toc_cell": false,
   "toc_position": {},
   "toc_section_display": true,
   "toc_window_display": false
  }
 },
 "nbformat": 4,
 "nbformat_minor": 5
}
