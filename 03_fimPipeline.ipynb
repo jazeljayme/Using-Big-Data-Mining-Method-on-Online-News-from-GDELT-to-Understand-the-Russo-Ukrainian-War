{
 "cells": [
  {
   "cell_type": "code",
   "execution_count": 1,
   "id": "25ee922c",
   "metadata": {
    "execution": {
     "iopub.execute_input": "2022-03-13T11:58:48.399706Z",
     "iopub.status.busy": "2022-03-13T11:58:48.399481Z",
     "iopub.status.idle": "2022-03-13T11:59:16.257757Z",
     "shell.execute_reply": "2022-03-13T11:59:16.257147Z",
     "shell.execute_reply.started": "2022-03-13T11:58:48.399682Z"
    },
    "scrolled": true
   },
   "outputs": [
    {
     "data": {
      "application/vnd.jupyter.widget-view+json": {
       "model_id": "a954daa8792b48d0afd26b47fec98494",
       "version_major": 2,
       "version_minor": 0
      },
      "text/plain": [
       "VBox()"
      ]
     },
     "metadata": {},
     "output_type": "display_data"
    },
    {
     "name": "stdout",
     "output_type": "stream",
     "text": [
      "Starting Spark application\n"
     ]
    },
    {
     "data": {
      "text/html": [
       "<table>\n",
       "<tr><th>ID</th><th>YARN Application ID</th><th>Kind</th><th>State</th><th>Spark UI</th><th>Driver log</th><th>Current session?</th></tr><tr><td>3</td><td>application_1647157037580_0005</td><td>pyspark</td><td>idle</td><td><a target=\"_blank\" href=\"http://ip-172-31-17-80.ec2.internal:20888/proxy/application_1647157037580_0005/\" class=\"emr-proxy-link\" emr-resource=\"j-10ZDDN3X00CG6\n",
       "\" application-id=\"application_1647157037580_0005\">Link</a></td><td><a target=\"_blank\" href=\"http://ip-172-31-28-121.ec2.internal:8042/node/containerlogs/container_1647157037580_0005_01_000001/livy\" >Link</a></td><td>✔</td></tr></table>"
      ],
      "text/plain": [
       "<IPython.core.display.HTML object>"
      ]
     },
     "metadata": {},
     "output_type": "display_data"
    },
    {
     "data": {
      "application/vnd.jupyter.widget-view+json": {
       "model_id": "",
       "version_major": 2,
       "version_minor": 0
      },
      "text/plain": [
       "FloatProgress(value=0.0, bar_style='info', description='Progress:', layout=Layout(height='25px', width='50%'),…"
      ]
     },
     "metadata": {},
     "output_type": "display_data"
    },
    {
     "name": "stdout",
     "output_type": "stream",
     "text": [
      "SparkSession available as 'spark'.\n"
     ]
    },
    {
     "data": {
      "application/vnd.jupyter.widget-view+json": {
       "model_id": "",
       "version_major": 2,
       "version_minor": 0
      },
      "text/plain": [
       "FloatProgress(value=0.0, bar_style='info', description='Progress:', layout=Layout(height='25px', width='50%'),…"
      ]
     },
     "metadata": {},
     "output_type": "display_data"
    }
   ],
   "source": [
    "from pyspark.sql import SparkSession\n",
    "\n",
    "spark = SparkSession \\\n",
    "        .builder \\\n",
    "        .appName('aws') \\\n",
    "        .getOrCreate()"
   ]
  },
  {
   "cell_type": "code",
   "execution_count": 19,
   "id": "a2d85e08",
   "metadata": {
    "execution": {
     "iopub.execute_input": "2022-03-13T12:07:36.936990Z",
     "iopub.status.busy": "2022-03-13T12:07:36.936760Z",
     "iopub.status.idle": "2022-03-13T12:07:36.994170Z",
     "shell.execute_reply": "2022-03-13T12:07:36.993172Z",
     "shell.execute_reply.started": "2022-03-13T12:07:36.936967Z"
    },
    "tags": []
   },
   "outputs": [
    {
     "data": {
      "application/vnd.jupyter.widget-view+json": {
       "model_id": "5f4dac077da342e8b37ed10b2e2a1a0a",
       "version_major": 2,
       "version_minor": 0
      },
      "text/plain": [
       "VBox()"
      ]
     },
     "metadata": {},
     "output_type": "display_data"
    },
    {
     "data": {
      "application/vnd.jupyter.widget-view+json": {
       "model_id": "",
       "version_major": 2,
       "version_minor": 0
      },
      "text/plain": [
       "FloatProgress(value=0.0, bar_style='info', description='Progress:', layout=Layout(height='25px', width='50%'),…"
      ]
     },
     "metadata": {},
     "output_type": "display_data"
    }
   ],
   "source": [
    "import pandas as pd\n",
    "import pyspark.sql.functions as f\n",
    "from pyspark.ml.fpm import FPGrowth\n",
    "\n",
    "pd.set_option('display.max_columns', None)\n",
    "pd.set_option('display.max_rows', None)"
   ]
  },
  {
   "cell_type": "markdown",
   "id": "61f359a2-ab64-4be8-bdf1-d9adde6221e2",
   "metadata": {
    "execution": {
     "iopub.execute_input": "2022-03-13T11:59:40.651467Z",
     "iopub.status.busy": "2022-03-13T11:59:40.651244Z",
     "iopub.status.idle": "2022-03-13T11:59:40.711216Z",
     "shell.execute_reply": "2022-03-13T11:59:40.710681Z",
     "shell.execute_reply.started": "2022-03-13T11:59:40.651443Z"
    }
   },
   "source": [
    "# Loading the data"
   ]
  },
  {
   "cell_type": "code",
   "execution_count": 20,
   "id": "682d0b13",
   "metadata": {
    "execution": {
     "iopub.execute_input": "2022-03-13T12:07:39.297569Z",
     "iopub.status.busy": "2022-03-13T12:07:39.297336Z",
     "iopub.status.idle": "2022-03-13T12:07:46.587056Z",
     "shell.execute_reply": "2022-03-13T12:07:46.586407Z",
     "shell.execute_reply.started": "2022-03-13T12:07:39.297544Z"
    },
    "tags": []
   },
   "outputs": [
    {
     "data": {
      "application/vnd.jupyter.widget-view+json": {
       "model_id": "aa0491f58d87425994f76c9800cb92e3",
       "version_major": 2,
       "version_minor": 0
      },
      "text/plain": [
       "VBox()"
      ]
     },
     "metadata": {},
     "output_type": "display_data"
    },
    {
     "data": {
      "application/vnd.jupyter.widget-view+json": {
       "model_id": "",
       "version_major": 2,
       "version_minor": 0
      },
      "text/plain": [
       "FloatProgress(value=0.0, bar_style='info', description='Progress:', layout=Layout(height='25px', width='50%'),…"
      ]
     },
     "metadata": {},
     "output_type": "display_data"
    }
   ],
   "source": [
    "path = 's3://bdcc-final-project-bucket/war_ukr_rus_w_internal.parquet'\n",
    "data = spark.read.parquet(path)\n",
    "data.createOrReplaceTempView('data')"
   ]
  },
  {
   "cell_type": "markdown",
   "id": "777d2060-9177-4f88-8ccb-9e4a108be915",
   "metadata": {},
   "source": [
    "# Creating the database"
   ]
  },
  {
   "cell_type": "code",
   "execution_count": 21,
   "id": "e201c4fd",
   "metadata": {
    "execution": {
     "iopub.execute_input": "2022-03-13T12:07:46.588274Z",
     "iopub.status.busy": "2022-03-13T12:07:46.588101Z",
     "iopub.status.idle": "2022-03-13T12:08:01.915042Z",
     "shell.execute_reply": "2022-03-13T12:08:01.914414Z",
     "shell.execute_reply.started": "2022-03-13T12:07:46.588253Z"
    },
    "tags": []
   },
   "outputs": [
    {
     "data": {
      "application/vnd.jupyter.widget-view+json": {
       "model_id": "5ac9359a99c546e29c90af259c6de4ba",
       "version_major": 2,
       "version_minor": 0
      },
      "text/plain": [
       "VBox()"
      ]
     },
     "metadata": {},
     "output_type": "display_data"
    },
    {
     "data": {
      "application/vnd.jupyter.widget-view+json": {
       "model_id": "",
       "version_major": 2,
       "version_minor": 0
      },
      "text/plain": [
       "FloatProgress(value=0.0, bar_style='info', description='Progress:', layout=Layout(height='25px', width='50%'),…"
      ]
     },
     "metadata": {},
     "output_type": "display_data"
    },
    {
     "name": "stdout",
     "output_type": "stream",
     "text": [
      "+----+--------+--------------+--------------------+\n",
      "|Year| SQLDATE|    Actor1Name|             itemset|\n",
      "+----+--------+--------------+--------------------+\n",
      "|2013|20130114|         CHINA|[CHINA_1-RUSSIA_2...|\n",
      "|2013|20130129|        RUSSIA|[RUSSIA_1-US GOVE...|\n",
      "|2013|20130227|       RUSSIAN|[RUSSIAN_1-UNITED...|\n",
      "|2013|20130303|       UKRAINE|[UKRAINE_1-UNITED...|\n",
      "|2013|20130309| UNITED STATES|[UNITED STATES_1-...|\n",
      "|2013|20130311| UNITED STATES|[UNITED STATES_1-...|\n",
      "|2013|20130315|     UKRAINIAN|[UKRAINIAN_1-RUSS...|\n",
      "|2013|20130322|        RUSSIA|[RUSSIA_1-BRITISH...|\n",
      "|2013|20130402|         CHINA|[CHINA_1-RUSSIA_2...|\n",
      "|2013|20130402|VLADIMIR PUTIN|[VLADIMIR PUTIN_1...|\n",
      "+----+--------+--------------+--------------------+"
     ]
    }
   ],
   "source": [
    "trans_db = spark.sql(\n",
    "    \"\"\"\n",
    "    SELECT\n",
    "        Year,\n",
    "        SQLDATE,\n",
    "        Actor1Name,\n",
    "        COLLECT_SET(CONCAT(\n",
    "            Actor1Name, \"_1\", \"-\",\n",
    "            Actor2Name, \"_2\", \"-\",\n",
    "            Actor2CountryCode, \"-\",\n",
    "            EVENTDESCRIPTION\n",
    "        )) AS itemset\n",
    "    FROM data\n",
    "    GROUP BY Year, SQLDATE, Actor1Name\n",
    "    \"\"\"\n",
    ")\n",
    "\n",
    "trans_db.limit(10).show()"
   ]
  },
  {
   "cell_type": "code",
   "execution_count": 22,
   "id": "ca8f65e6-b2de-405d-bf94-1cebad5ee56a",
   "metadata": {
    "execution": {
     "iopub.execute_input": "2022-03-13T12:08:01.917025Z",
     "iopub.status.busy": "2022-03-13T12:08:01.916757Z",
     "iopub.status.idle": "2022-03-13T12:08:01.973950Z",
     "shell.execute_reply": "2022-03-13T12:08:01.973404Z",
     "shell.execute_reply.started": "2022-03-13T12:08:01.916990Z"
    },
    "tags": []
   },
   "outputs": [
    {
     "data": {
      "application/vnd.jupyter.widget-view+json": {
       "model_id": "9d3c339a8909456ebebd88e7a587f1a1",
       "version_major": 2,
       "version_minor": 0
      },
      "text/plain": [
       "VBox()"
      ]
     },
     "metadata": {},
     "output_type": "display_data"
    },
    {
     "data": {
      "application/vnd.jupyter.widget-view+json": {
       "model_id": "",
       "version_major": 2,
       "version_minor": 0
      },
      "text/plain": [
       "FloatProgress(value=0.0, bar_style='info', description='Progress:', layout=Layout(height='25px', width='50%'),…"
      ]
     },
     "metadata": {},
     "output_type": "display_data"
    }
   ],
   "source": [
    "def fim_years(itemsCol, years, minSupport=0.001, minConfidence=0.3, rules=100):\n",
    "    \"\"\"Returns the first 20 association rules for the inputted\n",
    "    column of itemsets.\n",
    "\n",
    "    Parameters\n",
    "    -----\n",
    "    itemsCol: column of a dataframe\n",
    "        Column of itemsets.\n",
    "\n",
    "    years: list\n",
    "        Included years in the inputted column.\n",
    "\n",
    "    minSupport: float\n",
    "        Required minimum support for the FIM.\n",
    "\n",
    "    minConfidence: float\n",
    "        Required minimum confidence for the FIM.\n",
    "        \n",
    "    rules: integer\n",
    "        Number of rules to return.\n",
    "\n",
    "    Output\n",
    "    -----\n",
    "    dataframe\n",
    "        List of first 20 association rules\n",
    "    \"\"\"\n",
    "    fpg = FPGrowth(itemsCol=itemsCol,\n",
    "                   minSupport=minSupport,\n",
    "                   minConfidence=minConfidence)\n",
    "    fpg_trained = fpg.fit(trans_db.filter(trans_db.Year.isin(years))\n",
    "                          .select(trans_db.SQLDATE,\n",
    "                                  f.array_distinct(f.split(\n",
    "                                      trans_db.itemset[0], \"-\"))\n",
    "                                  .alias('itemset')))\n",
    "\n",
    "    return (fpg_trained.associationRules\n",
    "                       .orderBy(['support', 'confidence'],\n",
    "                                ascending=[False, False])\n",
    "                       .select('antecedent', 'consequent',\n",
    "                               f.round('support', 3).alias('sup'),\n",
    "                               f.round('confidence', 3).alias('conf'))\n",
    "            ).show(rules, truncate=False)"
   ]
  },
  {
   "cell_type": "markdown",
   "id": "5bc738c1-977b-4a65-a047-c74646949fc1",
   "metadata": {},
   "source": [
    "# 2013 Events"
   ]
  },
  {
   "cell_type": "code",
   "execution_count": 23,
   "id": "5125f3da-3941-403e-ae6f-aa0813929f57",
   "metadata": {
    "execution": {
     "iopub.execute_input": "2022-03-13T12:08:01.975254Z",
     "iopub.status.busy": "2022-03-13T12:08:01.975076Z",
     "iopub.status.idle": "2022-03-13T12:08:11.414476Z",
     "shell.execute_reply": "2022-03-13T12:08:11.413679Z",
     "shell.execute_reply.started": "2022-03-13T12:08:01.975232Z"
    },
    "tags": []
   },
   "outputs": [
    {
     "data": {
      "application/vnd.jupyter.widget-view+json": {
       "model_id": "6e3cc1d9e1b145d5be168bf286798eb4",
       "version_major": 2,
       "version_minor": 0
      },
      "text/plain": [
       "VBox()"
      ]
     },
     "metadata": {},
     "output_type": "display_data"
    },
    {
     "data": {
      "application/vnd.jupyter.widget-view+json": {
       "model_id": "",
       "version_major": 2,
       "version_minor": 0
      },
      "text/plain": [
       "FloatProgress(value=0.0, bar_style='info', description='Progress:', layout=Layout(height='25px', width='50%'),…"
      ]
     },
     "metadata": {},
     "output_type": "display_data"
    },
    {
     "name": "stdout",
     "output_type": "stream",
     "text": [
      "+----------------------------------------------------------------+-----------------+-----+-----+\n",
      "|antecedent                                                      |consequent       |sup  |conf |\n",
      "+----------------------------------------------------------------+-----------------+-----+-----+\n",
      "|[RUSSIA_2]                                                      |[RUS]            |0.468|1.0  |\n",
      "|[RUS]                                                           |[RUSSIA_2]       |0.468|0.618|\n",
      "|[RUSSIAN_2]                                                     |[RUS]            |0.168|1.0  |\n",
      "|[Consult, not specified below]                                  |[RUS]            |0.083|0.789|\n",
      "|[Engage in negotiation]                                         |[RUS]            |0.073|0.842|\n",
      "|[MOSCOW_2]                                                      |[RUS]            |0.064|1.0  |\n",
      "|[UKRAINE_2]                                                     |[UKR]            |0.054|1.0  |\n",
      "|[UKR]                                                           |[UKRAINE_2]      |0.054|0.581|\n",
      "|[Consult, not specified below, RUSSIA_2]                        |[RUS]            |0.051|1.0  |\n",
      "|[Consult, not specified below, RUS]                             |[RUSSIA_2]       |0.051|0.618|\n",
      "|[Consult, not specified below]                                  |[RUSSIA_2]       |0.051|0.488|\n",
      "|[Engage in negotiation, RUSSIA_2]                               |[RUS]            |0.05 |1.0  |\n",
      "|[Engage in negotiation, RUS]                                    |[RUSSIA_2]       |0.05 |0.686|\n",
      "|[Engage in negotiation]                                         |[RUSSIA_2]       |0.05 |0.578|\n",
      "|[UNITED STATES_1]                                               |[RUS]            |0.048|0.907|\n",
      "|[Host a visit]                                                  |[RUS]            |0.046|0.719|\n",
      "|[Make a visit]                                                  |[RUS]            |0.043|0.781|\n",
      "|[UNITED STATES_2]                                               |[USA]            |0.04 |1.0  |\n",
      "|[USA]                                                           |[UNITED STATES_2]|0.04 |0.389|\n",
      "|[THE US_1]                                                      |[RUS]            |0.039|1.0  |\n",
      "|[CHINA_1]                                                       |[RUS]            |0.039|0.968|\n",
      "|[Express intent to meet or negotiate]                           |[RUS]            |0.038|0.785|\n",
      "|[Appeal, not specified below]                                   |[RUS]            |0.037|0.695|\n",
      "|[UNITED KINGDOM_1]                                              |[RUS]            |0.036|0.939|\n",
      "|[Make statement, not specified below]                           |[RUS]            |0.036|0.724|\n",
      "|[UNITED STATES_1, RUSSIA_2]                                     |[RUS]            |0.036|1.0  |\n",
      "|[UNITED STATES_1, RUS]                                          |[RUSSIA_2]       |0.036|0.742|\n",
      "|[UNITED STATES_1]                                               |[RUSSIA_2]       |0.036|0.674|\n",
      "|[FRANCE_1]                                                      |[RUS]            |0.033|0.984|\n",
      "|[CHINA_1, RUSSIA_2]                                             |[RUS]            |0.032|1.0  |\n",
      "|[CHINA_1, RUS]                                                  |[RUSSIA_2]       |0.032|0.831|\n",
      "|[CHINA_1]                                                       |[RUSSIA_2]       |0.032|0.805|\n",
      "|[THE US_1, RUSSIA_2]                                            |[RUS]            |0.031|1.0  |\n",
      "|[THE US_1]                                                      |[RUSSIA_2]       |0.031|0.805|\n",
      "|[THE US_1, RUS]                                                 |[RUSSIA_2]       |0.031|0.805|\n",
      "|[FRANCE_1, RUSSIA_2]                                            |[RUS]            |0.031|1.0  |\n",
      "|[FRANCE_1, RUS]                                                 |[RUSSIA_2]       |0.031|0.918|\n",
      "|[FRANCE_1]                                                      |[RUSSIA_2]       |0.031|0.904|\n",
      "|[RUSSIAN_1]                                                     |[RUS]            |0.03 |0.605|\n",
      "|[OBAMA_1]                                                       |[RUS]            |0.03 |0.988|\n",
      "|[UNITED KINGDOM_1, RUSSIA_2]                                    |[RUS]            |0.029|1.0  |\n",
      "|[UNITED KINGDOM_1, RUS]                                         |[RUSSIA_2]       |0.029|0.79 |\n",
      "|[UNITED KINGDOM_1]                                              |[RUSSIA_2]       |0.029|0.742|\n",
      "|[BRITAIN_1]                                                     |[RUS]            |0.028|0.968|\n",
      "|[AMERICAN_1]                                                    |[RUS]            |0.027|0.968|\n",
      "|[WASHINGTON_1]                                                  |[RUS]            |0.027|0.936|\n",
      "|[BRITAIN_1, RUSSIA_2]                                           |[RUS]            |0.026|1.0  |\n",
      "|[BRITAIN_1, RUS]                                                |[RUSSIA_2]       |0.026|0.948|\n",
      "|[BRITAIN_1]                                                     |[RUSSIA_2]       |0.026|0.918|\n",
      "|[VLADIMIR PUTIN_1]                                              |[RUS]            |0.025|0.709|\n",
      "|[Make statement, not specified below, RUSSIA_2]                 |[RUS]            |0.024|1.0  |\n",
      "|[Make statement, not specified below, RUS]                      |[RUSSIA_2]       |0.024|0.66 |\n",
      "|[Make statement, not specified below]                           |[RUSSIA_2]       |0.024|0.478|\n",
      "|[Appeal, not specified below, RUSSIA_2]                         |[RUS]            |0.023|1.0  |\n",
      "|[Appeal, not specified below, RUS]                              |[RUSSIA_2]       |0.023|0.624|\n",
      "|[Appeal, not specified below]                                   |[RUSSIA_2]       |0.023|0.434|\n",
      "|[Host a visit, RUSSIA_2]                                        |[RUS]            |0.022|1.0  |\n",
      "|[Host a visit, RUS]                                             |[RUSSIA_2]       |0.022|0.49 |\n",
      "|[Host a visit]                                                  |[RUSSIA_2]       |0.022|0.352|\n",
      "|[Sign formal agreement]                                         |[RUS]            |0.022|0.607|\n",
      "|[Express intent to cooperate, not specified below]              |[RUS]            |0.022|0.834|\n",
      "|[Use conventional military force, not specified below]          |[RUS]            |0.022|0.7  |\n",
      "|[MOSCOW_1]                                                      |[RUS]            |0.021|0.468|\n",
      "|[Make a visit, RUSSIA_2]                                        |[RUS]            |0.021|1.0  |\n",
      "|[Make a visit, RUS]                                             |[RUSSIA_2]       |0.021|0.492|\n",
      "|[Make a visit]                                                  |[RUSSIA_2]       |0.021|0.384|\n",
      "|[Praise or endorse]                                             |[RUS]            |0.021|0.661|\n",
      "|[VLADIMIR PUTIN_2]                                              |[RUS]            |0.021|1.0  |\n",
      "|[Consult, not specified below, RUSSIAN_2]                       |[RUS]            |0.02 |1.0  |\n",
      "|[UKRAINIAN_2]                                                   |[UKR]            |0.02 |1.0  |\n",
      "|[UKRAINE_1]                                                     |[RUS]            |0.019|0.467|\n",
      "|[BARACK OBAMA_1]                                                |[RUS]            |0.019|1.0  |\n",
      "|[Express intent to meet or negotiate, RUSSIA_2]                 |[RUS]            |0.019|1.0  |\n",
      "|[BRITISH_1]                                                     |[RUS]            |0.019|0.962|\n",
      "|[Express intent to meet or negotiate, RUS]                      |[RUSSIA_2]       |0.019|0.49 |\n",
      "|[Express intent to meet or negotiate]                           |[RUSSIA_2]       |0.019|0.385|\n",
      "|[RUSSIAN_1, RUSSIA_2]                                           |[RUS]            |0.018|1.0  |\n",
      "|[RUSSIAN_1, RUS]                                                |[RUSSIA_2]       |0.018|0.599|\n",
      "|[RUSSIAN_1]                                                     |[RUSSIA_2]       |0.018|0.362|\n",
      "|[RUSSIA_1]                                                      |[USA]            |0.018|0.325|\n",
      "|[Engage in diplomatic cooperation, not specified below]         |[RUS]            |0.017|0.835|\n",
      "|[Sign formal agreement, RUSSIA_2]                               |[RUS]            |0.017|1.0  |\n",
      "|[Sign formal agreement, RUS]                                    |[RUSSIA_2]       |0.017|0.779|\n",
      "|[Sign formal agreement]                                         |[RUSSIA_2]       |0.017|0.473|\n",
      "|[OBAMA_1, RUSSIA_2]                                             |[RUS]            |0.017|1.0  |\n",
      "|[OBAMA_1, RUS]                                                  |[RUSSIA_2]       |0.017|0.56 |\n",
      "|[OBAMA_1]                                                       |[RUSSIA_2]       |0.017|0.554|\n",
      "|[MOSCOW_1]                                                      |[USA]            |0.016|0.357|\n",
      "|[AMERICAN_1, RUSSIA_2]                                          |[RUS]            |0.016|1.0  |\n",
      "|[CHINESE_1]                                                     |[RUS]            |0.016|0.927|\n",
      "|[AMERICAN_1, RUS]                                               |[RUSSIA_2]       |0.016|0.589|\n",
      "|[AMERICAN_1]                                                    |[RUSSIA_2]       |0.016|0.571|\n",
      "|[Accuse, not specified below]                                   |[RUS]            |0.015|0.833|\n",
      "|[Use conventional military force, not specified below, RUSSIA_2]|[RUS]            |0.015|1.0  |\n",
      "|[Use conventional military force, not specified below, RUS]     |[RUSSIA_2]       |0.015|0.706|\n",
      "|[Arrest, detain, or charge with legal action ]                  |[RUS]            |0.015|0.656|\n",
      "|[Use conventional military force, not specified below]          |[RUSSIA_2]       |0.015|0.494|\n",
      "|[Express intent to cooperate, not specified below, RUSSIA_2]    |[RUS]            |0.015|1.0  |\n",
      "|[Express intent to cooperate, not specified below, RUS]         |[RUSSIA_2]       |0.015|0.669|\n",
      "|[Express intent to cooperate, not specified below]              |[RUSSIA_2]       |0.015|0.559|\n",
      "+----------------------------------------------------------------+-----------------+-----+-----+\n",
      "only showing top 100 rows"
     ]
    }
   ],
   "source": [
    "fim_years('itemset', [2013])"
   ]
  },
  {
   "cell_type": "markdown",
   "id": "5800b332-7abc-4101-9661-5f416eaf3564",
   "metadata": {},
   "source": [
    "# 2014 Events"
   ]
  },
  {
   "cell_type": "code",
   "execution_count": 24,
   "id": "b769e285-f20b-4d86-af95-83e89ff60955",
   "metadata": {
    "execution": {
     "iopub.execute_input": "2022-03-13T12:08:11.415887Z",
     "iopub.status.busy": "2022-03-13T12:08:11.415631Z",
     "iopub.status.idle": "2022-03-13T12:08:18.787703Z",
     "shell.execute_reply": "2022-03-13T12:08:18.786893Z",
     "shell.execute_reply.started": "2022-03-13T12:08:11.415855Z"
    },
    "tags": []
   },
   "outputs": [
    {
     "data": {
      "application/vnd.jupyter.widget-view+json": {
       "model_id": "c49e25e4e1fa49b198e4be04e6c0d3fe",
       "version_major": 2,
       "version_minor": 0
      },
      "text/plain": [
       "VBox()"
      ]
     },
     "metadata": {},
     "output_type": "display_data"
    },
    {
     "data": {
      "application/vnd.jupyter.widget-view+json": {
       "model_id": "",
       "version_major": 2,
       "version_minor": 0
      },
      "text/plain": [
       "FloatProgress(value=0.0, bar_style='info', description='Progress:', layout=Layout(height='25px', width='50%'),…"
      ]
     },
     "metadata": {},
     "output_type": "display_data"
    },
    {
     "name": "stdout",
     "output_type": "stream",
     "text": [
      "+------------------------------------------------------------+-----------------+-----+-----+\n",
      "|antecedent                                                  |consequent       |sup  |conf |\n",
      "+------------------------------------------------------------+-----------------+-----+-----+\n",
      "|[RUSSIA_2]                                                  |[RUS]            |0.369|1.0  |\n",
      "|[RUS]                                                       |[RUSSIA_2]       |0.369|0.624|\n",
      "|[UKRAINE_2]                                                 |[UKR]            |0.192|1.0  |\n",
      "|[UKR]                                                       |[UKRAINE_2]      |0.192|0.603|\n",
      "|[RUSSIAN_2]                                                 |[RUS]            |0.143|1.0  |\n",
      "|[UKRAINIAN_2]                                               |[UKR]            |0.057|1.0  |\n",
      "|[MOSCOW_2]                                                  |[RUS]            |0.046|1.0  |\n",
      "|[Engage in negotiation]                                     |[RUS]            |0.04 |0.674|\n",
      "|[Consult, not specified below]                              |[RUS]            |0.036|0.521|\n",
      "|[Make statement, not specified below]                       |[RUS]            |0.035|0.583|\n",
      "|[Impose embargo, boycott, or sanctions]                     |[RUS]            |0.031|0.835|\n",
      "|[Host a visit]                                              |[RUS]            |0.029|0.556|\n",
      "|[Appeal, not specified below]                               |[RUS]            |0.028|0.546|\n",
      "|[Engage in negotiation, RUSSIA_2]                           |[RUS]            |0.027|1.0  |\n",
      "|[Engage in negotiation, RUS]                                |[RUSSIA_2]       |0.027|0.686|\n",
      "|[Engage in negotiation]                                     |[RUSSIA_2]       |0.027|0.462|\n",
      "|[Make a visit]                                              |[RUS]            |0.027|0.505|\n",
      "|[CHINA_1]                                                   |[RUS]            |0.026|0.938|\n",
      "|[Consult, not specified below]                              |[UKR]            |0.025|0.37 |\n",
      "|[Accuse, not specified below]                               |[RUS]            |0.024|0.799|\n",
      "|[Impose embargo, boycott, or sanctions, RUSSIA_2]           |[RUS]            |0.023|1.0  |\n",
      "|[Impose embargo, boycott, or sanctions, RUS]                |[RUSSIA_2]       |0.023|0.727|\n",
      "|[Impose embargo, boycott, or sanctions]                     |[RUSSIA_2]       |0.023|0.607|\n",
      "|[KIEV_2]                                                    |[UKR]            |0.023|1.0  |\n",
      "|[FRANCE_1]                                                  |[RUS]            |0.022|0.802|\n",
      "|[UNITED STATES_1]                                           |[RUS]            |0.022|0.755|\n",
      "|[UNITED KINGDOM_1]                                          |[RUS]            |0.022|0.811|\n",
      "|[CHINA_1, RUSSIA_2]                                         |[RUS]            |0.022|1.0  |\n",
      "|[CHINA_1, RUS]                                              |[RUSSIA_2]       |0.022|0.846|\n",
      "|[CHINA_1]                                                   |[RUSSIA_2]       |0.022|0.794|\n",
      "|[Use conventional military force, not specified below]      |[RUS]            |0.022|0.477|\n",
      "|[Consult, not specified below, RUSSIA_2]                    |[RUS]            |0.022|1.0  |\n",
      "|[Consult, not specified below, RUS]                         |[RUSSIA_2]       |0.022|0.614|\n",
      "|[Consult, not specified below]                              |[RUSSIA_2]       |0.022|0.32 |\n",
      "|[BRITAIN_1]                                                 |[RUS]            |0.021|0.909|\n",
      "|[UNITED STATES_2]                                           |[USA]            |0.021|1.0  |\n",
      "|[USA]                                                       |[UNITED STATES_2]|0.021|0.339|\n",
      "|[Use conventional military force, not specified below]      |[UKR]            |0.021|0.452|\n",
      "|[Make a visit]                                              |[UKR]            |0.021|0.391|\n",
      "|[THE US_1]                                                  |[RUS]            |0.02 |0.755|\n",
      "|[FRANCE_1, RUSSIA_2]                                        |[RUS]            |0.02 |1.0  |\n",
      "|[FRANCE_1, RUS]                                             |[RUSSIA_2]       |0.02 |0.895|\n",
      "|[FRANCE_1]                                                  |[RUSSIA_2]       |0.02 |0.717|\n",
      "|[Praise or endorse]                                         |[RUS]            |0.019|0.5  |\n",
      "|[Express intent to meet or negotiate]                       |[RUS]            |0.019|0.574|\n",
      "|[BRITAIN_1, RUSSIA_2]                                       |[RUS]            |0.019|1.0  |\n",
      "|[BRITAIN_1, RUS]                                            |[RUSSIA_2]       |0.019|0.892|\n",
      "|[BRITAIN_1]                                                 |[RUSSIA_2]       |0.019|0.811|\n",
      "|[Sign formal agreement]                                     |[RUS]            |0.019|0.773|\n",
      "|[UKRAINIAN_1]                                               |[RUS]            |0.019|0.644|\n",
      "|[CRIMEA_1]                                                  |[RUS]            |0.019|0.83 |\n",
      "|[Make statement, not specified below, RUSSIA_2]             |[RUS]            |0.019|1.0  |\n",
      "|[Make statement, not specified below, RUS]                  |[RUSSIA_2]       |0.019|0.537|\n",
      "|[Make statement, not specified below]                       |[RUSSIA_2]       |0.019|0.313|\n",
      "|[Express intent to cooperate, not specified below]          |[RUS]            |0.018|0.715|\n",
      "|[UNITED STATES_1, RUSSIA_2]                                 |[RUS]            |0.017|1.0  |\n",
      "|[UNITED STATES_1, RUS]                                      |[RUSSIA_2]       |0.017|0.775|\n",
      "|[UNITED STATES_1]                                           |[RUSSIA_2]       |0.017|0.585|\n",
      "|[UNITED KINGDOM_1, RUSSIA_2]                                |[RUS]            |0.017|1.0  |\n",
      "|[UNITED KINGDOM_1, RUS]                                     |[RUSSIA_2]       |0.017|0.782|\n",
      "|[UNITED KINGDOM_1]                                          |[RUSSIA_2]       |0.017|0.635|\n",
      "|[Appeal, not specified below]                               |[UKR]            |0.017|0.341|\n",
      "|[Appeal, not specified below, RUSSIA_2]                     |[RUS]            |0.017|1.0  |\n",
      "|[Appeal, not specified below, RUS]                          |[RUSSIA_2]       |0.017|0.619|\n",
      "|[Appeal, not specified below]                               |[RUSSIA_2]       |0.017|0.338|\n",
      "|[CRIMEA_2]                                                  |[UKR]            |0.017|1.0  |\n",
      "|[WASHINGTON_1]                                              |[RUS]            |0.017|0.631|\n",
      "|[Accuse, not specified below, RUSSIA_2]                     |[RUS]            |0.017|1.0  |\n",
      "|[Accuse, not specified below, RUS]                          |[RUSSIA_2]       |0.017|0.689|\n",
      "|[Accuse, not specified below]                               |[RUSSIA_2]       |0.017|0.551|\n",
      "|[Praise or endorse]                                         |[UKR]            |0.017|0.429|\n",
      "|[Threaten, not specified below]                             |[RUS]            |0.016|0.708|\n",
      "|[KIEV_1]                                                    |[RUS]            |0.016|0.572|\n",
      "|[OBAMA_1]                                                   |[RUS]            |0.016|0.657|\n",
      "|[Consult, not specified below, UKRAINE_2]                   |[UKR]            |0.016|1.0  |\n",
      "|[Consult, not specified below, UKR]                         |[UKRAINE_2]      |0.016|0.625|\n",
      "|[VLADIMIR PUTIN_2]                                          |[RUS]            |0.015|1.0  |\n",
      "|[Sign formal agreement, RUSSIA_2]                           |[RUS]            |0.015|1.0  |\n",
      "|[Sign formal agreement, RUS]                                |[RUSSIA_2]       |0.015|0.793|\n",
      "|[Sign formal agreement]                                     |[RUSSIA_2]       |0.015|0.613|\n",
      "|[Make a visit, RUSSIA_2]                                    |[RUS]            |0.015|1.0  |\n",
      "|[Make a visit, RUS]                                         |[RUSSIA_2]       |0.015|0.56 |\n",
      "|[VLADIMIR PUTIN_1]                                          |[RUS]            |0.015|0.533|\n",
      "|[Host a visit, RUSSIA_2]                                    |[RUS]            |0.014|1.0  |\n",
      "|[THE US_1, RUSSIA_2]                                        |[RUS]            |0.014|1.0  |\n",
      "|[THE US_1, RUS]                                             |[RUSSIA_2]       |0.014|0.717|\n",
      "|[THE US_1]                                                  |[RUSSIA_2]       |0.014|0.541|\n",
      "|[Host a visit, RUS]                                         |[RUSSIA_2]       |0.014|0.499|\n",
      "|[RUSSIAN_1]                                                 |[UKR]            |0.014|0.474|\n",
      "|[AMERICAN_1]                                                |[RUS]            |0.014|0.669|\n",
      "|[REUTERS_1]                                                 |[UKR]            |0.014|0.55 |\n",
      "|[UKRAINE_1]                                                 |[RUS]            |0.014|0.46 |\n",
      "|[Praise or endorse, RUSSIA_2]                               |[RUS]            |0.013|1.0  |\n",
      "|[Praise or endorse, RUS]                                    |[RUSSIA_2]       |0.013|0.651|\n",
      "|[Praise or endorse]                                         |[RUSSIA_2]       |0.013|0.326|\n",
      "|[FRENCH_1]                                                  |[RUS]            |0.013|0.71 |\n",
      "|[Criticize or denounce ]                                    |[RUS]            |0.013|0.606|\n",
      "|[Make optimistic comment]                                   |[RUS]            |0.013|0.582|\n",
      "|[Express intent to cooperate, not specified below, RUSSIA_2]|[RUS]            |0.012|1.0  |\n",
      "|[Express intent to cooperate, not specified below, RUS]     |[RUSSIA_2]       |0.012|0.682|\n",
      "+------------------------------------------------------------+-----------------+-----+-----+\n",
      "only showing top 100 rows"
     ]
    }
   ],
   "source": [
    "fim_years('itemset', [2014])"
   ]
  },
  {
   "cell_type": "markdown",
   "id": "fb721e6a-c5e3-4d20-84fc-4d94d6275c67",
   "metadata": {},
   "source": [
    "# 2015-2021 Events"
   ]
  },
  {
   "cell_type": "code",
   "execution_count": 25,
   "id": "b66cee5c-0af4-4698-83ea-5f4674beb33f",
   "metadata": {
    "execution": {
     "iopub.execute_input": "2022-03-13T12:08:18.788785Z",
     "iopub.status.busy": "2022-03-13T12:08:18.788607Z",
     "iopub.status.idle": "2022-03-13T12:08:26.142671Z",
     "shell.execute_reply": "2022-03-13T12:08:26.141872Z",
     "shell.execute_reply.started": "2022-03-13T12:08:18.788760Z"
    },
    "tags": []
   },
   "outputs": [
    {
     "data": {
      "application/vnd.jupyter.widget-view+json": {
       "model_id": "e42733a60723491eaea7fed4c8f76566",
       "version_major": 2,
       "version_minor": 0
      },
      "text/plain": [
       "VBox()"
      ]
     },
     "metadata": {},
     "output_type": "display_data"
    },
    {
     "data": {
      "application/vnd.jupyter.widget-view+json": {
       "model_id": "",
       "version_major": 2,
       "version_minor": 0
      },
      "text/plain": [
       "FloatProgress(value=0.0, bar_style='info', description='Progress:', layout=Layout(height='25px', width='50%'),…"
      ]
     },
     "metadata": {},
     "output_type": "display_data"
    },
    {
     "name": "stdout",
     "output_type": "stream",
     "text": [
      "+----------------------------------------------------------------+-----------------+-----+-----+\n",
      "|antecedent                                                      |consequent       |sup  |conf |\n",
      "+----------------------------------------------------------------+-----------------+-----+-----+\n",
      "|[RUSSIA_2]                                                      |[RUS]            |0.399|1.0  |\n",
      "|[RUS]                                                           |[RUSSIA_2]       |0.399|0.599|\n",
      "|[RUSSIAN_2]                                                     |[RUS]            |0.167|1.0  |\n",
      "|[UKRAINE_2]                                                     |[UKR]            |0.145|1.0  |\n",
      "|[UKR]                                                           |[UKRAINE_2]      |0.145|0.64 |\n",
      "|[MOSCOW_2]                                                      |[RUS]            |0.05 |1.0  |\n",
      "|[Consult, not specified below]                                  |[RUS]            |0.05 |0.62 |\n",
      "|[Make statement, not specified below]                           |[RUS]            |0.041|0.666|\n",
      "|[UKRAINIAN_2]                                                   |[UKR]            |0.04 |1.0  |\n",
      "|[Host a visit]                                                  |[RUS]            |0.038|0.631|\n",
      "|[Appeal, not specified below]                                   |[RUS]            |0.038|0.597|\n",
      "|[Engage in negotiation]                                         |[RUS]            |0.035|0.703|\n",
      "|[Accuse, not specified below]                                   |[RUS]            |0.032|0.827|\n",
      "|[Make a visit]                                                  |[RUS]            |0.029|0.614|\n",
      "|[CHINA_1]                                                       |[RUS]            |0.026|0.956|\n",
      "|[Use conventional military force, not specified below]          |[RUS]            |0.026|0.616|\n",
      "|[Consult, not specified below, RUSSIA_2]                        |[RUS]            |0.025|1.0  |\n",
      "|[Consult, not specified below, RUS]                             |[RUSSIA_2]       |0.025|0.499|\n",
      "|[Consult, not specified below]                                  |[RUSSIA_2]       |0.025|0.309|\n",
      "|[Make statement, not specified below, RUSSIA_2]                 |[RUS]            |0.024|1.0  |\n",
      "|[Make statement, not specified below, RUS]                      |[RUSSIA_2]       |0.024|0.579|\n",
      "|[Make statement, not specified below]                           |[RUSSIA_2]       |0.024|0.386|\n",
      "|[UNITED STATES_2]                                               |[USA]            |0.024|1.0  |\n",
      "|[USA]                                                           |[UNITED STATES_2]|0.024|0.36 |\n",
      "|[THE US_1]                                                      |[RUS]            |0.024|0.889|\n",
      "|[Sign formal agreement]                                         |[RUS]            |0.024|0.801|\n",
      "|[Appeal, not specified below, RUSSIA_2]                         |[RUS]            |0.023|1.0  |\n",
      "|[Appeal, not specified below, RUS]                              |[RUSSIA_2]       |0.023|0.623|\n",
      "|[Appeal, not specified below]                                   |[RUSSIA_2]       |0.023|0.372|\n",
      "|[UNITED KINGDOM_1]                                              |[RUS]            |0.023|0.87 |\n",
      "|[Praise or endorse]                                             |[RUS]            |0.023|0.606|\n",
      "|[Accuse, not specified below, RUSSIA_2]                         |[RUS]            |0.022|1.0  |\n",
      "|[Accuse, not specified below, RUS]                              |[RUSSIA_2]       |0.022|0.673|\n",
      "|[Accuse, not specified below]                                   |[RUSSIA_2]       |0.022|0.557|\n",
      "|[WASHINGTON_1]                                                  |[RUS]            |0.022|0.803|\n",
      "|[CHINA_1, RUSSIA_2]                                             |[RUS]            |0.021|1.0  |\n",
      "|[CHINA_1, RUS]                                                  |[RUSSIA_2]       |0.021|0.807|\n",
      "|[CHINA_1]                                                       |[RUSSIA_2]       |0.021|0.772|\n",
      "|[Host a visit, RUSSIA_2]                                        |[RUS]            |0.021|1.0  |\n",
      "|[Host a visit, RUS]                                             |[RUSSIA_2]       |0.021|0.559|\n",
      "|[Host a visit]                                                  |[RUSSIA_2]       |0.021|0.353|\n",
      "|[UNITED STATES_1]                                               |[RUS]            |0.021|0.745|\n",
      "|[AMERICAN_1]                                                    |[RUS]            |0.021|0.793|\n",
      "|[Express intent to meet or negotiate]                           |[RUS]            |0.02 |0.652|\n",
      "|[Sign formal agreement, RUSSIA_2]                               |[RUS]            |0.019|1.0  |\n",
      "|[Sign formal agreement, RUS]                                    |[RUSSIA_2]       |0.019|0.805|\n",
      "|[Sign formal agreement]                                         |[RUSSIA_2]       |0.019|0.644|\n",
      "|[FRANCE_1]                                                      |[RUS]            |0.019|0.732|\n",
      "|[Express intent to cooperate, not specified below]              |[RUS]            |0.019|0.774|\n",
      "|[Investigate, not specified below]                              |[RUS]            |0.018|0.748|\n",
      "|[BRITAIN_1]                                                     |[RUS]            |0.018|0.939|\n",
      "|[UNITED KINGDOM_1, RUSSIA_2]                                    |[RUS]            |0.017|1.0  |\n",
      "|[UNITED KINGDOM_1, RUS]                                         |[RUSSIA_2]       |0.017|0.747|\n",
      "|[UNITED KINGDOM_1]                                              |[RUSSIA_2]       |0.017|0.65 |\n",
      "|[THE US_1, RUSSIA_2]                                            |[RUS]            |0.017|1.0  |\n",
      "|[THE US_1, RUS]                                                 |[RUSSIA_2]       |0.017|0.726|\n",
      "|[THE US_1]                                                      |[RUSSIA_2]       |0.017|0.646|\n",
      "|[Engage in negotiation, RUSSIA_2]                               |[RUS]            |0.017|1.0  |\n",
      "|[Engage in negotiation, RUS]                                    |[RUSSIA_2]       |0.017|0.501|\n",
      "|[Engage in negotiation]                                         |[RUSSIA_2]       |0.017|0.352|\n",
      "|[CHINESE_1]                                                     |[RUS]            |0.017|0.917|\n",
      "|[CRIMEA_1]                                                      |[RUS]            |0.017|0.803|\n",
      "|[Use conventional military force, not specified below, RUSSIA_2]|[RUS]            |0.016|1.0  |\n",
      "|[Use conventional military force, not specified below, RUS]     |[RUSSIA_2]       |0.016|0.634|\n",
      "|[Use conventional military force, not specified below]          |[RUSSIA_2]       |0.016|0.391|\n",
      "|[VLADIMIR PUTIN_1]                                              |[RUS]            |0.016|0.618|\n",
      "|[FRANCE_1, RUSSIA_2]                                            |[RUS]            |0.016|1.0  |\n",
      "|[FRANCE_1, RUS]                                                 |[RUSSIA_2]       |0.016|0.856|\n",
      "|[FRANCE_1]                                                      |[RUSSIA_2]       |0.016|0.627|\n",
      "|[VLADIMIR PUTIN_2]                                              |[RUS]            |0.016|1.0  |\n",
      "|[Make a visit, RUSSIA_2]                                        |[RUS]            |0.016|1.0  |\n",
      "|[Make a visit, RUS]                                             |[RUSSIA_2]       |0.016|0.552|\n",
      "|[Make a visit]                                                  |[RUSSIA_2]       |0.016|0.339|\n",
      "|[Consult, not specified below, RUSSIAN_2]                       |[RUS]            |0.016|1.0  |\n",
      "|[Consult, not specified below, RUS]                             |[RUSSIAN_2]      |0.016|0.311|\n",
      "|[UNITED STATES_1, RUSSIA_2]                                     |[RUS]            |0.015|1.0  |\n",
      "|[UNITED STATES_1, RUS]                                          |[RUSSIA_2]       |0.015|0.732|\n",
      "|[UNITED STATES_1]                                               |[RUSSIA_2]       |0.015|0.546|\n",
      "|[Impose embargo, boycott, or sanctions]                         |[RUS]            |0.015|0.873|\n",
      "|[BRITISH_1]                                                     |[RUS]            |0.015|0.838|\n",
      "|[Praise or endorse, RUSSIA_2]                                   |[RUS]            |0.015|1.0  |\n",
      "|[Praise or endorse, RUS]                                        |[RUSSIA_2]       |0.015|0.666|\n",
      "|[Praise or endorse]                                             |[RUSSIA_2]       |0.015|0.404|\n",
      "|[Criticize or denounce ]                                        |[RUS]            |0.015|0.717|\n",
      "|[RUSSIAN_1]                                                     |[RUS]            |0.015|0.529|\n",
      "|[OBAMA_1]                                                       |[RUS]            |0.015|0.83 |\n",
      "|[Threaten, not specified below]                                 |[RUS]            |0.014|0.832|\n",
      "|[Make optimistic comment]                                       |[RUS]            |0.014|0.747|\n",
      "|[BRITAIN_1, RUSSIA_2]                                           |[RUS]            |0.014|1.0  |\n",
      "|[BRITAIN_1, RUS]                                                |[RUSSIA_2]       |0.014|0.783|\n",
      "|[BRITAIN_1]                                                     |[RUSSIA_2]       |0.014|0.735|\n",
      "|[REUTERS_1]                                                     |[RUS]            |0.013|0.714|\n",
      "|[THE WHITE HOUSE_1]                                             |[RUS]            |0.013|0.769|\n",
      "|[FRENCH_1]                                                      |[RUS]            |0.013|0.754|\n",
      "|[UKRAINE_1]                                                     |[RUS]            |0.013|0.468|\n",
      "|[VLADIMIR_1]                                                    |[UKR]            |0.013|0.541|\n",
      "|[Consult, not specified below, UKRAINE_2]                       |[UKR]            |0.013|1.0  |\n",
      "|[Consult, not specified below, UKR]                             |[UKRAINE_2]      |0.013|0.629|\n",
      "|[UKRAINIAN_1]                                                   |[RUS]            |0.013|0.462|\n",
      "|[Make pessimistic comment]                                      |[RUS]            |0.013|0.762|\n",
      "+----------------------------------------------------------------+-----------------+-----+-----+\n",
      "only showing top 100 rows"
     ]
    }
   ],
   "source": [
    "fim_years('itemset', [2015, 2016, 2017, 2018, 2019, 2020, 2021])"
   ]
  },
  {
   "cell_type": "markdown",
   "id": "e63fc9d4-566f-4a54-81f8-3e54bc7a675e",
   "metadata": {},
   "source": [
    "# 2022 Events"
   ]
  },
  {
   "cell_type": "code",
   "execution_count": 26,
   "id": "678d545b-71d1-4794-b42f-ddd07bed7509",
   "metadata": {
    "execution": {
     "iopub.execute_input": "2022-03-13T12:08:26.144185Z",
     "iopub.status.busy": "2022-03-13T12:08:26.143875Z",
     "iopub.status.idle": "2022-03-13T12:08:31.471835Z",
     "shell.execute_reply": "2022-03-13T12:08:31.471072Z",
     "shell.execute_reply.started": "2022-03-13T12:08:26.144149Z"
    },
    "tags": []
   },
   "outputs": [
    {
     "data": {
      "application/vnd.jupyter.widget-view+json": {
       "model_id": "7e9354e00f0347388f2b47e01d28a80c",
       "version_major": 2,
       "version_minor": 0
      },
      "text/plain": [
       "VBox()"
      ]
     },
     "metadata": {},
     "output_type": "display_data"
    },
    {
     "data": {
      "application/vnd.jupyter.widget-view+json": {
       "model_id": "",
       "version_major": 2,
       "version_minor": 0
      },
      "text/plain": [
       "FloatProgress(value=0.0, bar_style='info', description='Progress:', layout=Layout(height='25px', width='50%'),…"
      ]
     },
     "metadata": {},
     "output_type": "display_data"
    },
    {
     "name": "stdout",
     "output_type": "stream",
     "text": [
      "+------------------------------------------------------+-----------------+-----+-----+\n",
      "|antecedent                                            |consequent       |sup  |conf |\n",
      "+------------------------------------------------------+-----------------+-----+-----+\n",
      "|[RUSSIA_2]                                            |[RUS]            |0.288|1.0  |\n",
      "|[RUS]                                                 |[RUSSIA_2]       |0.288|0.545|\n",
      "|[UKRAINE_2]                                           |[UKR]            |0.286|1.0  |\n",
      "|[UKR]                                                 |[UKRAINE_2]      |0.286|0.7  |\n",
      "|[RUSSIAN_2]                                           |[RUS]            |0.181|1.0  |\n",
      "|[RUS]                                                 |[RUSSIAN_2]      |0.181|0.343|\n",
      "|[UKRAINIAN_2]                                         |[UKR]            |0.078|1.0  |\n",
      "|[Praise or endorse]                                   |[UKR]            |0.037|0.64 |\n",
      "|[Appeal, not specified below]                         |[RUS]            |0.036|0.555|\n",
      "|[Consult, not specified below]                        |[RUS]            |0.035|0.463|\n",
      "|[Consult, not specified below]                        |[UKR]            |0.034|0.448|\n",
      "|[Make a visit]                                        |[UKR]            |0.032|0.622|\n",
      "|[MOSCOW_2]                                            |[RUS]            |0.031|1.0  |\n",
      "|[Make statement, not specified below]                 |[RUS]            |0.03 |0.492|\n",
      "|[Threaten, not specified below]                       |[RUS]            |0.028|0.744|\n",
      "|[Praise or endorse, UKRAINE_2]                        |[UKR]            |0.027|1.0  |\n",
      "|[Praise or endorse, UKR]                              |[UKRAINE_2]      |0.027|0.713|\n",
      "|[Praise or endorse]                                   |[UKRAINE_2]      |0.027|0.456|\n",
      "|[Host a visit]                                        |[UKR]            |0.025|0.461|\n",
      "|[Appeal, not specified below, RUSSIA_2]               |[RUS]            |0.024|1.0  |\n",
      "|[Appeal, not specified below, RUS]                    |[RUSSIA_2]       |0.024|0.66 |\n",
      "|[Host a visit]                                        |[RUS]            |0.024|0.448|\n",
      "|[Appeal, not specified below]                         |[RUSSIA_2]       |0.024|0.367|\n",
      "|[Criticize or denounce ]                              |[RUS]            |0.024|0.81 |\n",
      "|[KYIV_2]                                              |[UKR]            |0.024|1.0  |\n",
      "|[Engage in negotiation]                               |[RUS]            |0.023|0.522|\n",
      "|[Make statement, not specified below]                 |[UKR]            |0.022|0.364|\n",
      "|[Consult, not specified below, UKRAINE_2]             |[UKR]            |0.022|1.0  |\n",
      "|[Consult, not specified below, UKR]                   |[UKRAINE_2]      |0.022|0.644|\n",
      "|[Appeal, not specified below]                         |[UKR]            |0.022|0.335|\n",
      "|[Praise or endorse]                                   |[RUS]            |0.019|0.328|\n",
      "|[Make a visit, UKRAINE_2]                             |[UKR]            |0.019|1.0  |\n",
      "|[Make statement, not specified below, RUSSIA_2]       |[RUS]            |0.019|1.0  |\n",
      "|[Make statement, not specified below, RUS]            |[RUSSIA_2]       |0.019|0.623|\n",
      "|[Make a visit, UKR]                                   |[UKRAINE_2]      |0.019|0.6  |\n",
      "|[Make a visit]                                        |[UKRAINE_2]      |0.019|0.373|\n",
      "|[Make statement, not specified below]                 |[RUSSIA_2]       |0.019|0.307|\n",
      "|[Host a visit, UKRAINE_2]                             |[UKR]            |0.018|1.0  |\n",
      "|[Host a visit, UKR]                                   |[UKRAINE_2]      |0.018|0.717|\n",
      "|[Host a visit]                                        |[UKRAINE_2]      |0.018|0.33 |\n",
      "|[Consult, not specified below, RUSSIA_2]              |[RUS]            |0.018|1.0  |\n",
      "|[Consult, not specified below, RUS]                   |[RUSSIA_2]       |0.018|0.497|\n",
      "|[Impose embargo, boycott, or sanctions]               |[RUS]            |0.017|0.913|\n",
      "|[Engage in negotiation]                               |[UKR]            |0.017|0.387|\n",
      "|[VLADIMIR PUTIN_2]                                    |[RUS]            |0.016|1.0  |\n",
      "|[Make statement, not specified below, UKRAINE_2]      |[UKR]            |0.016|1.0  |\n",
      "|[Accuse, not specified below]                         |[RUS]            |0.016|0.773|\n",
      "|[Make statement, not specified below, UKR]            |[UKRAINE_2]      |0.016|0.708|\n",
      "|[Appeal, not specified below, UKRAINE_2]              |[UKR]            |0.015|1.0  |\n",
      "|[Appeal, not specified below, UKR]                    |[UKRAINE_2]      |0.015|0.702|\n",
      "|[Make optimistic comment]                             |[RUS]            |0.015|0.695|\n",
      "|[Criticize or denounce , RUSSIA_2]                    |[RUS]            |0.014|1.0  |\n",
      "|[Criticize or denounce , RUS]                         |[RUSSIA_2]       |0.014|0.588|\n",
      "|[Express intent to meet or negotiate]                 |[RUS]            |0.014|0.583|\n",
      "|[Criticize or denounce ]                              |[RUSSIA_2]       |0.014|0.476|\n",
      "|[Make pessimistic comment]                            |[RUS]            |0.014|0.5  |\n",
      "|[Threaten, not specified below, RUSSIA_2]             |[RUS]            |0.013|1.0  |\n",
      "|[Consult, not specified below, RUSSIAN_2]             |[RUS]            |0.013|1.0  |\n",
      "|[Threaten, not specified below, RUS]                  |[RUSSIA_2]       |0.013|0.479|\n",
      "|[Consult, not specified below, RUS]                   |[RUSSIAN_2]      |0.013|0.377|\n",
      "|[Threaten, not specified below]                       |[RUSSIA_2]       |0.013|0.356|\n",
      "|[CHINA_1]                                             |[RUS]            |0.013|0.824|\n",
      "|[Make pessimistic comment]                            |[UKR]            |0.013|0.475|\n",
      "|[Use conventional military force, not specified below]|[UKR]            |0.013|0.495|\n",
      "|[WASHINGTON_1]                                        |[RUS]            |0.012|0.779|\n",
      "|[Use conventional military force, not specified below]|[RUS]            |0.012|0.486|\n",
      "|[Praise or endorse, RUSSIA_2]                         |[RUS]            |0.012|1.0  |\n",
      "|[Praise or endorse, RUS]                              |[RUSSIA_2]       |0.012|0.634|\n",
      "|[Impose embargo, boycott, or sanctions, RUSSIA_2]     |[RUS]            |0.012|1.0  |\n",
      "|[Threaten, not specified below, RUSSIAN_2]            |[RUS]            |0.012|1.0  |\n",
      "|[Impose embargo, boycott, or sanctions, RUS]          |[RUSSIA_2]       |0.012|0.699|\n",
      "|[Impose embargo, boycott, or sanctions]               |[RUSSIA_2]       |0.012|0.638|\n",
      "|[Threaten, not specified below, RUS]                  |[RUSSIAN_2]      |0.012|0.429|\n",
      "|[Threaten, not specified below]                       |[RUSSIAN_2]      |0.012|0.319|\n",
      "|[Host a visit, RUSSIAN_2]                             |[RUS]            |0.012|1.0  |\n",
      "|[UKRAINIAN_1]                                         |[RUS]            |0.012|0.735|\n",
      "|[Host a visit, RUS]                                   |[RUSSIAN_2]      |0.012|0.485|\n",
      "|[CHINA_1, RUSSIA_2]                                   |[RUS]            |0.011|1.0  |\n",
      "|[CHINA_1, RUS]                                        |[RUSSIA_2]       |0.011|0.875|\n",
      "|[CRIMEA_1]                                            |[RUS]            |0.011|0.86 |\n",
      "|[CHINA_1]                                             |[RUSSIA_2]       |0.011|0.721|\n",
      "|[Provide military aid]                                |[UKR]            |0.011|0.667|\n",
      "|[Accuse, not specified below, RUSSIA_2]               |[RUS]            |0.011|1.0  |\n",
      "|[Make pessimistic comment, UKRAINE_2]                 |[UKR]            |0.011|1.0  |\n",
      "|[Make pessimistic comment, UKR]                       |[UKRAINE_2]      |0.011|0.839|\n",
      "|[Accuse, not specified below, RUS]                    |[RUSSIA_2]       |0.011|0.691|\n",
      "|[AMERICAN_1]                                          |[RUS]            |0.011|0.691|\n",
      "|[Accuse, not specified below]                         |[RUSSIA_2]       |0.011|0.534|\n",
      "|[Make pessimistic comment]                            |[UKRAINE_2]      |0.011|0.398|\n",
      "|[UNITED STATES_2]                                     |[USA]            |0.011|1.0  |\n",
      "|[DONBAS_1]                                            |[RUS]            |0.011|0.807|\n",
      "|[USA]                                                 |[UNITED STATES_2]|0.011|0.307|\n",
      "|[Demand, not specified below]                         |[RUS]            |0.011|0.523|\n",
      "|[Engage in negotiation, RUSSIA_2]                     |[RUS]            |0.01 |1.0  |\n",
      "|[CHINESE_1]                                           |[RUS]            |0.01 |0.746|\n",
      "|[JOE BIDEN_1]                                         |[RUS]            |0.01 |0.667|\n",
      "|[Engage in negotiation, RUS]                          |[RUSSIA_2]       |0.01 |0.454|\n",
      "|[UKRAINIAN_1, RUSSIA_2]                               |[RUS]            |0.01 |1.0  |\n",
      "|[UKRAINIAN_1, RUS]                                    |[RUSSIA_2]       |0.01 |0.86 |\n",
      "|[US OFFICIAL_1]                                       |[RUS]            |0.01 |0.694|\n",
      "+------------------------------------------------------+-----------------+-----+-----+\n",
      "only showing top 100 rows"
     ]
    }
   ],
   "source": [
    "fim_years('itemset', [2022])"
   ]
  }
 ],
 "metadata": {
  "kernelspec": {
   "display_name": "Python 3 (ipykernel)",
   "language": "python",
   "name": "python3"
  },
  "language_info": {
   "codemirror_mode": {
    "name": "ipython",
    "version": 3
   },
   "file_extension": ".py",
   "mimetype": "text/x-python",
   "name": "python",
   "nbconvert_exporter": "python",
   "pygments_lexer": "ipython3",
   "version": "3.9.6"
  },
  "toc": {
   "base_numbering": 1,
   "nav_menu": {},
   "number_sections": true,
   "sideBar": true,
   "skip_h1_title": false,
   "title_cell": "Table of Contents",
   "title_sidebar": "Contents",
   "toc_cell": false,
   "toc_position": {},
   "toc_section_display": true,
   "toc_window_display": false
  }
 },
 "nbformat": 4,
 "nbformat_minor": 5
}
