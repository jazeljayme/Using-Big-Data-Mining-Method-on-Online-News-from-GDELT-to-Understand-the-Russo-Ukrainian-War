{
 "cells": [
  {
   "cell_type": "raw",
   "id": "968e07f7-2b30-4f4f-a599-53f3cdcb62a9",
   "metadata": {},
   "source": [
    "<script>\n",
    "  function code_toggle() {\n",
    "    if (code_shown){\n",
    "      $('div.input').hide('500');\n",
    "      $('#toggleButton').val('Show Code')\n",
    "    } else {\n",
    "      $('div.input').show('500');\n",
    "      $('#toggleButton').val('Hide Code')\n",
    "    }\n",
    "    code_shown = !code_shown\n",
    "  }\n",
    "\n",
    "  $( document ).ready(function(){\n",
    "    code_shown=false;\n",
    "    $('div.input').hide()\n",
    "  });\n",
    "</script>\n",
    "<form action=\"javascript:code_toggle()\">\n",
    "  <input type=\"submit\" id=\"toggleButton\" value=\"Show Code\">\n",
    "</form>"
   ]
  },
  {
   "cell_type": "code",
   "execution_count": 1,
   "id": "566bb8da-668e-481f-aef7-f7ef24a04151",
   "metadata": {
    "execution": {
     "iopub.execute_input": "2022-03-13T11:42:03.349285Z",
     "iopub.status.busy": "2022-03-13T11:42:03.349047Z",
     "iopub.status.idle": "2022-03-13T11:42:31.243883Z",
     "shell.execute_reply": "2022-03-13T11:42:31.243282Z",
     "shell.execute_reply.started": "2022-03-13T11:42:03.349259Z"
    },
    "tags": []
   },
   "outputs": [
    {
     "data": {
      "application/vnd.jupyter.widget-view+json": {
       "model_id": "626c3a8f0b81497280f5fef4e71c9d7b",
       "version_major": 2,
       "version_minor": 0
      },
      "text/plain": [
       "VBox()"
      ]
     },
     "metadata": {},
     "output_type": "display_data"
    },
    {
     "name": "stdout",
     "output_type": "stream",
     "text": [
      "Starting Spark application\n"
     ]
    },
    {
     "data": {
      "text/html": [
       "<table>\n",
       "<tr><th>ID</th><th>YARN Application ID</th><th>Kind</th><th>State</th><th>Spark UI</th><th>Driver log</th><th>Current session?</th></tr><tr><td>0</td><td>application_1647248874453_0002</td><td>pyspark</td><td>idle</td><td><a target=\"_blank\" href=\"http://ip-172-31-16-80.ec2.internal:20888/proxy/application_1647248874453_0002/\" class=\"emr-proxy-link\" emr-resource=\"j-1AEIEPT4ANWXA\n",
       "\" application-id=\"application_1647248874453_0002\">Link</a></td><td><a target=\"_blank\" href=\"http://ip-172-31-25-122.ec2.internal:8042/node/containerlogs/container_1647248874453_0002_01_000001/livy\" >Link</a></td><td>✔</td></tr></table>"
      ],
      "text/plain": [
       "<IPython.core.display.HTML object>"
      ]
     },
     "metadata": {},
     "output_type": "display_data"
    },
    {
     "data": {
      "application/vnd.jupyter.widget-view+json": {
       "model_id": "",
       "version_major": 2,
       "version_minor": 0
      },
      "text/plain": [
       "FloatProgress(value=0.0, bar_style='info', description='Progress:', layout=Layout(height='25px', width='50%'),…"
      ]
     },
     "metadata": {},
     "output_type": "display_data"
    },
    {
     "name": "stdout",
     "output_type": "stream",
     "text": [
      "SparkSession available as 'spark'.\n"
     ]
    },
    {
     "data": {
      "application/vnd.jupyter.widget-view+json": {
       "model_id": "",
       "version_major": 2,
       "version_minor": 0
      },
      "text/plain": [
       "FloatProgress(value=0.0, bar_style='info', description='Progress:', layout=Layout(height='25px', width='50%'),…"
      ]
     },
     "metadata": {},
     "output_type": "display_data"
    }
   ],
   "source": [
    "from pyspark.sql import SparkSession\n",
    "\n",
    "spark = SparkSession \\\n",
    "        .builder \\\n",
    "        .appName('aws') \\\n",
    "        .getOrCreate()"
   ]
  },
  {
   "cell_type": "code",
   "execution_count": 2,
   "id": "3f5181ff-f7d6-4cbe-8eec-e1102937cca8",
   "metadata": {
    "execution": {
     "iopub.execute_input": "2022-03-13T11:42:31.245023Z",
     "iopub.status.busy": "2022-03-13T11:42:31.244853Z",
     "iopub.status.idle": "2022-03-13T11:42:32.537689Z",
     "shell.execute_reply": "2022-03-13T11:42:32.536957Z",
     "shell.execute_reply.started": "2022-03-13T11:42:31.245002Z"
    },
    "tags": []
   },
   "outputs": [
    {
     "data": {
      "application/vnd.jupyter.widget-view+json": {
       "model_id": "84d9afa11fe7453082e2841e69c1aa9f",
       "version_major": 2,
       "version_minor": 0
      },
      "text/plain": [
       "VBox()"
      ]
     },
     "metadata": {},
     "output_type": "display_data"
    },
    {
     "data": {
      "application/vnd.jupyter.widget-view+json": {
       "model_id": "",
       "version_major": 2,
       "version_minor": 0
      },
      "text/plain": [
       "FloatProgress(value=0.0, bar_style='info', description='Progress:', layout=Layout(height='25px', width='50%'),…"
      ]
     },
     "metadata": {},
     "output_type": "display_data"
    }
   ],
   "source": [
    "import pandas as pd\n",
    "import numpy as np\n",
    "\n",
    "import pyspark.sql.functions as f\n",
    "from pyspark.ml.fpm import FPGrowth\n",
    "\n",
    "from urllib.request import urlopen\n",
    "from datetime import datetime\n",
    "from functools import reduce"
   ]
  },
  {
   "cell_type": "code",
   "execution_count": 22,
   "id": "7907ecb9-c1a9-42d1-85da-6e555db87025",
   "metadata": {
    "execution": {
     "iopub.execute_input": "2022-03-13T11:48:53.994987Z",
     "iopub.status.busy": "2022-03-13T11:48:53.994808Z",
     "iopub.status.idle": "2022-03-13T11:48:54.067987Z",
     "shell.execute_reply": "2022-03-13T11:48:54.067267Z",
     "shell.execute_reply.started": "2022-03-13T11:48:53.994965Z"
    }
   },
   "outputs": [
    {
     "data": {
      "application/vnd.jupyter.widget-view+json": {
       "model_id": "3d87ece77c4f4d00a605908a5221d740",
       "version_major": 2,
       "version_minor": 0
      },
      "text/plain": [
       "VBox()"
      ]
     },
     "metadata": {},
     "output_type": "display_data"
    },
    {
     "data": {
      "application/vnd.jupyter.widget-view+json": {
       "model_id": "",
       "version_major": 2,
       "version_minor": 0
      },
      "text/plain": [
       "FloatProgress(value=0.0, bar_style='info', description='Progress:', layout=Layout(height='25px', width='50%'),…"
      ]
     },
     "metadata": {},
     "output_type": "display_data"
    }
   ],
   "source": [
    "def fim_years(itemsCol, years, minSupport=0.001, minConfidence=0.3):\n",
    "    \"\"\"Returns the first 20 association rules for the inputted\n",
    "    column of itemsets.\n",
    "\n",
    "    Parameters\n",
    "    -----\n",
    "    itemsCol: column of a dataframe\n",
    "        Column of itemsets.\n",
    "\n",
    "    years: list\n",
    "        Included years in the inputted column.\n",
    "\n",
    "    minSupport: float\n",
    "        Required minimum support for the FIM.\n",
    "\n",
    "    minConfidence: float\n",
    "        Required minimum confidence for the FIM.\n",
    "\n",
    "    Output\n",
    "    -----\n",
    "    dataframe\n",
    "        List of first 20 association rules\n",
    "    \"\"\"\n",
    "    fpg = FPGrowth(itemsCol=itemsCol,\n",
    "                   minSupport=minSupport,\n",
    "                   minConfidence=minConfidence)\n",
    "    fpg_trained = fpg.fit(trans_db.filter(trans_db.Year.isin(years))\n",
    "                          .select(trans_db.SQLDATE,\n",
    "                                  f.array_distinct(f.split(\n",
    "                                      trans_db.itemset[0], \"-\"))\n",
    "                                  .alias('itemset')))\n",
    "\n",
    "    return (fpg_trained.associationRules\n",
    "                       .orderBy(['support', 'confidence'],\n",
    "                                ascending=[False, False])\n",
    "                       .select('antecedent', 'consequent',\n",
    "                               f.round('support', 3).alias('sup'),\n",
    "                               f.round('confidence', 3).alias('conf'))\n",
    "            ).show(truncate=False)"
   ]
  },
  {
   "cell_type": "markdown",
   "id": "7864fac0",
   "metadata": {},
   "source": [
    "![banner](banner.PNG)"
   ]
  },
  {
   "cell_type": "markdown",
   "id": "429d275d",
   "metadata": {},
   "source": [
    "<div style='text-align: center; background-color: #FFD500; color: #005BBB; font-size: 60px; padding: 16px'><b><tt>CYBERWARFARE</tt></b></div>\n",
    "\n",
    "<div style='text-align: center; background-color: #FFD500; color: #005BBB; font-size: 16px; font-style: bold; padding: 6px'><b>USING BIG DATA MINING METHODS ON ONLINE NEWS SOURCES<br>TO UNDERSTAND CONCURRENT EVENTS WITH THE RUSSO-UKRAINIAN WAR IN YEARS 2013-2022</b></div>"
   ]
  },
  {
   "cell_type": "markdown",
   "id": "f80aaeb1",
   "metadata": {},
   "source": [
    "# Executive Summary"
   ]
  },
  {
   "cell_type": "markdown",
   "id": "2c4e258a",
   "metadata": {},
   "source": [
    "<div style='font-size: 18px; font-weight: bold;'>Background</div>\n",
    "<br><div style='text-align: justify;'>The Russo-Ukrainian War has existed since 2014. Global news outlets have continued to report on the re-escalation in early 2022 as Russia invaded Ukraine. However, the intervening years was given less attention by source documents even if the war did not stop between 2015 and 2021, leading journalists to call it the \"forgotten war.\" In this report, we use a novel application of itemset mining to surface frequent event patterns among geopolitical events concurrent to the Russo-Ukrainian War. By using big data available from news sources, we aim to identify trends in global sentiment and extract frequently occurring geopolitical events between Russia, Ukraine, and other major players, to further understand the Russo-Ukrainian tensions in the intervening years.</div>\n",
    "<br>"
   ]
  },
  {
   "cell_type": "markdown",
   "id": "14149e4e",
   "metadata": {},
   "source": [
    "<div style='font-size: 18px; font-weight: bold;'>Methods</div>\n",
    "<br><div style='text-align: justify;'>We used the Global Database of Events, Language and Tone (GDELT) dataset available at the AWS Registry of Open Data and Google BigQuery. Limiting the scope to years 2013 to 2022 only, we accessed the dataset by initializing the necessary instances and machines on Google Cloud Platform and AWS and connecting to the appropriate bucket. We then converted the RDD into Spark DataFrames for convenient manipulation and preprocessing. The resulting file was saved in Parquet format, where relevant tables and results were filtered and processed using Spark SQL and Spark ML's <tt>FPGrowth</tt> library. A minimum support of 0.001 and a confidence of 0.3 were used to generate the frequent itemsets and its corresponding association rules. Python 3 was used to generate selected visualizations.</div>\n",
    "<br>"
   ]
  },
  {
   "cell_type": "markdown",
   "id": "890ab0de",
   "metadata": {},
   "source": [
    "<div style='font-size: 18px; font-weight: bold;'>Results</div>\n",
    "<br><div style='text-align: justify;'>Salient results from our analysis include the following:</div>\n",
    "<br><div style='text-align: justify; display: inline-block;'>\n",
    "    <ol>\n",
    "        <li>Frequently mentioned actors are mostly Presidents from major superpowers, such as the UK, the US, China, Russia, and Ukraine. Neither then-US President Donald Trump nor Ukrainian President Volodymyr Zelenskyy are included in the list of frequently mentioned actors.</li>\n",
    "        <br>\n",
    "        <li>The average tone of documents about Western world leaders is far more negative than that of their Eastern counterparts.</li>\n",
    "        <br>\n",
    "        <li>Highly mentioned events in the Russo-Ukrainian War are related to escalation events. However, the years 2015 to 2021 yielded very limited attention from source documents even if the war continued in these years.</li>\n",
    "        <br>\n",
    "        <li>Ukraine appears to be more prone to destabilization than Russia. This could be due to the latter's geopolitical and economic power. Towards early March 2022, however, it appeared that recent sanctions have negatively impacted Russia much more than Ukraine.</li>\n",
    "        <br>\n",
    "        <li>In mining the frequently occurring events and association rules, we saw no indication of Russia's interest in annexation of Crimea before the war. However, when it started in 2014, it was only the US who actively sanctioned and imposed embargoes on Russia. There was a period of relative silence from 2015 to 2021, and global attention increased at the re-escalation in 2022 given the invasion by and economic sanctions against Russia.</li>\n",
    "    </ol>\n",
    "</div>\n",
    "<br>"
   ]
  },
  {
   "cell_type": "markdown",
   "id": "9c56c811",
   "metadata": {},
   "source": [
    "<div style='font-size: 18px; font-weight: bold;'>Conclusion and Recommendations</div>\n",
    "<br><div style='text-align: justify;'>We described the global sentiment and mined for frequently occurring events concurrent to the Russo-Ukrainian War and its corresponding association rules. We suggest conducting further research to validate our findings against the historical context pre-2013. Future research may extend our report by sequence-aware pattern mining to fully understand the nuances between the dynamics of actors, including repeating and/or sequential patterns of certain actors.</div>\n",
    "<br>"
   ]
  },
  {
   "cell_type": "markdown",
   "id": "1a237619",
   "metadata": {},
   "source": [
    "# 1. Introduction\n",
    "\n",
    "<br><div style='text-align: justify;'>The conflict between Ukraine and Russia is only the latest in the Russo-Ukrainian War. While the war has received global attention when it started in 2014, it has received far less attention in succeeding years. Geopolitical commentators called it as Europe's \"forgotten war\" for reasons of friendlier ties of global leaders to Putin and lesser global attention, despite continued escalation and illegal annexation in the areas of Crimea and Donbas. Since then, the conflict has ranged from the physical (Russia has been present at the areas since 2014) to the digital (cyberwarfare has further intensified in recent months, which started from organized hacking around the initial days of war in 2014). In this report, we provide a novel way of analyzing concurrent events with the Russo-Ukrainian War using big data from a wide range of news sources.</div>\n",
    "<br><div style='text-align: justify; text-indent: 2em'>By using big data available from a wide range of news sources, we aim to identify trends in global sentiment, from the \"tone\" of documents on a particular topic to their potential impact to a nation's stability. We want to extract frequently occurring geopolitical events between Russia, Ukraine, and other major players, and understand the Russo-Ukrainian tensions.</div>"
   ]
  },
  {
   "cell_type": "markdown",
   "id": "a19f3dfa",
   "metadata": {},
   "source": [
    "## 1.1. Background"
   ]
  },
  {
   "cell_type": "markdown",
   "id": "ca38db69",
   "metadata": {},
   "source": [
    "### 1.1.1. Revolution of Dignity\n",
    "\n",
    "<br><div style='text-align: justify;'>Violent protests occurred in Ukraine in February 2014, following the eviction of then-Ukrainian President Viktor Yanukovych and his government ([Kharkiv, Kiev & Lviv, 2014](#kharkiv)). It was closely related to his decision not to be part of the European Union and, instead, be closer to Russia ([Kyiv Post, 2013](#kyiv)). While an interim government was put in place of the former government, Russia slowly increased its military presence in Crimea, a peninsula at the south of Ukraine.</div>"
   ]
  },
  {
   "cell_type": "markdown",
   "id": "14ebf615",
   "metadata": {},
   "source": [
    "### 1.1.2. Annexation of Crimea and War in Donbas\n",
    "\n",
    "<br><div style='text-align: justify;'>On the 20th of February 2014, Russia annexed Crimea and formally took control of the area, capturing political structures and raising Russian flags, in addition to its attack on the government of Ukraine as well as social media websites ([Cathcart, 2014](#cathcart)). The area has been under Russian control ever since. Outside institutions denounced Russia's actions, including the United Nations General Assembly ([United Nations, 2014](#united)).</div>"
   ]
  },
  {
   "cell_type": "markdown",
   "id": "13a2f511",
   "metadata": {},
   "source": [
    "### 1.1.3. On frequent event pattern mining\n",
    "\n",
    "<br><div style='text-align: justify;'>Frequent pattern mining has been used to obtain knowledge and useful patterns when manual review is infeasible. For instance, event log monitoring tools have been used to handle security incidents and automate event log analysis for network and systems management (Vaarandi, 2008). It has similarly been used in sports, such as rugby, to determine patterns of play and observe which actions (e.g., line breaks, successful line-outs, regained kicks in play, repeated phase-breakdown play, and failed exit plays) lead to team scoring or not scoring. To our knowledge, no application has yet been done in geopolitical events at a scale as large as the GDELT database.</div>"
   ]
  },
  {
   "cell_type": "markdown",
   "id": "406632a7",
   "metadata": {},
   "source": [
    "## 1.2. Motivation and Impact\n",
    "\n",
    "<br><div style='text-align: justify;'>Given recent events surrounding both Ukraine and Russia, this report assesses how the situation developed over the years as reported through different platforms between the years 2013 and 2022. In so doing, this may aid in understanding the level of perception provided by actors and the frequent geopolitical events that may not be immediately apparent in the day-to-day and overwhelming reports of news sources.</div>"
   ]
  },
  {
   "cell_type": "markdown",
   "id": "deccac53",
   "metadata": {},
   "source": [
    "## 1.3. Problem Statement\n",
    "\n",
    "<br><div style='text-align: justify;'>In this report, we aim to answer the question, \"What is the overall global sentiment to and the frequently occurring geopolitical events concurrent with the Russo-Ukrainian War?\" Specifically, we focus on the following:</div>\n",
    "<div style='text-align: justify; display: inline-block;'>\n",
    "    <ol>\n",
    "        <li>Who are the most significant actors in source documents about the Russo-Ukrainian War?</li>\n",
    "        <li>What is the average sentiment of documents towards these significant actors?</li>\n",
    "        <li>What are the significant events in the Russo-Ukrainian War?</li>\n",
    "        <li>What events most influenced country instability in Russia and Ukraine?</li>\n",
    "        <li>What are the association rules between events that happened concurrently with the Russo-Ukrainian War?</li>\n",
    "        </ol>\n",
    "</div>"
   ]
  },
  {
   "cell_type": "markdown",
   "id": "31df2e47",
   "metadata": {},
   "source": [
    "## 1.4. Scope and Limitations\n",
    "\n",
    "<br><div style='text-align: justify;'>This study is subject to the following scope and limitations:</div>\n",
    "<div style='text-align: justify; display: inline-block;'>\n",
    "    <ol>\n",
    "        <li><b><u>Contextualization of the results may be subject to bias.</u></b> The authors claim no expertise in geopolitics. We nevertheless performed extensive research as required to situate the data and results in the proper context.</li>\n",
    "        <br>\n",
    "        <li><b><u>Limiting the scope between 2013 and 2022 due to data limitations.</u></b> The authors made no material changes to the data provided through the platforms. While experts may have helped in validating the information collected, we did not include this given time limitations. In addition, the dataset is only limited up to the first week of March; many developments may have occurred after time of submission.</li>\n",
    "        </ol>\n",
    "</div>"
   ]
  },
  {
   "cell_type": "markdown",
   "id": "2fa82c38",
   "metadata": {},
   "source": [
    "# 2. Data Source"
   ]
  },
  {
   "cell_type": "markdown",
   "id": "45a49b99-def7-4b37-906a-0a8dcb872945",
   "metadata": {},
   "source": [
    "## 2.1. Dataset Description\n",
    "\n",
    "<br><div style='text-align: justify;'>The `Global Database of Events, Language and Tone (GDELT)` dataset was retrieved from both the AWS Registry of Open Datasets ([GDELT Project, 2020](#gdelt)) and Google Cloud Platform's BigQuery. It periodically crawls and monitors many broadcasts, print, and web news from \"nearly every country.\" Its maintainers quantitatively codify events, conflicts, and reactions every 15 minutes. It has been used in understanding historical context given its coverage back to the year 1800, as well as observing emerging media given its scope. The data is made publicly available for unlimited and unrestricted use by the GDELT Project. The latest version of the dataset is available in the Google Cloud Platform, with 250 gigabytes worth of data containing more than 600 million event records. We provide details on the schema in the following table.</div>\n",
    "<br><center style=\"font-size:14px;font-style:default;\"><b>TABLE 1: Data Fields of the GDELT Dataset</b></center>\n",
    "\n",
    "| #  | Field                 | Type | Description |\n",
    "| :- | :-                    | :-   | :- |\n",
    "|  1 | <tt>GLOBALEVENTID</tt> | STR  | Globally unique identifier assigned to each event record that uniquely identifies it in the master dataset. |\n",
    "|  2 | <tt>SQLDATE</tt> | DATE | Date the event took place. |\n",
    "|  3 | <tt>MonthYear</tt> | DATE | Alternative formatting of the event date. |\n",
    "|  4 | <tt>Year</tt> | DATE | Alternative formatting of the event date. |\n",
    "|  5 | <tt>FractionDate</tt> | DATE | Alternative formatting of the event date. |\n",
    "|  6 | <tt>Actor1Code</tt> | STR  | The complete raw CAMEO code for <tt>Actor1</tt>. |\n",
    "|  7 | <tt>Actor1Name</tt> | STR  | The actual name of <tt>Actor1</tt>. |\n",
    "|  8 | <tt>Actor1CountryCode</tt> | STR  | The 3-character CAMEO code for the country affiliation of <tt>Actor1</tt>. |\n",
    "|  9 | <tt>Actor1KnownGroupCode</tt> | STR  | If <tt>Actor1</tt> is a known IGO/NGO/rebel organization (United Nations, World Bank, al-Qaeda, etc.) with its own CAMEO code, this field will contain that code. |\n",
    "| 10 | <tt>Actor1EthnicCode</tt> | STR  | If the source document specifies the ethnic affiliation of <tt>Actor1</tt> and that ethnic group has a CAMEO entry, the CAMEO code is entered here. |\n",
    "| 11 | <tt>Actor1Religion1Code</tt> | STR  | If the source document specifies the religious affiliation of <tt>Actor1</tt> and that religious group has a CAMEO entry, the CAMEO code is entered here. |\n",
    "| 12 | <tt>Actor1Religion2Code</tt> | STR  | If multiple religious codes are specified for <tt>Actor1</tt>, this contains the second code. |\n",
    "| 13 | <tt>Actor1Type1Code</tt> | STR  | The 3-character CAMEO code of the CAMEO \"type\" or \"role\" of <tt>Actor1</tt>, if specified. |\n",
    "| 14 | <tt>Actor1Type2Code</tt> | STR  | If multiple type/role codes are specified for <tt>Actor1</tt>, this returns the second code. |\n",
    "| 15 | <tt>Actor1Type3Code</tt> | STR  | If multiple type/role codes are specified for <tt>Actor1</tt>, this returns the third code. |\n",
    "| 16 | <tt>Actor2Code</tt> | STR  | The 3-character CAMEO code for the country affiliation of <tt>Actor2</tt>. |\n",
    "| 17 | <tt>Actor2Name</tt> | STR  | The actual name of <tt>Actor2</tt>. |\n",
    "| 18 | <tt>Actor2CountryCode</tt> | STR  | The 3-character CAMEO code for the country affiliation of <tt>Actor2</tt>. |\n",
    "| 19 | <tt>Actor2KnownGroupCode</tt> | STR  | If <tt>Actor2</tt> is a known IGO/NGO/rebel organization (United Nations, World Bank, al-Qaeda, etc.) with its own CAMEO code, this field will contain that code. |\n",
    "| 20 | <tt>Actor2EthnicCode</tt> | STR  | If the source document specifies the ethnic affiliation of <tt>Actor2</tt> and that ethnic group has a CAMEO entry, the CAMEO code is entered here. |\n",
    "| 21 | <tt>Actor2Religion1Code</tt> | STR  | If the source document specifies the religious affiliation of <tt>Actor2</tt> and that religious group has a CAMEO entry, the CAMEO code is entered here |\n",
    "| 22 | <tt>Actor2Religion2Code</tt> | STR  | If multiple religious codes are specified for <tt>Actor2</tt>, this contains the second code. |\n",
    "| 23 | <tt>Actor2Type1Code</tt> | STR  | The 3-character CAMEO code of the CAMEO \"type\" or \"role\" of <tt>Actor2</tt>, if specified. |\n",
    "| 24 | <tt>Actor2Type2Code</tt> | STR  | If multiple type/role codes are specified for <tt>Actor2</tt>, this returns the second code. |\n",
    "| 25 | <tt>Actor2Type3Code</tt> | STR  | If multiple type/role codes are specified for <tt>Actor2</tt>, this returns the third code. |\n",
    "| 26 | <tt>IsRootEvent</tt> | STR  | The system codes every event found in an entire document, using an array of techniques to reference and link information together. |\n",
    "| 27 | <tt>EventCode</tt> | STR  | The raw CAMEO action code describing the action that <tt>Actor1</tt> performed upon <tt>Actor2</tt>. |\n",
    "| 28 | <tt>EventBaseCode</tt> | STR  | CAMEO event codes are defined in a three-level taxonomy. For events at level three in the taxonomy, this yields its level-two leaf root node. |\n",
    "| 29 | <tt>EventRootCode</tt> | STR  | Similar to <tt>EventBaseCode</tt>, this defines the root-level category the event code falls under. |\n",
    "| 30 | <tt>QuadClass</tt> | STR  | This field specifies this primary classification for the event type, allowing analysis at the highest level of aggregation. |\n",
    "| 31 | <tt>GoldsteinScale</tt> | INT  | A numeric score from -10 to +10, capturing the theoretical potential impact that type of event will have on the stability of a country. |\n",
    "| 32 | <tt>NumMentions</tt> | INT  | The total number of mentions of this event across all source documents. |\n",
    "| 33 | <tt>NumSources</tt> | INT  | The total number of information sources containing one or more mentions of this event. |\n",
    "| 34 | <tt><tt>NumArticles</tt> | INT  | The total number of source documents containing one or more mentions of this event. |\n",
    "| 35 | <tt>AvgTone</tt> | INT  | The average \"tone\" of all documents containing one or more mentions of this event. |\n",
    "| 36 | <tt>Actor1Geo_Type</tt> | STR  | The geographic resolution of the match type. |\n",
    "| 37 | <tt>Actor1Geo_FullName</tt> | STR  | The full human-readable name of the matched location. |\n",
    "| 38 | <tt>Actor1Geo_CountryCode</tt> | STR  | The 2-character FIPS10-4 country code for the location. |\n",
    "| 39 | <tt>Actor1Geo_ADM1Code</tt> | STR  | The 2-character FIPS10-4 country code followed by the 2-character FIPS10-4 administrative division 1 (ADM1) code for the administrative division housing the landmark. |\n",
    "| 40 | <tt>Actor1Geo_Lat</tt> | INT  | The centroid latitude of the landmark for mapping. |\n",
    "| 41 | <tt>Actor1Geo_Long</tt> | INT  | The centroid longitude of the landmark for mapping. |\n",
    "| 42 | <tt>Actor1Geo_FeatureID</tt> | STR  | The GNS or GNIS FeatureID for this location. |\n",
    "| 43 | <tt>Actor2Geo_Type</tt> | STR  | The geographic resolution of the match type. |\n",
    "| 44 | <tt>Actor2Geo_FullName</tt> | STR  | The full human-readable name of the matched location. |\n",
    "| 45 | <tt>Actor2Geo_CountryCode</tt> | STR  | The 2-character FIPS10-4 country code for the location. |\n",
    "| 46 | <tt>Actor2Geo_ADM1Code</tt> | STR  | The 2-character FIPS10-4 country code followed by the 2-character FIPS10-4 administrative division 1 (ADM1) code for the administrative division housing the landmark. |\n",
    "| 47 | <tt>Actor2Geo_Lat</tt> | INT  | The centroid latitude of the landmark for mapping. |\n",
    "| 48 | <tt>Actor2Geo_Long</tt> | INT  | The centroid longitude of the landmark for mapping. |\n",
    "| 49 | <tt>Actor2Geo_FeatureID</tt> | STR  | The GNS or GNIS FeatureID for this location. |\n",
    "| 50 | <tt>ActionGeo_Type</tt> | STR  | The geographic resolution of the match type. |\n",
    "| 51 | <tt>ActionGeo_FullName</tt> | STR  | The full human-readable name of the matched location. |\n",
    "| 52 | <tt>ActionGeo_CountryCode</tt> | STR  | The 2-character FIPS10-4 country code for the location. |\n",
    "| 53 | <tt>ActionGeo_ADM1Code</tt> | STR  | The 2-character FIPS10-4 country code followed by the 2-character FIPS10-4 administrative division 1 (ADM1) code for the administrative division housing the landmark. |\n",
    "| 54 | <tt>ActionGeo_Lat</tt> | INT  | The centroid latitude of the landmark for mapping. |\n",
    "| 55 | <tt>ActionGeo_Long</tt> | INT  | The centroid longitude of the landmark for mapping. |\n",
    "| 56 | <tt>ActionGeo_FeatureID</tt> | STR  | The GNS or GNIS FeatureID for this location. |\n",
    "| 57 | <tt>DATEADDED</tt> | DATE | The date the event was added to the master database. |\n",
    "| 58 | <tt>SOURCEURL</tt> | STR  | The URL of the news article in which the event was found. |"
   ]
  },
  {
   "cell_type": "markdown",
   "id": "91c77e36",
   "metadata": {},
   "source": [
    "## 2.2. Summary Statistics"
   ]
  },
  {
   "cell_type": "code",
   "execution_count": 3,
   "id": "7fea36e4-cfae-4e2f-bb12-7010ae5c7c01",
   "metadata": {
    "execution": {
     "iopub.execute_input": "2022-03-13T11:42:32.539574Z",
     "iopub.status.busy": "2022-03-13T11:42:32.539307Z",
     "iopub.status.idle": "2022-03-13T11:42:43.883793Z",
     "shell.execute_reply": "2022-03-13T11:42:43.882878Z",
     "shell.execute_reply.started": "2022-03-13T11:42:32.539540Z"
    },
    "tags": []
   },
   "outputs": [
    {
     "data": {
      "application/vnd.jupyter.widget-view+json": {
       "model_id": "7042af10ce364bada1512c1f062140b6",
       "version_major": 2,
       "version_minor": 0
      },
      "text/plain": [
       "VBox()"
      ]
     },
     "metadata": {},
     "output_type": "display_data"
    },
    {
     "data": {
      "application/vnd.jupyter.widget-view+json": {
       "model_id": "",
       "version_major": 2,
       "version_minor": 0
      },
      "text/plain": [
       "FloatProgress(value=0.0, bar_style='info', description='Progress:', layout=Layout(height='25px', width='50%'),…"
      ]
     },
     "metadata": {},
     "output_type": "display_data"
    }
   ],
   "source": [
    "df_all = spark.read.parquet('s3://bdcc-final-project-bucket/df_combined.parquet')"
   ]
  },
  {
   "cell_type": "code",
   "execution_count": 4,
   "id": "5f6689fd-0d7d-483d-9afa-c4d153ff59dc",
   "metadata": {
    "execution": {
     "iopub.execute_input": "2022-03-13T11:42:43.885613Z",
     "iopub.status.busy": "2022-03-13T11:42:43.885368Z",
     "iopub.status.idle": "2022-03-13T11:42:46.879622Z",
     "shell.execute_reply": "2022-03-13T11:42:46.878935Z",
     "shell.execute_reply.started": "2022-03-13T11:42:43.885580Z"
    },
    "tags": []
   },
   "outputs": [
    {
     "data": {
      "application/vnd.jupyter.widget-view+json": {
       "model_id": "3dc04c9c571c41d2a004d338911df87a",
       "version_major": 2,
       "version_minor": 0
      },
      "text/plain": [
       "VBox()"
      ]
     },
     "metadata": {},
     "output_type": "display_data"
    },
    {
     "data": {
      "application/vnd.jupyter.widget-view+json": {
       "model_id": "",
       "version_major": 2,
       "version_minor": 0
      },
      "text/plain": [
       "FloatProgress(value=0.0, bar_style='info', description='Progress:', layout=Layout(height='25px', width='50%'),…"
      ]
     },
     "metadata": {},
     "output_type": "display_data"
    }
   ],
   "source": [
    "df_all.createOrReplaceTempView('df_all')"
   ]
  },
  {
   "cell_type": "markdown",
   "id": "35a66acc",
   "metadata": {},
   "source": [
    "<div style='text-align: justify;'>Using the data from 2013 to 2022, we retrieved a total of 695,440,526 rows. Accessing the dataset through Parquet has made retrieval easier, with runtimes for most codes below running for 2 minutes or less.</div>\n",
    "<br><center style=\"font-size:14px;font-style:default;\"><b>TABLE 2: Number of Rows per Year</b></center>"
   ]
  },
  {
   "cell_type": "code",
   "execution_count": 5,
   "id": "30e3b4e8-4918-4266-956c-d88dcd30d7cc",
   "metadata": {
    "execution": {
     "iopub.execute_input": "2022-03-13T11:42:46.888324Z",
     "iopub.status.busy": "2022-03-13T11:42:46.883558Z",
     "iopub.status.idle": "2022-03-13T11:43:00.297201Z",
     "shell.execute_reply": "2022-03-13T11:43:00.296518Z",
     "shell.execute_reply.started": "2022-03-13T11:42:46.888286Z"
    },
    "tags": []
   },
   "outputs": [
    {
     "data": {
      "application/vnd.jupyter.widget-view+json": {
       "model_id": "d2abb7642ecc425fae13420ee5a63fe1",
       "version_major": 2,
       "version_minor": 0
      },
      "text/plain": [
       "VBox()"
      ]
     },
     "metadata": {},
     "output_type": "display_data"
    },
    {
     "data": {
      "application/vnd.jupyter.widget-view+json": {
       "model_id": "",
       "version_major": 2,
       "version_minor": 0
      },
      "text/plain": [
       "FloatProgress(value=0.0, bar_style='info', description='Progress:', layout=Layout(height='25px', width='50%'),…"
      ]
     },
     "metadata": {},
     "output_type": "display_data"
    },
    {
     "name": "stdout",
     "output_type": "stream",
     "text": [
      "+----+---------+\n",
      "|Year|    count|\n",
      "+----+---------+\n",
      "|2013| 27407188|\n",
      "|2014| 48381955|\n",
      "|2015| 88097260|\n",
      "|2016|114490697|\n",
      "|2017|105043785|\n",
      "|2018| 94274806|\n",
      "|2019| 82320409|\n",
      "|2020| 65355708|\n",
      "|2021| 58835556|\n",
      "|2022| 11233162|\n",
      "+----+---------+"
     ]
    }
   ],
   "source": [
    "(spark.sql(\"\"\"SELECT Year, COUNT(*) as count\n",
    "              FROM df_all\n",
    "              GROUP BY Year\n",
    "              ORDER BY Year ASC\n",
    "              \"\"\").show())"
   ]
  },
  {
   "cell_type": "code",
   "execution_count": 6,
   "id": "2812e470-03cb-4b4e-b4e0-30c22fd2fc76",
   "metadata": {
    "execution": {
     "iopub.execute_input": "2022-03-13T11:43:00.298343Z",
     "iopub.status.busy": "2022-03-13T11:43:00.298109Z",
     "iopub.status.idle": "2022-03-13T11:43:03.654390Z",
     "shell.execute_reply": "2022-03-13T11:43:03.653621Z",
     "shell.execute_reply.started": "2022-03-13T11:43:00.298311Z"
    },
    "tags": []
   },
   "outputs": [
    {
     "data": {
      "application/vnd.jupyter.widget-view+json": {
       "model_id": "f72ad51ba0cd43219c714ca6e9148caa",
       "version_major": 2,
       "version_minor": 0
      },
      "text/plain": [
       "VBox()"
      ]
     },
     "metadata": {},
     "output_type": "display_data"
    },
    {
     "data": {
      "application/vnd.jupyter.widget-view+json": {
       "model_id": "",
       "version_major": 2,
       "version_minor": 0
      },
      "text/plain": [
       "FloatProgress(value=0.0, bar_style='info', description='Progress:', layout=Layout(height='25px', width='50%'),…"
      ]
     },
     "metadata": {},
     "output_type": "display_data"
    },
    {
     "name": "stdout",
     "output_type": "stream",
     "text": [
      "Number of Rows:  695440526"
     ]
    }
   ],
   "source": [
    "print('Number of Rows: ', df_all.count())"
   ]
  },
  {
   "cell_type": "markdown",
   "id": "a74946d7",
   "metadata": {},
   "source": [
    "<div style='text-align: justify; text-indent: 2em'>The United States of America (<tt>USA</tt>) was ranked first with most events found in the database for the inclusive years. This is followed by the United Kingdom (<tt>GBR</tt>), Russia (<tt>RUS</tt>), and China (<tt>CHN</tt>). Ukraine (<tt>UKR</tt>) was only ranked 12th in the list.</div>\n",
    "<br><center style=\"font-size:14px;font-style:default;\"><b>TABLE 3: Common Country Codes</b></center>"
   ]
  },
  {
   "cell_type": "code",
   "execution_count": 7,
   "id": "97ff4ced-1d7c-45f3-b6b4-8a8b4d93d85a",
   "metadata": {
    "execution": {
     "iopub.execute_input": "2022-03-13T11:43:03.656164Z",
     "iopub.status.busy": "2022-03-13T11:43:03.655644Z",
     "iopub.status.idle": "2022-03-13T11:43:19.012228Z",
     "shell.execute_reply": "2022-03-13T11:43:19.011597Z",
     "shell.execute_reply.started": "2022-03-13T11:43:03.656125Z"
    },
    "tags": []
   },
   "outputs": [
    {
     "data": {
      "application/vnd.jupyter.widget-view+json": {
       "model_id": "e7d2d16fbfdd491e909da527739bdf59",
       "version_major": 2,
       "version_minor": 0
      },
      "text/plain": [
       "VBox()"
      ]
     },
     "metadata": {},
     "output_type": "display_data"
    },
    {
     "data": {
      "application/vnd.jupyter.widget-view+json": {
       "model_id": "",
       "version_major": 2,
       "version_minor": 0
      },
      "text/plain": [
       "FloatProgress(value=0.0, bar_style='info', description='Progress:', layout=Layout(height='25px', width='50%'),…"
      ]
     },
     "metadata": {},
     "output_type": "display_data"
    },
    {
     "name": "stdout",
     "output_type": "stream",
     "text": [
      "+-----------------+--------+\n",
      "|actor1countrycode|count   |\n",
      "+-----------------+--------+\n",
      "|USA              |94498172|\n",
      "|GBR              |15822565|\n",
      "|RUS              |15343983|\n",
      "|CHN              |10943325|\n",
      "|FRA              |8221175 |\n",
      "|ISR              |7874826 |\n",
      "|TUR              |7604698 |\n",
      "|CAN              |7278318 |\n",
      "|DEU              |7111797 |\n",
      "|EUR              |6766498 |\n",
      "|AUS              |6740041 |\n",
      "|UKR              |6425771 |\n",
      "|SYR              |6181725 |\n",
      "|IRN              |6120403 |\n",
      "|IND              |5394058 |\n",
      "|PAK              |5260724 |\n",
      "|NGA              |5156149 |\n",
      "|ITA              |4607899 |\n",
      "|EGY              |4477197 |\n",
      "|ESP              |4124748 |\n",
      "|AFR              |4112159 |\n",
      "|SAU              |4077006 |\n",
      "|JPN              |4072871 |\n",
      "|MEX              |3976957 |\n",
      "|AFG              |3665467 |\n",
      "|IRQ              |3482916 |\n",
      "|PSE              |3220719 |\n",
      "|GRC              |2940069 |\n",
      "|PHL              |2932544 |\n",
      "|IDN              |2787000 |\n",
      "+-----------------+--------+\n",
      "only showing top 30 rows"
     ]
    }
   ],
   "source": [
    "(spark.sql(\"\"\"SELECT actor1countrycode, COUNT(*) as count\n",
    "              FROM df_all\n",
    "              WHERE actor1countrycode != ''\n",
    "              GROUP BY actor1countrycode\n",
    "              ORDER BY count DESC\n",
    "              \"\"\").show(30, truncate=False))"
   ]
  },
  {
   "cell_type": "markdown",
   "id": "07c057ec",
   "metadata": {},
   "source": [
    "<div style='text-align: justify; text-indent: 2em'>Annually, almost all countries are reported by at least one news outlet that is part of the database.</div>\n",
    "<br><center style=\"font-size:14px;font-style:default;\"><b>TABLE 4: Number of Distinct Countries per Year</b></center>"
   ]
  },
  {
   "cell_type": "code",
   "execution_count": 8,
   "id": "8cd39bc4-c9ce-4e92-8e75-2675f9ec93dc",
   "metadata": {
    "execution": {
     "iopub.execute_input": "2022-03-13T11:43:19.013946Z",
     "iopub.status.busy": "2022-03-13T11:43:19.013753Z",
     "iopub.status.idle": "2022-03-13T11:43:30.326026Z",
     "shell.execute_reply": "2022-03-13T11:43:30.325426Z",
     "shell.execute_reply.started": "2022-03-13T11:43:19.013923Z"
    }
   },
   "outputs": [
    {
     "data": {
      "application/vnd.jupyter.widget-view+json": {
       "model_id": "6f8319ec03904d61abac166dad6a1871",
       "version_major": 2,
       "version_minor": 0
      },
      "text/plain": [
       "VBox()"
      ]
     },
     "metadata": {},
     "output_type": "display_data"
    },
    {
     "data": {
      "application/vnd.jupyter.widget-view+json": {
       "model_id": "",
       "version_major": 2,
       "version_minor": 0
      },
      "text/plain": [
       "FloatProgress(value=0.0, bar_style='info', description='Progress:', layout=Layout(height='25px', width='50%'),…"
      ]
     },
     "metadata": {},
     "output_type": "display_data"
    },
    {
     "name": "stdout",
     "output_type": "stream",
     "text": [
      "+----+----------------+\n",
      "|Year|count(countries)|\n",
      "+----+----------------+\n",
      "|2013|             222|\n",
      "|2014|             224|\n",
      "|2015|             223|\n",
      "|2016|             223|\n",
      "|2017|             222|\n",
      "|2018|             223|\n",
      "|2019|             224|\n",
      "|2020|             222|\n",
      "|2021|             221|\n",
      "|2022|             222|\n",
      "+----+----------------+"
     ]
    }
   ],
   "source": [
    "(df_all.select(df_all['Year'].cast('int'),\n",
    "               df_all['Actor1CountryCode'].cast('string'))\n",
    "       .groupby('Year')\n",
    "       .agg(f.countDistinct('Actor1CountryCode').alias('count(countries)'))\n",
    "       .orderBy('Year', ascending=True)\n",
    "       .show())"
   ]
  },
  {
   "cell_type": "markdown",
   "id": "fb715c47",
   "metadata": {},
   "source": [
    "# 3. Methodology"
   ]
  },
  {
   "cell_type": "markdown",
   "id": "e6c1e50b",
   "metadata": {},
   "source": [
    "<center style=\"font-size:14px;font-style:default;\"><b>FIGURE 1: Methodology Workflow</b></center>\n",
    "\n",
    "![Figure 1](figures/fig1.PNG)"
   ]
  },
  {
   "cell_type": "markdown",
   "id": "826cf106-5201-4102-9ea7-1159578baf0c",
   "metadata": {},
   "source": [
    "## 3.1. AWS Setup\n",
    "\n",
    "<br><div style='text-align: justify;'>We experimented with different iterations of our AWS setup to optimize speed given the scale of the data we have used. Our final EMR setup includes the following:</div>\n",
    "<br><center style=\"font-size:14px;font-style:default;\"><b>TABLE 5: AWS EMR Configuration</b></center>\n",
    "\n",
    "| Configuration | Details |\n",
    "| :- | :- |\n",
    "| EMR | emr-6.5.0 |\n",
    "| Hadoop distribution | Amazon 3.2.1 |\n",
    "| Applications | Hive 3.1.2<br>Pig 0.17.0<br>Hue 4.9.0<br>JupyterHub 1.4.1<br>JupyterEnterpriseGateway 2.1.0<br>Spark 3.1.2<br>Livy 0.7.1<br>Zeppelin 0.10.0<br>TensorFlow 2.4.1 |\n",
    "| Instance type: master | 1x m5.xlarge<br>4 vCore, 16 GiB memory, EBS only storage<br>EBS Storage: 100 GiB<br>Paid on-demand |\n",
    "| Instance type: core | 1x m5.xlarge<br>4 vCore, 16 GiB memory, EBS only storage<br>EBS Storage: 500 GiB<br>Paid on-demand |\n",
    "| Instance type: task | 3x m5.xlarge<br>4 vCore, 16 GiB memory, EBS only storage<br>EBS Storage: 500 GiB<br>Paid at spot price, using on-demand as the maximum |\n",
    "| EBS Root Storage | 20 GB |\n",
    "| Auto-termination | After 1 hour |\n",
    "| Bootstrap action | Installation of libraries through a <tt>.sh</tt> file |"
   ]
  },
  {
   "cell_type": "markdown",
   "id": "cc03f31b",
   "metadata": {},
   "source": [
    "<b>Code Used:</b>\n",
    "```terminal\n",
    "#!/bin/bash\n",
    "\n",
    "sudo pip3 install -U    \\\n",
    "  pip                   \\\n",
    "  numpy==1.21.5         \\\n",
    "  matplotlib            \\\n",
    "  pandas                \\\n",
    "  pyarrow               \\\n",
    "  fastparquet           \\\n",
    "  s3fs                  \\\n",
    "  fsspec                \\\n",
    "  cython                \\\n",
    "  seaborn               \\\n",
    "  plotly                \\\n",
    "  scipy                 \\\n",
    "  joblib                \\\n",
    "  scikit-learn          \\\n",
    "  geopandas             \\\n",
    "  datetime              \\\n",
    "  urllib3               \\\n",
    "  widgetsnbextension    \\\n",
    "  ipywidgets            \\\n",
    "  pandoc                \\\n",
    "  pylatex               \\\n",
    "  nbconvert             \\\n",
    "  ipyparallel           \\\n",
    "  pycodestyle           \\\n",
    "  autopep8              \\\n",
    "  jupyter-contrib-nbextensions\n",
    "```"
   ]
  },
  {
   "cell_type": "markdown",
   "id": "f4ba2a2a",
   "metadata": {},
   "source": [
    "## 3.2. 2013-2014 data: Access data in S3\n",
    "\n",
    "<br><div style='text-align: justify;'>Because our requirements need to include data from years 2013 onwards, we need to access GDELT v1 to access data for the years 2013 and 2014. This is because these years are incomplete in GDELT v2. We retrieved the data from <tt>s3://gdelt-open-data</tt>.</div>\n",
    "<div style='font-size: 18px; font-weight: bold;'>Convert RDD into dataframe</div>\n",
    "<div style='text-align: justify;'>The retrieved data was converted into Spark DataFrames for convenient manipulation of the dataset as required by the exploratory data analysis.</div>\n",
    "<br><div style='font-size: 18px; font-weight: bold;'>Join 2013 & 2014 dataframe</div>\n",
    "<div style='text-align: justify;'>A function was written to concatenate all DataFrames using PySpark's <tt>unionByName</tt>. Different from <tt>union</tt>, <tt>unionByName</tt> resolves columns by name and not by position.</div>\n",
    "<br><div style='font-size: 18px; font-weight: bold;'>Remove rows for years 2012 and earlier</div>\n",
    "<div style='text-align: justify;'>A quick inspection of the data revealed that rows of previous years were included in the s3 download. We removed all rows dated earlier than 2013.</div>\n",
    "<br><div style='font-size: 18px; font-weight: bold;'>Save as Parquet</div>\n",
    "<div style='text-align: justify;'>Finally, we saved the data in Parquet to take advantage of the efficiency of this data format. We partitioned it by <tt>Year</tt> and <tt>MonthYear</tt> since retrieval of the data is usually referenced by the dates as later provided in our EDA.</div>\n",
    "<br><br><div style='text-align: justify; text-indent: 2em'>The authors used separate notebooks to retrieve and explore the dataset using PySpark SQL and Spark DataFrame. The notebook <tt>01_dataPreparation.ipynb</tt> contains all the codes of the processes we just discussed.</div>\n",
    "<br>"
   ]
  },
  {
   "cell_type": "markdown",
   "id": "d3914a39",
   "metadata": {},
   "source": [
    "## 3.3. 2015-2022 data: Access data in Google Cloud Platform and migrate to AWS\n",
    "\n",
    "<br><div style='text-align: justify;'>To access the most recent data available for the years 2015 to 2022, we signed up for a Google Cloud Platform account using a personal Gmail account to take advantage of the $300 credits provided to new-to-GCP users.</div>"
   ]
  },
  {
   "cell_type": "markdown",
   "id": "515857d7-2624-4053-a803-3537be8b7e37",
   "metadata": {},
   "source": [
    "<div style='font-size: 18px; font-weight: bold;'>Setup Google Cloud Storage</div>\n",
    "<div style='text-align: justify;'>We then set up our own Google Cloud Storage, creating a bucket using the default options to serve as the container where the GDELT data will be stored. Public access to the bucket was turned on to minimize challenges related to permissions; note that no private data was stored in the GCS bucket.</div>\n",
    "<br><center style=\"font-size:14px;font-style:default;\"><b>TABLE 6: Google Cloud Storage Configuration</b></center>\n",
    "\n",
    "| Configuration | Details |\n",
    "| :- | :- |\n",
    "| Location type | Multi-region |\n",
    "| Location | <tt>us</tt> (multiple regions in United States) |\n",
    "| Replication | Default |\n",
    "| Default storage class | Standard |\n",
    "| Requester Pays | Off |\n",
    "| Labels | None |\n",
    "| Cloud Console URL | <tt>https://console.cloud.google.com/storage/browser/bdcc-final-project-gcp</tt> |\n",
    "| <tt>gsutil</tt> URI | <tt>gs://bdcc-final-project-gcp</tt> |\n",
    "| Access control | Uniform |\n",
    "| Public access prevention | Not enabled by org policy or bucket setting |\n",
    "| Public access status | Public to internet |\n",
    "| Object versioning | Off |\n",
    "| Retention policy | None |\n",
    "| Encryption type | Google-managed key |\n",
    "| Lifecycle rules | None |\n",
    "\n",
    "<br>"
   ]
  },
  {
   "cell_type": "markdown",
   "id": "69089efd-c450-4ce0-a36c-6097b6010ce9",
   "metadata": {},
   "source": [
    "<div style='font-size: 18px; font-weight: bold;'>Access required rows from Google BigQuery</div>\n",
    "<div style='text-align: justify;'>We then accessed the GDELT page in Google BigQuery available at <a href=\"https://bigquery.cloud.google.com/table/gdelt-bq:gdeltv2.events\">https://bigquery.cloud.google.com/table/gdelt-bq:gdeltv2.events</a>. We exported the entire database to our GCS bucket in Parquet format and in Snappy compression for cost-effective use of our bucket, reducing the total size from 250 GB to 51.8 GB.</div>\n",
    "<br><center style=\"font-size:14px;font-style:default;\"><b>TABLE 7: Google GDELT Events Database in GCP</b></center>\n",
    "\n",
    "| Key | Value |\n",
    "| :- | :- |\n",
    "| Table ID | <tt>gdelt-bq:gdeltv2.events</tt> |\n",
    "| Table size | 250 GB |\n",
    "| Long-term storage size | 0 B |\n",
    "| Number of rows | 622,100,515 |\n",
    "| Created | May 20, 2016, 1:36:49 AM UTC+8 |\n",
    "| Last modified | Mar 9, 2022, 12:04:34 AM UTC+8 |\n",
    "| Table expiration | Never |\n",
    "| Data location | US |\n",
    "\n",
    "<br>"
   ]
  },
  {
   "cell_type": "markdown",
   "id": "a22c1156-f4ac-4950-9af1-197ae90c0ef1",
   "metadata": {},
   "source": [
    "<div style='font-size: 18px; font-weight: bold;'>Create a VM Instance in Google Compute Engine</div>\n",
    "<div style='text-align: justify;'>We then accessed Google Compute Engine to create a virtual machine instance using the default credentials. The region we used are the same as our S3 bucket to maximize speed between transfers.</div>\n",
    "<br><center style=\"font-size:14px;font-style:default;\"><b>TABLE 8: Google Compute Engine Configuration</b></center>\n",
    "\n",
    "| Configuration | Details |\n",
    "| :- | :- |\n",
    "| Region | <tt>us-east4</tt> (Northern Virginia) |\n",
    "| Zone | <tt>us-east4-c</tt> |\n",
    "| Machine type | <tt>e2-standard-8</tt> |\n",
    "| vCPU | 8 |\n",
    "| Memory | 32 GB |\n",
    "| Boot disk | 10 GB |\n",
    "| Image | Debian GNU/Linux 10 |"
   ]
  },
  {
   "cell_type": "markdown",
   "id": "661cd3bd",
   "metadata": {},
   "source": [
    "<div style='text-align: justify; text-indent: 2em'>We accessed the SSH of the instance and added the following lines so we can access AWS from GCP:</div>"
   ]
  },
  {
   "cell_type": "markdown",
   "id": "d7996052",
   "metadata": {},
   "source": [
    "<b>Code Used:</b>\n",
    "```terminal\n",
    "cd ~\n",
    "touch .boto\n",
    "echo [Credentials] >> ~/.boto\n",
    "echo aws_access_key_id = <insert access key id> >> ~/.boto\n",
    "echo aws_secret_access_key = <insert secret access key> >> ~/.boto\n",
    "cat.boto\n",
    "gsutil -m rsync -rd gs://bdcc-final-project-gcp/gdelt-v2.parquet/ s3://bdcc-final-project-bucket/gdelt-v2.parquet/\n",
    "```"
   ]
  },
  {
   "cell_type": "markdown",
   "id": "8560b520",
   "metadata": {},
   "source": [
    "<div style='text-align: justify; text-indent: 2em'>We can now access the files in S3. We have terminated the VM instance.</div>\n",
    "<br>"
   ]
  },
  {
   "cell_type": "markdown",
   "id": "d1beccae",
   "metadata": {},
   "source": [
    "## 3.4. Concatenate rows\n",
    "\n",
    "<br><div style='text-align: justify;'>We concatenated both Parquet files through PySpark using <tt>unionByName</tt>, which were then saved in Parquet format. Full details on the concatenated dataframe, such as the schema and summary statistics, are available in the earlier section related to the <tt>Data Source</tt> (i.e., Section 2). The total size is 66.8 GB.</div><div style='text-align: justify; text-indent: 2em'>The entire data cleaning pipeline is provided by the authors in the <tt>01_dataPreparation.ipynb</tt> file as part of our submission.</div>"
   ]
  },
  {
   "cell_type": "markdown",
   "id": "057a528e",
   "metadata": {},
   "source": [
    "## 3.5. Process big data"
   ]
  },
  {
   "cell_type": "markdown",
   "id": "42dade80",
   "metadata": {},
   "source": [
    "<div style='font-size: 18px; font-weight: bold;'>Filter data by only including relevant events</div>\n",
    "<br><div style='text-align: justify;'>We filtered only the relevant actors, limiting it to those whose country codes are any of the following: Ukraine or Russia, but also including permanent members of the UN Security Council, namely China, France, the United Kingdom, and the United States. The inclusion of UNSC members will allow us to understand how, in the threat of war, these superpowers negotiate for peace or escalate conflict events.</div>\n",
    "<br><div style='text-align: justify; text-indent: 2em'>In addition, we filtered for regular expressions in the source URL's of each reported event, focusing on words that are related to the war:</div>\n",
    "<br><tt>\"war|conflict|aggress|crisis|invade|attack|invasion\"\n",
    "<br>\"|weapon|nuclear|military|army|politic|alliance|battle|airforce\"\n",
    "<br>\"|marine|combat|fight|soldier|discord|martial|power|violence\"\n",
    "<br>\"|peace|negotiat|agree|coalition|ally|aid|sanction|refuge|defen|offen\"</tt>\n",
    "<br><br><div style='text-align: justify; text-indent: 2em'>We resaved the filtered data into a Parquet format for our frequent itemset mining pipeline.</div>\n",
    "<br>"
   ]
  },
  {
   "cell_type": "markdown",
   "id": "712a74a8-3452-410c-81fd-f3a620d134c8",
   "metadata": {},
   "source": [
    "<div style='font-size: 18px; font-weight: bold;'>Prepare database for FIM and partition by year</div>\n",
    "<br><div style='text-align: justify;'>To process the data for the frequent itemset mining pipeline, we needed to add an itemset column through <tt>collect_set</tt> so we may concatenate salient values.</div>\n",
    "<br><div style='text-align: justify; text-indent: 2em'>Our itemset focuses on the frequent geopolitical events and will so focus on the actors and the events that happened between them. Events are defined through the Conflict and Mediation Event Observations (CAMEO) event codes, a framework for coding event data. The reader may want to view all event codes in <a href=' https://www.gdeltproject.org/data/lookups/CAMEO.eventcodes.txt'>this link</a>.</div>\n",
    "<br><div style='text-align: justify; text-indent: 2em'>Below are the details of each itemset:</div>\n",
    "<br><center style=\"font-size:14px;font-style:default;\"><b>TABLE 9: Details of each itemset</b></center>\n",
    "\n",
    "| Key | Description |\n",
    "| :- | :- |\n",
    "| <tt>Actor1Name</tt> | Name of <tt>Actor1</tt>, who plays the active role in an action/event; appended with <tt>_1</tt> for clarity. |\n",
    "| <tt>Actor2Name</tt> | Name of <tt>Actor2</tt>, who plays the passive role in an action/event; appended with <tt>_2</tt> for clarity. |\n",
    "| <tt>Actor2CountryCode</tt> | Country code of <tt>Actor2</tt>. |\n",
    "| <tt>EventDescription<tt> | Describes the action/event using the CAMEO event codes. |\n",
    "\n",
    "<br><div style='text-align: justify; text-indent: 2em'>For convenience, we provide sample itemsets below for reference:</div>\n",
    "<br><div style='text-align: justify; display: inline-block;'>\n",
    "    <ul>\n",
    "        <li><tt>RUSSIA_1, UKRAINE_2, UKR-Fight with small arms and light weapons</tt></li>\n",
    "        <li><tt>UNITED STATES_1, RUSSIA_2, RUS-Impose embargo, boycott, or sanctions</tt></li>\n",
    "        <li><tt>CHINA_1, RUSSIAN_2, RUS-Make empathetic comment</tt></li>\n",
    "    </ul>\n",
    "</div>\n",
    "<br><br><div style='text-align: justify; text-indent: 2em'>The entire data filtering pipeline is provided by the authors in the <tt>02_dataFiltering.ipynb</tt> file as part of our submission.</div>\n",
    "<br>"
   ]
  },
  {
   "cell_type": "markdown",
   "id": "0308f4a4",
   "metadata": {},
   "source": [
    "<div style='font-size: 18px; font-weight: bold;'>Data Visualization of Sentiment</div>\n",
    "<br><div style='text-align: justify;'>We used Python3 to use Matplotlib and Seaborn for the required visualizations. They are made available by the authors in the <tt>02_visualizations.ipynb</tt> file as part of our submission.</div>\n",
    "\n",
    "<br><br><div style='font-size: 18px; font-weight: bold;'>Run FP-Growth Algorithm to obtain association rules</div>\n",
    "<br><div style='text-align: justify;'>We then ran the frequent itemset mining through PySpark's own ML <tt>fpm</tt> and <tt>FPGrowth</tt> libraries. It only requires a single column of all itemsets and the selection of the required minimum support and confidence.</div>\n",
    "<br><div style='text-align: justify; text-indent: 2em'>FP-Growth extracts frequent itemsets through the construction of a frequent pattern (FP) tree to find the most frequent patterns. It then generates strong association rules from the resulting FP tree. We believe this is the most appropriate algorithm given the massive amount of itemsets in our database, as opposed to the Apriori algorithm which requires candidate generation and are thus computationally expensive.</div>\n",
    "<br><div style='text-align: justify; text-indent: 2em'>We selected a minimum support of 0.001—meaning that the itemsets we consider are frequent occur in at least 0.1% of all transactions in our database—and a minimum confidence of 0.3 for generating the association rule—meaning that, at a minimum, association rules must be found true 30% of the time. Details on the analysis of the resulting frequent items and association rules are provided in the next section.</div>"
   ]
  },
  {
   "cell_type": "markdown",
   "id": "ec077650",
   "metadata": {},
   "source": [
    "## 3.6. Save in S3\n",
    "\n",
    "<br><div style='text-align: justify;'>We saved all relevant files and models in S3 as required.</div>"
   ]
  },
  {
   "cell_type": "markdown",
   "id": "f20caa71",
   "metadata": {},
   "source": [
    "# 4. Data Exploration\n",
    "\n",
    "<br><div style='text-align: justify;'>In this section, we provide the exploratory data analysis to set the context for our Results and Discussion. We start with Russia and Ukraine only by identifying the most mentioned actors and events between these countries. We then build on this analysis by extending the discussion to global sentiment and frequent geopolitical events to include world leaders and other significant actors in the Russo-Ukrainian War.</div>\n",
    "<hr>"
   ]
  },
  {
   "cell_type": "markdown",
   "id": "9e4e2207",
   "metadata": {},
   "source": [
    "<div style='font-size: 18px; font-weight: bold;'>Who are the actors with the most mentions between Ukraine and Russia?</div>\n",
    "<br><div style='text-align: justify;'>Actors are the ones who may be directly or indirectly involved in the escalation, the start, the prolonging, and the stop of any war (as with any event). We list down the actors that figure most prominently in the media, lending to their significance in the event.</div>\n",
    "<br><div style='text-align: justify; text-indent: 2em'>In the tables below, we can see that most of the actors are countries, locations, or institutions. The only individual included in the tables below is Vladimir Putin, showing that the portrayal of the media towards Russia almost always include him as decision-maker—more so than Ukraine, which is possibly portrayed as a more democratic country.</div>\n",
    "<br><center style=\"font-size:14px;font-style:default;\"><b>TABLE 10: Top 10 <tt>Actor1</tt> with most mentions (Ukraine-Russia only)</b></center>"
   ]
  },
  {
   "cell_type": "code",
   "execution_count": 10,
   "id": "7c47018b-ab13-4a1f-87eb-1aefb21f8730",
   "metadata": {
    "execution": {
     "iopub.execute_input": "2022-03-13T11:44:15.771965Z",
     "iopub.status.busy": "2022-03-13T11:44:15.771587Z",
     "iopub.status.idle": "2022-03-13T11:44:41.124059Z",
     "shell.execute_reply": "2022-03-13T11:44:41.123293Z",
     "shell.execute_reply.started": "2022-03-13T11:44:15.771939Z"
    }
   },
   "outputs": [
    {
     "data": {
      "application/vnd.jupyter.widget-view+json": {
       "model_id": "3b6c7b80558f461d97a57a546b5e5052",
       "version_major": 2,
       "version_minor": 0
      },
      "text/plain": [
       "VBox()"
      ]
     },
     "metadata": {},
     "output_type": "display_data"
    },
    {
     "data": {
      "application/vnd.jupyter.widget-view+json": {
       "model_id": "",
       "version_major": 2,
       "version_minor": 0
      },
      "text/plain": [
       "FloatProgress(value=0.0, bar_style='info', description='Progress:', layout=Layout(height='25px', width='50%'),…"
      ]
     },
     "metadata": {},
     "output_type": "display_data"
    },
    {
     "name": "stdout",
     "output_type": "stream",
     "text": [
      "+--------------+----------------+\n",
      "|    Actor1Name|sum(NumMentions)|\n",
      "+--------------+----------------+\n",
      "|       UKRAINE|         3176649|\n",
      "|        RUSSIA|         3049490|\n",
      "|       RUSSIAN|         2101494|\n",
      "|     UKRAINIAN|         1162220|\n",
      "|        MOSCOW|          648972|\n",
      "|          KIEV|          423625|\n",
      "|        CRIMEA|          421984|\n",
      "|      VLADIMIR|          259946|\n",
      "|VLADIMIR PUTIN|          135915|\n",
      "|          KYIV|           97708|\n",
      "+--------------+----------------+\n",
      "only showing top 10 rows"
     ]
    }
   ],
   "source": [
    "(df_all.select(df_all['NumMentions'].cast('int'),\n",
    "               df_all['Actor1Name'].cast('string'))\n",
    "       .filter((df_all['Actor1Name'] != '') &\n",
    "               (((df_all['Actor1CountryCode'] == 'UKR') &\n",
    "                 (df_all['Actor2CountryCode'] == 'RUS')) |\n",
    "                ((df_all['Actor1CountryCode'] == 'RUS') &\n",
    "                 (df_all['Actor2CountryCode'] == 'UKR'))))\n",
    "       .groupby('Actor1Name')\n",
    "       .sum('NumMentions').alias('Total NumMentions')\n",
    "       .orderBy('sum(NumMentions)', ascending=False)\n",
    "       .show(10))"
   ]
  },
  {
   "cell_type": "markdown",
   "id": "3b50db7c",
   "metadata": {},
   "source": [
    "<center style=\"font-size:14px;font-style:default;\"><b>TABLE 11: Top 10 <tt>Actor2</tt> with most mentions (Ukraine-Russia only)</b></center>"
   ]
  },
  {
   "cell_type": "code",
   "execution_count": 11,
   "id": "a15ecbae-74f7-48ed-a4c0-b132cb1828da",
   "metadata": {
    "execution": {
     "iopub.execute_input": "2022-03-13T11:44:41.125566Z",
     "iopub.status.busy": "2022-03-13T11:44:41.125114Z",
     "iopub.status.idle": "2022-03-13T11:45:04.478507Z",
     "shell.execute_reply": "2022-03-13T11:45:04.477925Z",
     "shell.execute_reply.started": "2022-03-13T11:44:41.125530Z"
    }
   },
   "outputs": [
    {
     "data": {
      "application/vnd.jupyter.widget-view+json": {
       "model_id": "c217238db484443f9a5229010f79fdbc",
       "version_major": 2,
       "version_minor": 0
      },
      "text/plain": [
       "VBox()"
      ]
     },
     "metadata": {},
     "output_type": "display_data"
    },
    {
     "data": {
      "application/vnd.jupyter.widget-view+json": {
       "model_id": "",
       "version_major": 2,
       "version_minor": 0
      },
      "text/plain": [
       "FloatProgress(value=0.0, bar_style='info', description='Progress:', layout=Layout(height='25px', width='50%'),…"
      ]
     },
     "metadata": {},
     "output_type": "display_data"
    },
    {
     "name": "stdout",
     "output_type": "stream",
     "text": [
      "+----------+----------------+\n",
      "|Actor2Name|sum(NumMentions)|\n",
      "+----------+----------------+\n",
      "|   UKRAINE|         3638119|\n",
      "|    RUSSIA|         2726664|\n",
      "|   RUSSIAN|         1928897|\n",
      "| UKRAINIAN|         1339576|\n",
      "|    CRIMEA|          586220|\n",
      "|    MOSCOW|          466605|\n",
      "|      KIEV|          350506|\n",
      "|  VLADIMIR|          206714|\n",
      "|    DONBAS|          127800|\n",
      "|   DONETSK|          105536|\n",
      "+----------+----------------+\n",
      "only showing top 10 rows"
     ]
    }
   ],
   "source": [
    "(df_all.select(df_all['NumMentions'].cast('int'),\n",
    "               df_all['Actor2Name'].cast('string'))\n",
    "       .filter((df_all['Actor1Name'] != '') &\n",
    "               (((df_all['Actor1CountryCode'] == 'UKR') &\n",
    "                 (df_all['Actor2CountryCode'] == 'RUS')) |\n",
    "                ((df_all['Actor1CountryCode'] == 'RUS') &\n",
    "                 (df_all['Actor2CountryCode'] == 'UKR'))))\n",
    "       .groupby('Actor2Name')\n",
    "       .sum('NumMentions').alias('Total NumMentions')\n",
    "       .orderBy('sum(NumMentions)', ascending=False)\n",
    "       .show(10))"
   ]
  },
  {
   "cell_type": "markdown",
   "id": "231365d8",
   "metadata": {},
   "source": [
    "<div style='text-align: justify; text-indent: 2em'>For those with the highest tone, actors who are individuals are Russian politicians. Among those with the lowest tone are Yevhen Marchuk and Oleksandr Popov who are prominent politicians in Ukraine. The former was Prime Minister and the latter was Kyiv City Administrator. Both appear to not be pro-Russian.</div>\n",
    "<br><center style=\"font-size:14px;font-style:default;\"><b>TABLE 12: Top 10 <tt>Actor1</tt> with highest tone (Ukraine-Russia only)</b></center>"
   ]
  },
  {
   "cell_type": "code",
   "execution_count": 12,
   "id": "856c7b89-78c6-40f0-98fa-ccb2cac58fc5",
   "metadata": {
    "execution": {
     "iopub.execute_input": "2022-03-13T11:46:09.937580Z",
     "iopub.status.busy": "2022-03-13T11:46:09.937391Z",
     "iopub.status.idle": "2022-03-13T11:46:35.312811Z",
     "shell.execute_reply": "2022-03-13T11:46:35.312128Z",
     "shell.execute_reply.started": "2022-03-13T11:46:09.937558Z"
    }
   },
   "outputs": [
    {
     "data": {
      "application/vnd.jupyter.widget-view+json": {
       "model_id": "b4edccc0f0eb4a76a52eadb23a153e65",
       "version_major": 2,
       "version_minor": 0
      },
      "text/plain": [
       "VBox()"
      ]
     },
     "metadata": {},
     "output_type": "display_data"
    },
    {
     "data": {
      "application/vnd.jupyter.widget-view+json": {
       "model_id": "",
       "version_major": 2,
       "version_minor": 0
      },
      "text/plain": [
       "FloatProgress(value=0.0, bar_style='info', description='Progress:', layout=Layout(height='25px', width='50%'),…"
      ]
     },
     "metadata": {},
     "output_type": "display_data"
    },
    {
     "name": "stdout",
     "output_type": "stream",
     "text": [
      "+------------------+------------------+\n",
      "|Actor1Name        |avg(AvgTone)      |\n",
      "+------------------+------------------+\n",
      "|URAL MOUNTAINS    |6.153846263885498 |\n",
      "|SERGEY LEBEDEV    |3.9800994396209717|\n",
      "|MIKHAIL SHVYDKOY  |3.7931034564971924|\n",
      "|KHANTY MANSI      |3.4398033618927   |\n",
      "|SERGEY KIRIYENKO  |2.641509532928467 |\n",
      "|NEVA RIVER        |2.4636058807373047|\n",
      "|ANATOLIY SERDYUKOV|2.3774144649505615|\n",
      "|ANDRIY KLYUYEV    |2.3353466033935546|\n",
      "|VIKTOR KHRISTENKO |1.9596365690231323|\n",
      "|MYKOLA AZAROV     |1.7327005275514689|\n",
      "+------------------+------------------+\n",
      "only showing top 10 rows"
     ]
    }
   ],
   "source": [
    "(df_all.select(df_all['AvgTone'].cast('float'),\n",
    "               df_all['Actor1Name'].cast('string'))\n",
    "       .filter(((df_all['Actor1CountryCode'] == 'UKR') &\n",
    "                (df_all['Actor2CountryCode'] == 'RUS')) |\n",
    "               ((df_all['Actor1CountryCode'] == 'RUS') &\n",
    "                (df_all['Actor2CountryCode'] == 'UKR')))\n",
    "       .groupby('Actor1Name')\n",
    "       .mean('AvgTone')\n",
    "       .orderBy('avg(AvgTone)', ascending=False)\n",
    "       .show(10, truncate=False))"
   ]
  },
  {
   "cell_type": "markdown",
   "id": "6f624c33",
   "metadata": {},
   "source": [
    "<center style=\"font-size:14px;font-style:default;\"><b>TABLE 13: Top 10 <tt>Actor1</tt> with lowest tone (Ukraine-Russia only)</b></center>"
   ]
  },
  {
   "cell_type": "code",
   "execution_count": 13,
   "id": "a17a288e-fef5-4aae-ad9c-e3476fb2fac8",
   "metadata": {
    "execution": {
     "iopub.execute_input": "2022-03-13T11:46:35.313789Z",
     "iopub.status.busy": "2022-03-13T11:46:35.313608Z",
     "iopub.status.idle": "2022-03-13T11:47:00.659991Z",
     "shell.execute_reply": "2022-03-13T11:47:00.659284Z",
     "shell.execute_reply.started": "2022-03-13T11:46:35.313767Z"
    }
   },
   "outputs": [
    {
     "data": {
      "application/vnd.jupyter.widget-view+json": {
       "model_id": "f838219e6be641cd9c6cc4bebe112e54",
       "version_major": 2,
       "version_minor": 0
      },
      "text/plain": [
       "VBox()"
      ]
     },
     "metadata": {},
     "output_type": "display_data"
    },
    {
     "data": {
      "application/vnd.jupyter.widget-view+json": {
       "model_id": "",
       "version_major": 2,
       "version_minor": 0
      },
      "text/plain": [
       "FloatProgress(value=0.0, bar_style='info', description='Progress:', layout=Layout(height='25px', width='50%'),…"
      ]
     },
     "metadata": {},
     "output_type": "display_data"
    },
    {
     "name": "stdout",
     "output_type": "stream",
     "text": [
      "+-------------------+-------------------+\n",
      "|Actor1Name         |avg(AvgTone)       |\n",
      "+-------------------+-------------------+\n",
      "|MARI EL            |-8.0               |\n",
      "|KABARDINO BALKAR   |-7.242339611053467 |\n",
      "|YEVHEN MARCHUK     |-6.615913733839989 |\n",
      "|TOMSK              |-6.278172786171372 |\n",
      "|ALEKSANDR BORTNIKOV|-6.037964570522308 |\n",
      "|OLEKSANDR POPOV    |-5.567010402679443 |\n",
      "|NIZHNI NOVGOROD    |-5.5404917399088545|\n",
      "|TVER OBLAST        |-4.925099015235901 |\n",
      "|CHUVASHIA          |-4.91709109715053  |\n",
      "|SAKHA              |-4.748990486065547 |\n",
      "+-------------------+-------------------+\n",
      "only showing top 10 rows"
     ]
    }
   ],
   "source": [
    "(df_all.select(df_all['AvgTone'].cast('float'),\n",
    "               df_all['Actor1Name'].cast('string'))\n",
    "       .filter(((df_all['Actor1CountryCode'] == 'UKR') &\n",
    "                (df_all['Actor2CountryCode'] == 'RUS')) |\n",
    "               ((df_all['Actor1CountryCode'] == 'RUS') &\n",
    "                (df_all['Actor2CountryCode'] == 'UKR')))\n",
    "       .groupby('Actor1Name')\n",
    "       .mean('AvgTone')\n",
    "       .orderBy('avg(AvgTone)', ascending=True)\n",
    "       .show(10, truncate=False))"
   ]
  },
  {
   "cell_type": "markdown",
   "id": "cd36c4c6",
   "metadata": {},
   "source": [
    "<div style='text-align: justify; text-indent: 2em'>Among those as <tt>Actor2</tt>, those with the highest tones are Russian politicians such as Mikhail Shvydkoy and Sergey Kiriyenko. For those with the lowest tones, most are areas in Russia with sizeable Ukrainian-identifying populations. Interestingly, Vladimir Filippov is a prominent Russian academician associated with Vladimir Putin.</div>\n",
    "<br><div style='text-align: justify; text-indent: 2em'>Critically, most actors with top average tones are from Russia. Conversely, some Ukrainian politicians received the most negative average tones.</div>\n",
    "<br><center style=\"font-size:14px;font-style:default;\"><b>TABLE 14: Top 10 <tt>Actor2</tt> with highest tone (Ukraine-Russia only)</b></center>"
   ]
  },
  {
   "cell_type": "code",
   "execution_count": 14,
   "id": "959317d5-f3f6-46df-8a2c-af408828c1e4",
   "metadata": {
    "execution": {
     "iopub.execute_input": "2022-03-13T11:47:00.661073Z",
     "iopub.status.busy": "2022-03-13T11:47:00.660909Z",
     "iopub.status.idle": "2022-03-13T11:47:26.009886Z",
     "shell.execute_reply": "2022-03-13T11:47:26.009215Z",
     "shell.execute_reply.started": "2022-03-13T11:47:00.661053Z"
    },
    "tags": []
   },
   "outputs": [
    {
     "data": {
      "application/vnd.jupyter.widget-view+json": {
       "model_id": "74019eb1d2d24990881792833a023a8f",
       "version_major": 2,
       "version_minor": 0
      },
      "text/plain": [
       "VBox()"
      ]
     },
     "metadata": {},
     "output_type": "display_data"
    },
    {
     "data": {
      "application/vnd.jupyter.widget-view+json": {
       "model_id": "",
       "version_major": 2,
       "version_minor": 0
      },
      "text/plain": [
       "FloatProgress(value=0.0, bar_style='info', description='Progress:', layout=Layout(height='25px', width='50%'),…"
      ]
     },
     "metadata": {},
     "output_type": "display_data"
    },
    {
     "name": "stdout",
     "output_type": "stream",
     "text": [
      "+------------------+------------------+\n",
      "|Actor2Name        |avg(AvgTone)      |\n",
      "+------------------+------------------+\n",
      "|UKRAIEN           |5.060931921005249 |\n",
      "|MIKHAIL SHVYDKOY  |3.7931034564971924|\n",
      "|GORKI             |3.654582921947752 |\n",
      "|KHANTY MANSI      |3.4398033618927   |\n",
      "|MOBILE TELESYSTEMS|2.9675941467285156|\n",
      "|SERGEY LEBEDEV    |2.7455849051475525|\n",
      "|SERGEY KIRIYENKO  |2.641509532928467 |\n",
      "|ANATOLIY SERDYUKOV|2.3774144649505615|\n",
      "|NALCHIK           |2.04501149058342  |\n",
      "|CHECHENIA         |1.954397439956665 |\n",
      "+------------------+------------------+\n",
      "only showing top 10 rows"
     ]
    }
   ],
   "source": [
    "(df_all.select(df_all['AvgTone'].cast('float'),\n",
    "               df_all['Actor2Name'].cast('string'))\n",
    "       .filter(((df_all['Actor1CountryCode'] == 'UKR') &\n",
    "                (df_all['Actor2CountryCode'] == 'RUS')) |\n",
    "               ((df_all['Actor1CountryCode'] == 'RUS') &\n",
    "                (df_all['Actor2CountryCode'] == 'UKR')))\n",
    "       .groupby('Actor2Name')\n",
    "       .mean('AvgTone')\n",
    "       .orderBy('avg(AvgTone)', ascending=False)\n",
    "       .show(10, truncate=False))"
   ]
  },
  {
   "cell_type": "markdown",
   "id": "ac48f7f9",
   "metadata": {},
   "source": [
    "<center style=\"font-size:14px;font-style:default;\"><b>TABLE 15: Top 10 <tt>Actor2</tt> with lowest tone (Ukraine-Russia only)</b></center>"
   ]
  },
  {
   "cell_type": "code",
   "execution_count": 15,
   "id": "ac6d0616-a2a1-43d6-bc84-ba45899af647",
   "metadata": {
    "execution": {
     "iopub.execute_input": "2022-03-13T11:47:26.011290Z",
     "iopub.status.busy": "2022-03-13T11:47:26.011041Z",
     "iopub.status.idle": "2022-03-13T11:47:51.387535Z",
     "shell.execute_reply": "2022-03-13T11:47:51.386819Z",
     "shell.execute_reply.started": "2022-03-13T11:47:26.011257Z"
    }
   },
   "outputs": [
    {
     "data": {
      "application/vnd.jupyter.widget-view+json": {
       "model_id": "5d85e7da6a7147ad83704ca386d0444f",
       "version_major": 2,
       "version_minor": 0
      },
      "text/plain": [
       "VBox()"
      ]
     },
     "metadata": {},
     "output_type": "display_data"
    },
    {
     "data": {
      "application/vnd.jupyter.widget-view+json": {
       "model_id": "",
       "version_major": 2,
       "version_minor": 0
      },
      "text/plain": [
       "FloatProgress(value=0.0, bar_style='info', description='Progress:', layout=Layout(height='25px', width='50%'),…"
      ]
     },
     "metadata": {},
     "output_type": "display_data"
    },
    {
     "name": "stdout",
     "output_type": "stream",
     "text": [
      "+-----------------+------------------+\n",
      "|Actor2Name       |avg(AvgTone)      |\n",
      "+-----------------+------------------+\n",
      "|DONBASS          |-7.597536087036133|\n",
      "|CHUVASHIA        |-7.393648584683736|\n",
      "|KABARDINO BALKAR |-7.242339611053467|\n",
      "|VLADIMIR FILIPPOV|-6.382978916168213|\n",
      "|SAKHA            |-6.064684782709394|\n",
      "|ARKHANGELSK      |-6.041539817196982|\n",
      "|UKRAJINA         |-5.532409071922302|\n",
      "|CHARKIV          |-5.101778652932909|\n",
      "|KEMEROVO         |-5.098754187424977|\n",
      "|TVER OBLAST      |-5.011488199234009|\n",
      "+-----------------+------------------+\n",
      "only showing top 10 rows"
     ]
    }
   ],
   "source": [
    "(df_all.select(df_all['AvgTone'].cast('float'),\n",
    "               df_all['Actor2Name'].cast('string'))\n",
    "       .filter(((df_all['Actor1CountryCode'] == 'UKR') &\n",
    "                (df_all['Actor2CountryCode'] == 'RUS')) |\n",
    "               ((df_all['Actor1CountryCode'] == 'RUS') &\n",
    "                (df_all['Actor2CountryCode'] == 'UKR')))\n",
    "       .groupby('Actor2Name')\n",
    "       .mean('AvgTone')\n",
    "       .orderBy('avg(AvgTone)', ascending=True)\n",
    "       .show(10, truncate=False))"
   ]
  },
  {
   "cell_type": "markdown",
   "id": "5db5a645",
   "metadata": {},
   "source": [
    "<hr>"
   ]
  },
  {
   "cell_type": "markdown",
   "id": "ea5899ca",
   "metadata": {},
   "source": [
    "<div style='font-size: 18px; font-weight: bold;'>What were the most mentioned events done by Ukraine to Russia and vice versa?</div>\n",
    "<br><div style='text-align: justify;'>The database has tagged each news report with an event code that tracks what happened between actors.</div>\n",
    "<br><div style='text-align: justify; text-indent: 2em'>The following table provides the first few rows of the events included in the database. We use these event codes to identify the usual events that occur between Ukraine and Russia.</div>\n",
    "<br><center style=\"font-size:14px;font-style:default;\"><b>TABLE 16: Selected Event Codes</b></center>"
   ]
  },
  {
   "cell_type": "code",
   "execution_count": 16,
   "id": "08b603b7-43f3-4161-810f-aea2f68a6011",
   "metadata": {
    "execution": {
     "iopub.execute_input": "2022-03-13T11:47:51.389395Z",
     "iopub.status.busy": "2022-03-13T11:47:51.388926Z",
     "iopub.status.idle": "2022-03-13T11:47:58.715596Z",
     "shell.execute_reply": "2022-03-13T11:47:58.714769Z",
     "shell.execute_reply.started": "2022-03-13T11:47:51.389359Z"
    }
   },
   "outputs": [
    {
     "data": {
      "application/vnd.jupyter.widget-view+json": {
       "model_id": "36de22b2f4824da29effc3cd74ec530b",
       "version_major": 2,
       "version_minor": 0
      },
      "text/plain": [
       "VBox()"
      ]
     },
     "metadata": {},
     "output_type": "display_data"
    },
    {
     "data": {
      "application/vnd.jupyter.widget-view+json": {
       "model_id": "",
       "version_major": 2,
       "version_minor": 0
      },
      "text/plain": [
       "FloatProgress(value=0.0, bar_style='info', description='Progress:', layout=Layout(height='25px', width='50%'),…"
      ]
     },
     "metadata": {},
     "output_type": "display_data"
    },
    {
     "name": "stdout",
     "output_type": "stream",
     "text": [
      "+--------------+-----------------------------------+\n",
      "|CAMEOEVENTCODE|EVENTDESCRIPTION                   |\n",
      "+--------------+-----------------------------------+\n",
      "|01            |MAKE PUBLIC STATEMENT              |\n",
      "|010           |Make statement, not specified below|\n",
      "|011           |Decline comment                    |\n",
      "|012           |Make pessimistic comment           |\n",
      "|013           |Make optimistic comment            |\n",
      "|014           |Consider policy option             |\n",
      "|015           |Acknowledge or claim responsibility|\n",
      "|016           |Deny responsibility                |\n",
      "|017           |Engage in symbolic act             |\n",
      "|018           |Make empathetic comment            |\n",
      "+--------------+-----------------------------------+\n",
      "only showing top 10 rows"
     ]
    }
   ],
   "source": [
    "event_codes_path = 's3://bdcc-lab2-bucket/parquet_files/CAMEO.eventcodes.txt'\n",
    "desc_eventTab = spark.sparkContext.textFile(event_codes_path)\n",
    "header = desc_eventTab.first()\n",
    "\n",
    "# Filter out the header, make sure the rest looks correct\n",
    "log_txt = desc_eventTab.filter(lambda line: line != header)\n",
    "temp_var = log_txt.map(lambda k: k.split(\"\\t\"))\n",
    "event_desc = temp_var.toDF(header.split(\"\\t\"))\n",
    "event_desc.show(10, truncate=False)\n",
    "\n",
    "# For local temporary view of this DataFrame\n",
    "event_desc.createOrReplaceTempView('event_desc')"
   ]
  },
  {
   "cell_type": "markdown",
   "id": "f6d47665",
   "metadata": {},
   "source": [
    "<br><div style='text-align: justify; text-indent: 2em'>Looking at the tables below, unsurprisingly, most news reports focused on either Ukraine or Russia wherein they `Use conventional military force`. Events done by Russia to Ukraine include `Make statement`, `Consult`, and `Appeal`. Among events done by Ukraine to Russia, `Consult`, `Make statement`, `Accuse`, and `Appeal` ranked higher, which are indicative of the power imbalance between these two countries.</div>\n",
    "<br><div style='text-align: justify; text-indent: 2em'>Unfortunately, part of the Top 10 of Russia's actions to Ukraine include `Arrest, detain, or charge with legal action`, which is a usual tactic of any government when it encounters a citizen of the opposing country.</div>\n",
    "<br><center style=\"font-size:14px;font-style:default;\"><b>TABLE 17: Top 10 Most Mentioned Events done by Russia to Ukraine</b></center>"
   ]
  },
  {
   "cell_type": "code",
   "execution_count": 17,
   "id": "381fe6a9-7c20-418a-9d2d-b4b1d8b3dea9",
   "metadata": {
    "execution": {
     "iopub.execute_input": "2022-03-13T11:47:58.717140Z",
     "iopub.status.busy": "2022-03-13T11:47:58.716872Z",
     "iopub.status.idle": "2022-03-13T11:48:24.090041Z",
     "shell.execute_reply": "2022-03-13T11:48:24.082324Z",
     "shell.execute_reply.started": "2022-03-13T11:47:58.717105Z"
    },
    "tags": []
   },
   "outputs": [
    {
     "data": {
      "application/vnd.jupyter.widget-view+json": {
       "model_id": "6f170865448948c7afca562055ce890a",
       "version_major": 2,
       "version_minor": 0
      },
      "text/plain": [
       "VBox()"
      ]
     },
     "metadata": {},
     "output_type": "display_data"
    },
    {
     "data": {
      "application/vnd.jupyter.widget-view+json": {
       "model_id": "",
       "version_major": 2,
       "version_minor": 0
      },
      "text/plain": [
       "FloatProgress(value=0.0, bar_style='info', description='Progress:', layout=Layout(height='25px', width='50%'),…"
      ]
     },
     "metadata": {},
     "output_type": "display_data"
    },
    {
     "name": "stdout",
     "output_type": "stream",
     "text": [
      "+---------+----------------------------------------------------+----------------+\n",
      "|EventCode|Event Description                                   |number_of_events|\n",
      "+---------+----------------------------------------------------+----------------+\n",
      "|190      |Use conventional military force, not specified below|64341           |\n",
      "|010      |Make statement, not specified below                 |59730           |\n",
      "|040      |Consult, not specified below                        |57512           |\n",
      "|020      |Appeal, not specified below                         |53859           |\n",
      "|051      |Praise or endorse                                   |47672           |\n",
      "|112      |Accuse, not specified below                         |45235           |\n",
      "|042      |Make a visit                                        |43230           |\n",
      "|046      |Engage in negotiation                               |41115           |\n",
      "|043      |Host a visit                                        |35322           |\n",
      "|173      |Arrest, detain, or charge with legal action         |31507           |\n",
      "+---------+----------------------------------------------------+----------------+\n",
      "only showing top 10 rows"
     ]
    }
   ],
   "source": [
    "(spark.sql(\"\"\"SELECT EventCode,\n",
    "                     event_desc.EVENTDESCRIPTION as `Event Description`,\n",
    "                     number_of_events\n",
    "              FROM(\n",
    "                   SELECT df_all.EventCode,\n",
    "                          count(df_all.GLOBALEVENTID) as number_of_events\n",
    "                   FROM df_all\n",
    "                   WHERE df_all.Actor2CountryCode == 'UKR' and\n",
    "                         df_all.Actor1CountryCode == 'RUS'\n",
    "                   GROUP BY EventCode\n",
    "                  )\n",
    "              JOIN event_desc on event_desc.CAMEOEVENTCODE = EventCode\n",
    "              ORDER BY number_of_events DESC\n",
    "              LIMIT 20\"\"\").show(10, truncate=False))"
   ]
  },
  {
   "cell_type": "markdown",
   "id": "95f16690",
   "metadata": {},
   "source": [
    "<center style=\"font-size:14px;font-style:default;\"><b>TABLE 18: Top 10 Most Mentioned Events done by Ukraine to Russia</b></center>"
   ]
  },
  {
   "cell_type": "code",
   "execution_count": 18,
   "id": "8e6d3c4b-bb99-4d9b-9669-e225ae7fb773",
   "metadata": {
    "execution": {
     "iopub.execute_input": "2022-03-13T11:48:24.092975Z",
     "iopub.status.busy": "2022-03-13T11:48:24.092460Z",
     "iopub.status.idle": "2022-03-13T11:48:47.505438Z",
     "shell.execute_reply": "2022-03-13T11:48:47.504714Z",
     "shell.execute_reply.started": "2022-03-13T11:48:24.092935Z"
    },
    "tags": []
   },
   "outputs": [
    {
     "data": {
      "application/vnd.jupyter.widget-view+json": {
       "model_id": "cba7ff0272fc42a19e71b563b087ad44",
       "version_major": 2,
       "version_minor": 0
      },
      "text/plain": [
       "VBox()"
      ]
     },
     "metadata": {},
     "output_type": "display_data"
    },
    {
     "data": {
      "application/vnd.jupyter.widget-view+json": {
       "model_id": "",
       "version_major": 2,
       "version_minor": 0
      },
      "text/plain": [
       "FloatProgress(value=0.0, bar_style='info', description='Progress:', layout=Layout(height='25px', width='50%'),…"
      ]
     },
     "metadata": {},
     "output_type": "display_data"
    },
    {
     "name": "stdout",
     "output_type": "stream",
     "text": [
      "+---------+----------------------------------------------------+----------------+\n",
      "|EventCode|Event Description                                   |number_of_events|\n",
      "+---------+----------------------------------------------------+----------------+\n",
      "|040      |Consult, not specified below                        |57629           |\n",
      "|010      |Make statement, not specified below                 |56801           |\n",
      "|112      |Accuse, not specified below                         |54880           |\n",
      "|020      |Appeal, not specified below                         |53501           |\n",
      "|190      |Use conventional military force, not specified below|52298           |\n",
      "|046      |Engage in negotiation                               |41226           |\n",
      "|043      |Host a visit                                        |39215           |\n",
      "|042      |Make a visit                                        |38067           |\n",
      "|051      |Praise or endorse                                   |36226           |\n",
      "|036      |Express intent to meet or negotiate                 |27164           |\n",
      "+---------+----------------------------------------------------+----------------+\n",
      "only showing top 10 rows"
     ]
    }
   ],
   "source": [
    "(spark.sql(\"\"\"SELECT EventCode,\n",
    "                     event_desc.EVENTDESCRIPTION as `Event Description`,\n",
    "                     number_of_events\n",
    "              FROM\n",
    "                  (\n",
    "                   SELECT df_all.EventCode,\n",
    "                          count(df_all.GLOBALEVENTID) as number_of_events\n",
    "                   FROM df_all\n",
    "                   WHERE df_all.Actor2CountryCode == 'RUS' and\n",
    "                         df_all.Actor1CountryCode == 'UKR'\n",
    "                   GROUP BY EventCode\n",
    "                  )\n",
    "              JOIN event_desc on event_desc.CAMEOEVENTCODE = EventCode\n",
    "              ORDER BY number_of_events DESC\n",
    "              LIMIT 20\"\"\").show(10, truncate=False))"
   ]
  },
  {
   "cell_type": "code",
   "execution_count": 19,
   "id": "9b9cce65-9f35-4dd4-99bd-d58b955fd6ad",
   "metadata": {
    "execution": {
     "iopub.execute_input": "2022-03-13T11:48:47.506770Z",
     "iopub.status.busy": "2022-03-13T11:48:47.506524Z",
     "iopub.status.idle": "2022-03-13T11:48:48.276339Z",
     "shell.execute_reply": "2022-03-13T11:48:48.275584Z",
     "shell.execute_reply.started": "2022-03-13T11:48:47.506737Z"
    },
    "scrolled": true,
    "tags": []
   },
   "outputs": [
    {
     "data": {
      "application/vnd.jupyter.widget-view+json": {
       "model_id": "df5fc0b3cdac41f4a86ec5aba088879e",
       "version_major": 2,
       "version_minor": 0
      },
      "text/plain": [
       "VBox()"
      ]
     },
     "metadata": {},
     "output_type": "display_data"
    },
    {
     "data": {
      "application/vnd.jupyter.widget-view+json": {
       "model_id": "",
       "version_major": 2,
       "version_minor": 0
      },
      "text/plain": [
       "FloatProgress(value=0.0, bar_style='info', description='Progress:', layout=Layout(height='25px', width='50%'),…"
      ]
     },
     "metadata": {},
     "output_type": "display_data"
    }
   ],
   "source": [
    "df = spark.read.parquet('s3://bdcc-final-project-bucket/'\n",
    "                        'war_ukr_rus_w_internal.parquet')"
   ]
  },
  {
   "cell_type": "code",
   "execution_count": 20,
   "id": "3ffc1c66-5bd0-47e6-bb9c-7e55a6e50d03",
   "metadata": {
    "execution": {
     "iopub.execute_input": "2022-03-13T11:48:48.277626Z",
     "iopub.status.busy": "2022-03-13T11:48:48.277382Z",
     "iopub.status.idle": "2022-03-13T11:48:48.339077Z",
     "shell.execute_reply": "2022-03-13T11:48:48.338209Z",
     "shell.execute_reply.started": "2022-03-13T11:48:48.277591Z"
    },
    "scrolled": true,
    "tags": []
   },
   "outputs": [
    {
     "data": {
      "application/vnd.jupyter.widget-view+json": {
       "model_id": "a9519278a01e47d18dc24935ca0e1b4e",
       "version_major": 2,
       "version_minor": 0
      },
      "text/plain": [
       "VBox()"
      ]
     },
     "metadata": {},
     "output_type": "display_data"
    },
    {
     "data": {
      "application/vnd.jupyter.widget-view+json": {
       "model_id": "",
       "version_major": 2,
       "version_minor": 0
      },
      "text/plain": [
       "FloatProgress(value=0.0, bar_style='info', description='Progress:', layout=Layout(height='25px', width='50%'),…"
      ]
     },
     "metadata": {},
     "output_type": "display_data"
    }
   ],
   "source": [
    "df.createOrReplaceTempView('df')"
   ]
  },
  {
   "cell_type": "markdown",
   "id": "7f750242",
   "metadata": {},
   "source": [
    "# 5. Results and Discussion"
   ]
  },
  {
   "cell_type": "markdown",
   "id": "fb76bc44",
   "metadata": {},
   "source": [
    "## 5.1. Global Sentiment\n",
    "\n",
    "<br><div style='font-size: 18px; font-weight: bold;'>Who were the significant actors?</div>\n",
    "<br><div style='text-align: justify;'>We start with visualizing the global sentiment on all major actors relevant to the Russo-Ukrainian War. GDELT suggests that the number of mentions are a proxy of importance of an individual actor. Below, we provide the list of actors that acted as leaders from each of their own country.</div>\n",
    "<br><center style=\"font-size:14px;font-style:default;\"><b>TABLE 19: Frequently Mentioned Actors</b></center>"
   ]
  },
  {
   "cell_type": "code",
   "execution_count": 21,
   "id": "d004be4a-25aa-4c42-91e5-d19b61adf9dd",
   "metadata": {
    "execution": {
     "iopub.execute_input": "2022-03-13T11:48:48.340571Z",
     "iopub.status.busy": "2022-03-13T11:48:48.340324Z",
     "iopub.status.idle": "2022-03-13T11:48:50.633703Z",
     "shell.execute_reply": "2022-03-13T11:48:50.632907Z",
     "shell.execute_reply.started": "2022-03-13T11:48:48.340538Z"
    },
    "tags": []
   },
   "outputs": [
    {
     "data": {
      "application/vnd.jupyter.widget-view+json": {
       "model_id": "36d536cbd91147898333ed861148520b",
       "version_major": 2,
       "version_minor": 0
      },
      "text/plain": [
       "VBox()"
      ]
     },
     "metadata": {},
     "output_type": "display_data"
    },
    {
     "data": {
      "application/vnd.jupyter.widget-view+json": {
       "model_id": "",
       "version_major": 2,
       "version_minor": 0
      },
      "text/plain": [
       "FloatProgress(value=0.0, bar_style='info', description='Progress:', layout=Layout(height='25px', width='50%'),…"
      ]
     },
     "metadata": {},
     "output_type": "display_data"
    },
    {
     "name": "stdout",
     "output_type": "stream",
     "text": [
      "+-----------------+----------------+\n",
      "|       Actor1Name|sum(NumMentions)|\n",
      "+-----------------+----------------+\n",
      "|   VLADIMIR PUTIN|          168261|\n",
      "|     BARACK OBAMA|           55151|\n",
      "|        JOE BIDEN|           44965|\n",
      "|VIKTOR YANUKOVYCH|           11396|\n",
      "|      THERESA MAY|            7948|\n",
      "|    DAVID CAMERON|            6892|\n",
      "|       XI JINPING|            4363|\n",
      "+-----------------+----------------+"
     ]
    }
   ],
   "source": [
    "(df.select(df['NumMentions'].cast('int'),\n",
    "           df['Actor1Name'].cast('string'))\n",
    "   .filter((f.col('Actor1Name').like('VLADIMIR PUTIN')) |\n",
    "           (f.col('Actor1Name').like('VOLODYMYR ZELENSKYY')) |\n",
    "           (f.col('Actor1Name').like('PETRO POROSHENKO')) |\n",
    "           (f.col('Actor1Name').like('OLEKSANDR TURCHYNOV')) |\n",
    "           (f.col('Actor1Name').like('VIKTOR YANUKOVYCH')) |\n",
    "           (f.col('Actor1Name').like('DONALD TRUMP')) |\n",
    "           (f.col('Actor1Name').like('JOE BIDEN')) |\n",
    "           (f.col('Actor1Name').like('BARACK OBAMA')) |\n",
    "           (f.col('Actor1Name').like('XI JINPING')) |\n",
    "           (f.col('Actor1Name').like('BORIS JOHNSON')) |\n",
    "           (f.col('Actor1Name').like('THERESA MAY')) |\n",
    "           (f.col('Actor1Name').like('DAVID CAMERON')) |\n",
    "           (f.col('Actor1Name').like('EMMANUEL MACRON')) |\n",
    "           (f.col('Actor1Name').like('FRANCOIS HOLLANDE')))\n",
    "   .groupby('Actor1Name')\n",
    "   .sum('NumMentions').alias('Total NumMentions')\n",
    "   .orderBy('sum(NumMentions)', ascending=False)\n",
    " .show())"
   ]
  },
  {
   "cell_type": "markdown",
   "id": "ea6d0cec",
   "metadata": {},
   "source": [
    "<div style='text-align: justify; text-indent: 2em'>Those that were frequently mentioned in all events were then-UK Prime Minister Theresa May, then-US President Barack Obama, US President Joe Biden, then-Ukrainian President Yanukovych, Chinese President Xi Jinping, and Russian President Vladimir Putin. Strikingly, then-US President Donald Trump and Ukrainian President Volodymyr Zelenskyy are not included on the list of frequently mentioned actors.</div>\n",
    "<hr>"
   ]
  },
  {
   "cell_type": "markdown",
   "id": "2a648f74",
   "metadata": {},
   "source": [
    "<div style='font-size: 18px; font-weight: bold;'>What is the average sentiment of documents towards significant actors?</div>\n",
    "<br><div style='text-align: justify;'>The following figure plots the average \"tone\" of documents on the identified significant actors, with warm colors representing Russia and China and cold colors representing Ukraine, the UK, and the US. By \"tone,\" we mean the average sentiment of documents containing the actor. Ranging from -100 to +100, most documents are limited to -10 and +10 only.</div>\n",
    "<br><center style=\"font-size:14px;font-style:default;\"><b>FIGURE 2: Monthly Average Tone of Events Based on Individual Actor</b></center>"
   ]
  },
  {
   "cell_type": "markdown",
   "id": "b3f5bce0",
   "metadata": {},
   "source": [
    "![Figure 2](figures/fig2.PNG)"
   ]
  },
  {
   "cell_type": "markdown",
   "id": "cd484be8",
   "metadata": {},
   "source": [
    "<div style='text-align: justify; text-indent: 2em'>Specifically for the significant actors included in plot, the \"tone\" of documents about Russia and China appears to be far more positive than that of their Western counterparts. This difference in tone is potentially a reflection of how much immediate control the governments of these countries have on how they are perceived by the media.</div>\n",
    "<hr>"
   ]
  },
  {
   "cell_type": "markdown",
   "id": "4efd0b18-b106-47ba-b68b-340be155eb60",
   "metadata": {},
   "source": [
    "<div style='font-size: 18px; font-weight: bold;'>What are the significant events in the Russo-Ukrainian War?</div>\n",
    "<br><div style='text-align: justify;'>We then looked at the number of \"mentions\" among source documents relating to the Russo-Ukrainian War. GDELT suggests that frequently mentioned events are likely to be significant.</div>\n",
    "<br><center style=\"font-size:14px;font-style:default;\"><b>FIGURE 3: Number of Mentions on the Russo-Ukrainian War</b></center>"
   ]
  },
  {
   "cell_type": "markdown",
   "id": "9acebe12",
   "metadata": {},
   "source": [
    "![Figure 3](figures/fig3.PNG)"
   ]
  },
  {
   "cell_type": "markdown",
   "id": "ff3a3c00",
   "metadata": {},
   "source": [
    "<div style='text-align: justify; text-indent: 2em'>We observe several peaks in the plot, with the first peak in early 2014, when the Ukrainians ousted their then-President Viktor Yanukovych. All other peaks are at certain escalation events: For instance, the peak in mid-2014 refers to Russia's annexation of Crimea, starting the formal invasion of Russia; the peak in late 2018 refers to the Kerch Strait incident, and the highest peak in early 2022 refers to the latest invasion of Russia in a bid for Ukraine's capital. The relative \"silence\" between the years of 2015 and 2022 led journalists to refer to the events in these years as the \"forgotten war.\"</div>\n",
    "<hr>"
   ]
  },
  {
   "cell_type": "markdown",
   "id": "7d667a7f-7210-4aca-8c9f-2f62c7fe54af",
   "metadata": {},
   "source": [
    "<div style='font-size: 18px; font-weight: bold;'>What events most influenced country instability in Russia and Ukraine?</div>\n",
    "<br><div style='text-align: justify;'>We look at the impact of each event to the country. GDELT uses the Goldstein Scale, a score from -10 to +10, which aims to capture the \"theoretical potential impact that type of event will have on the stability of a country.\"</div>\n",
    "<br><center style=\"font-size:14px;font-style:default;\"><b>FIGURE 4: Goldstein Scales for Russia and Ukraine</b></center>"
   ]
  },
  {
   "cell_type": "markdown",
   "id": "addf7c63",
   "metadata": {},
   "source": [
    "![Figure 4](figures/fig4.PNG)"
   ]
  },
  {
   "cell_type": "markdown",
   "id": "d60f040d",
   "metadata": {},
   "source": [
    "<div style='text-align: justify; text-indent: 2em'>These heatmaps visualize the Goldstein Scales for each month in the past nine years. Russia appears to have paler grids and thus has less negative Goldstein scores, possibly owing to the extent of their geopolitical and economic power and how they strategically yield it in diplomatic spaces. However, for the data ending early March 2022, it appears that Russia's scale is getting redder, indicating that recent sanctions have negatively impacted them.</div>\n",
    "<br><div style='text-align: justify; text-indent: 2em'>On the other hand, Ukraine appears to be more prone to destabilization. The months of May 2014, July 2014, and November 2018 are months when key events occurred in the war. These include the Annexation of Crimea and the War in Donbas in eastern Ukraine in 2014, and the Kerch Strait incident in 2018.</div>"
   ]
  },
  {
   "cell_type": "code",
   "execution_count": 24,
   "id": "d20040aa-51b9-414b-a0de-89aba06f528f",
   "metadata": {
    "execution": {
     "iopub.execute_input": "2022-03-13T11:48:50.636584Z",
     "iopub.status.busy": "2022-03-13T11:48:50.636284Z",
     "iopub.status.idle": "2022-03-13T11:48:53.993637Z",
     "shell.execute_reply": "2022-03-13T11:48:53.993023Z",
     "shell.execute_reply.started": "2022-03-13T11:48:50.636502Z"
    },
    "tags": []
   },
   "outputs": [
    {
     "data": {
      "application/vnd.jupyter.widget-view+json": {
       "model_id": "12a23ddce12c47e794f7fc25de563a4b",
       "version_major": 2,
       "version_minor": 0
      },
      "text/plain": [
       "VBox()"
      ]
     },
     "metadata": {},
     "output_type": "display_data"
    },
    {
     "data": {
      "application/vnd.jupyter.widget-view+json": {
       "model_id": "",
       "version_major": 2,
       "version_minor": 0
      },
      "text/plain": [
       "FloatProgress(value=0.0, bar_style='info', description='Progress:', layout=Layout(height='25px', width='50%'),…"
      ]
     },
     "metadata": {},
     "output_type": "display_data"
    }
   ],
   "source": [
    "trans_db = spark.sql(\n",
    "    \"\"\"\n",
    "    SELECT\n",
    "        Year,\n",
    "        SQLDATE,\n",
    "        Actor1Name,\n",
    "        COLLECT_SET(CONCAT(\n",
    "            Actor1Name, \"_1\", \"-\",\n",
    "            Actor2Name, \"_2\", \"-\",\n",
    "            Actor2CountryCode, \"-\",\n",
    "            EVENTDESCRIPTION\n",
    "        )) AS itemset\n",
    "    FROM df\n",
    "    GROUP BY Year, SQLDATE, Actor1Name\n",
    "    \"\"\"\n",
    ")"
   ]
  },
  {
   "cell_type": "markdown",
   "id": "5e729b91",
   "metadata": {},
   "source": [
    "## 5.2. Frequently Occurring Items and Association Rules between Geopolitical Events\n",
    "\n",
    "<br><div style='text-align: justify;'>We now look at the frequently occurring geopolitical events between actors in the past nine years and discuss them in four sections below. Please note that the following tables only show the top 20 rows for readability. The following analysis used the top 100 rows of each year, which is available in <tt>03_fimPipeline.ipynb</tt>.</div>\n",
    "<br><div style='text-align: justify; text-indent: 2em'>Below, actors are appended with either a \"<tt>_1</tt>\" or a \"<tt>_2</tt>\", the former meaning that they are <tt>Actor1</tt> (active role in the event) in the itemset, while the latter is <tt>Actor2</tt> (passive role in the event).</div>"
   ]
  },
  {
   "cell_type": "markdown",
   "id": "11a7e02c",
   "metadata": {},
   "source": [
    "<div style='font-size: 18px; font-weight: bold;'>2013: Usual diplomatic negotiations between world superpowers</div>\n",
    "<br><div style='text-align: justify;'>At least for 2013, we observe the usual negotiations and consultations between world superpowers.</div>\n",
    "<br><center style=\"font-size:14px;font-style:default;\"><b>TABLE 20: First 20 association rules for itemsets in 2013</b></center>"
   ]
  },
  {
   "cell_type": "code",
   "execution_count": 25,
   "id": "c499b89a-2ea4-4524-960f-710a01483147",
   "metadata": {
    "execution": {
     "iopub.execute_input": "2022-03-13T11:48:54.069571Z",
     "iopub.status.busy": "2022-03-13T11:48:54.069137Z",
     "iopub.status.idle": "2022-03-13T11:49:01.443819Z",
     "shell.execute_reply": "2022-03-13T11:49:01.443189Z",
     "shell.execute_reply.started": "2022-03-13T11:48:54.069536Z"
    },
    "tags": []
   },
   "outputs": [
    {
     "data": {
      "application/vnd.jupyter.widget-view+json": {
       "model_id": "0de757c516194db7a0da639f3049a0db",
       "version_major": 2,
       "version_minor": 0
      },
      "text/plain": [
       "VBox()"
      ]
     },
     "metadata": {},
     "output_type": "display_data"
    },
    {
     "data": {
      "application/vnd.jupyter.widget-view+json": {
       "model_id": "",
       "version_major": 2,
       "version_minor": 0
      },
      "text/plain": [
       "FloatProgress(value=0.0, bar_style='info', description='Progress:', layout=Layout(height='25px', width='50%'),…"
      ]
     },
     "metadata": {},
     "output_type": "display_data"
    },
    {
     "name": "stdout",
     "output_type": "stream",
     "text": [
      "+----------------------------------------+-----------------+-----+-----+\n",
      "|antecedent                              |consequent       |sup  |conf |\n",
      "+----------------------------------------+-----------------+-----+-----+\n",
      "|[RUSSIA_2]                              |[RUS]            |0.468|1.0  |\n",
      "|[RUS]                                   |[RUSSIA_2]       |0.468|0.618|\n",
      "|[RUSSIAN_2]                             |[RUS]            |0.168|1.0  |\n",
      "|[Consult, not specified below]          |[RUS]            |0.083|0.789|\n",
      "|[Engage in negotiation]                 |[RUS]            |0.073|0.842|\n",
      "|[MOSCOW_2]                              |[RUS]            |0.064|1.0  |\n",
      "|[UKRAINE_2]                             |[UKR]            |0.054|1.0  |\n",
      "|[UKR]                                   |[UKRAINE_2]      |0.054|0.581|\n",
      "|[Consult, not specified below, RUSSIA_2]|[RUS]            |0.051|1.0  |\n",
      "|[Consult, not specified below, RUS]     |[RUSSIA_2]       |0.051|0.617|\n",
      "|[Consult, not specified below]          |[RUSSIA_2]       |0.051|0.487|\n",
      "|[Engage in negotiation, RUSSIA_2]       |[RUS]            |0.05 |1.0  |\n",
      "|[Engage in negotiation, RUS]            |[RUSSIA_2]       |0.05 |0.686|\n",
      "|[Engage in negotiation]                 |[RUSSIA_2]       |0.05 |0.578|\n",
      "|[UNITED STATES_1]                       |[RUS]            |0.048|0.907|\n",
      "|[Host a visit]                          |[RUS]            |0.046|0.719|\n",
      "|[Make a visit]                          |[RUS]            |0.043|0.781|\n",
      "|[UNITED STATES_2]                       |[USA]            |0.04 |1.0  |\n",
      "|[USA]                                   |[UNITED STATES_2]|0.04 |0.389|\n",
      "|[THE US_1]                              |[RUS]            |0.039|1.0  |\n",
      "+----------------------------------------+-----------------+-----+-----+\n",
      "only showing top 20 rows"
     ]
    }
   ],
   "source": [
    "fim_years('itemset', [2013])"
   ]
  },
  {
   "cell_type": "markdown",
   "id": "12d920e1",
   "metadata": {},
   "source": [
    "<div style='text-align: justify; text-indent: 2em'>Specifically, many of the actions focused on <tt>Consult</tt> or <tt>Engage in negotiation</tt>, signifying the regular diplomatic functions between countries.</div>\n",
    "<br><div style='text-align: justify; text-indent: 2em'>Understandably, given their power and influence—including being permanent members of the UN Security Council—they are mentioned more frequently than Ukraine. We observe no itemsets that may indicate Russia's intention to invade Crimea.</div>\n",
    "<br>"
   ]
  },
  {
   "cell_type": "markdown",
   "id": "377dd27c",
   "metadata": {},
   "source": [
    "<div style='font-size: 18px; font-weight: bold;'>2014: Start of the Russo-Ukrainian War</div>\n",
    "<br><div style='text-align: justify;'>When the war started in 2014 with Russia's annexation of Crimea, US actively sanctioned and imposed embargoes on Russia.</div>\n",
    "<br><center style=\"font-size:14px;font-style:default;\"><b>TABLE 21: First 20 association rules for itemsets in 2014</b></center>"
   ]
  },
  {
   "cell_type": "code",
   "execution_count": 26,
   "id": "170861eb-d8e6-41a9-8eab-79894d5135c8",
   "metadata": {
    "execution": {
     "iopub.execute_input": "2022-03-13T11:49:01.444830Z",
     "iopub.status.busy": "2022-03-13T11:49:01.444657Z",
     "iopub.status.idle": "2022-03-13T11:49:07.335551Z",
     "shell.execute_reply": "2022-03-13T11:49:07.067240Z",
     "shell.execute_reply.started": "2022-03-13T11:49:01.444809Z"
    }
   },
   "outputs": [
    {
     "data": {
      "application/vnd.jupyter.widget-view+json": {
       "model_id": "26ea414f83c643b3814ee97c826ea0a9",
       "version_major": 2,
       "version_minor": 0
      },
      "text/plain": [
       "VBox()"
      ]
     },
     "metadata": {},
     "output_type": "display_data"
    },
    {
     "data": {
      "application/vnd.jupyter.widget-view+json": {
       "model_id": "",
       "version_major": 2,
       "version_minor": 0
      },
      "text/plain": [
       "FloatProgress(value=0.0, bar_style='info', description='Progress:', layout=Layout(height='25px', width='50%'),…"
      ]
     },
     "metadata": {},
     "output_type": "display_data"
    },
    {
     "name": "stdout",
     "output_type": "stream",
     "text": [
      "+---------------------------------------+-----------+-----+-----+\n",
      "|antecedent                             |consequent |sup  |conf |\n",
      "+---------------------------------------+-----------+-----+-----+\n",
      "|[RUSSIA_2]                             |[RUS]      |0.369|1.0  |\n",
      "|[RUS]                                  |[RUSSIA_2] |0.369|0.624|\n",
      "|[UKRAINE_2]                            |[UKR]      |0.192|1.0  |\n",
      "|[UKR]                                  |[UKRAINE_2]|0.192|0.604|\n",
      "|[RUSSIAN_2]                            |[RUS]      |0.143|1.0  |\n",
      "|[UKRAINIAN_2]                          |[UKR]      |0.057|1.0  |\n",
      "|[MOSCOW_2]                             |[RUS]      |0.046|1.0  |\n",
      "|[Engage in negotiation]                |[RUS]      |0.04 |0.674|\n",
      "|[Consult, not specified below]         |[RUS]      |0.036|0.521|\n",
      "|[Make statement, not specified below]  |[RUS]      |0.035|0.582|\n",
      "|[Impose embargo, boycott, or sanctions]|[RUS]      |0.031|0.835|\n",
      "|[Host a visit]                         |[RUS]      |0.029|0.556|\n",
      "|[Appeal, not specified below]          |[RUS]      |0.028|0.545|\n",
      "|[Engage in negotiation, RUSSIA_2]      |[RUS]      |0.027|1.0  |\n",
      "|[Engage in negotiation, RUS]           |[RUSSIA_2] |0.027|0.686|\n",
      "|[Engage in negotiation]                |[RUSSIA_2] |0.027|0.462|\n",
      "|[Make a visit]                         |[RUS]      |0.027|0.505|\n",
      "|[CHINA_1]                              |[RUS]      |0.026|0.938|\n",
      "|[Consult, not specified below]         |[UKR]      |0.025|0.37 |\n",
      "|[Accuse, not specified below]          |[RUS]      |0.024|0.799|\n",
      "+---------------------------------------+-----------+-----+-----+\n",
      "only showing top 20 rows"
     ]
    }
   ],
   "source": [
    "fim_years('itemset', [2014])"
   ]
  },
  {
   "cell_type": "markdown",
   "id": "b4108377",
   "metadata": {},
   "source": [
    "<div style='text-align: justify; text-indent: 2em'>Itemsets that were explicitly included were the following:</div>\n",
    "<div style='text-align: justify; display: inline-block;'>\n",
    "    <ol>\n",
    "        <li><tt>UNITED STATES_1 Impose embargo, boycott, or sanctions</tt> to <tt>RUSSIA_2</tt></li>\n",
    "        <li><tt>RUSSIA_1 Use conventional military force</tt> on <tt>UKRAINE_2</tt></li>\n",
    "        <li><tt>RUSSIA_1 Express intent to cooperate</tt>, but as we later find out, they fail to do so.</li>\n",
    "    </ol>\n",
    "</div>\n",
    "<br><br>"
   ]
  },
  {
   "cell_type": "markdown",
   "id": "5a821da3",
   "metadata": {},
   "source": [
    "<div style='font-size: 18px; font-weight: bold;'>2015-2021: Continuation of the War</div>\n",
    "<br><div style='text-align: justify;'>Using the number of mentions and Goldstein scale for the years 2015 to 2021 received less mentions and are unlikely to be significant. However, we surfaced several events with strong association rules across different years.</div>\n",
    "<br><center style=\"font-size:14px;font-style:default;\"><b>TABLE 22: First 20 association rules for itemsets in 2015-2021</b></center>"
   ]
  },
  {
   "cell_type": "code",
   "execution_count": 27,
   "id": "75b1bd75-4a32-4cb5-8bbe-a876f55ef65d",
   "metadata": {
    "execution": {
     "iopub.execute_input": "2022-03-13T11:49:07.339373Z",
     "iopub.status.busy": "2022-03-13T11:49:07.339100Z",
     "iopub.status.idle": "2022-03-13T11:49:14.649204Z",
     "shell.execute_reply": "2022-03-13T11:49:14.648339Z",
     "shell.execute_reply.started": "2022-03-13T11:49:07.339337Z"
    },
    "scrolled": false,
    "tags": []
   },
   "outputs": [
    {
     "data": {
      "application/vnd.jupyter.widget-view+json": {
       "model_id": "97ff8db003204cccb7068c0dc3146fab",
       "version_major": 2,
       "version_minor": 0
      },
      "text/plain": [
       "VBox()"
      ]
     },
     "metadata": {},
     "output_type": "display_data"
    },
    {
     "data": {
      "application/vnd.jupyter.widget-view+json": {
       "model_id": "",
       "version_major": 2,
       "version_minor": 0
      },
      "text/plain": [
       "FloatProgress(value=0.0, bar_style='info', description='Progress:', layout=Layout(height='25px', width='50%'),…"
      ]
     },
     "metadata": {},
     "output_type": "display_data"
    },
    {
     "name": "stdout",
     "output_type": "stream",
     "text": [
      "+------------------------------------------------------+-----------+-----+-----+\n",
      "|antecedent                                            |consequent |sup  |conf |\n",
      "+------------------------------------------------------+-----------+-----+-----+\n",
      "|[RUSSIA_2]                                            |[RUS]      |0.399|1.0  |\n",
      "|[RUS]                                                 |[RUSSIA_2] |0.399|0.599|\n",
      "|[RUSSIAN_2]                                           |[RUS]      |0.167|1.0  |\n",
      "|[UKRAINE_2]                                           |[UKR]      |0.145|1.0  |\n",
      "|[UKR]                                                 |[UKRAINE_2]|0.145|0.64 |\n",
      "|[MOSCOW_2]                                            |[RUS]      |0.05 |1.0  |\n",
      "|[Consult, not specified below]                        |[RUS]      |0.05 |0.62 |\n",
      "|[Make statement, not specified below]                 |[RUS]      |0.041|0.666|\n",
      "|[UKRAINIAN_2]                                         |[UKR]      |0.04 |1.0  |\n",
      "|[Host a visit]                                        |[RUS]      |0.038|0.631|\n",
      "|[Appeal, not specified below]                         |[RUS]      |0.038|0.597|\n",
      "|[Engage in negotiation]                               |[RUS]      |0.035|0.703|\n",
      "|[Accuse, not specified below]                         |[RUS]      |0.032|0.827|\n",
      "|[Make a visit]                                        |[RUS]      |0.029|0.613|\n",
      "|[CHINA_1]                                             |[RUS]      |0.026|0.956|\n",
      "|[Use conventional military force, not specified below]|[RUS]      |0.026|0.616|\n",
      "|[Consult, not specified below, RUSSIA_2]              |[RUS]      |0.025|1.0  |\n",
      "|[Consult, not specified below, RUS]                   |[RUSSIA_2] |0.025|0.499|\n",
      "|[Consult, not specified below]                        |[RUSSIA_2] |0.025|0.309|\n",
      "|[Make statement, not specified below, RUSSIA_2]       |[RUS]      |0.024|1.0  |\n",
      "+------------------------------------------------------+-----------+-----+-----+\n",
      "only showing top 20 rows"
     ]
    }
   ],
   "source": [
    "fim_years('itemset', [2015, 2016, 2017, 2018, 2019, 2020, 2021])"
   ]
  },
  {
   "cell_type": "markdown",
   "id": "03b3f81a",
   "metadata": {},
   "source": [
    "<div style='text-align: justify; text-indent: 2em'>Events in the next seven years followed a pattern, with most events surrounding on the following: Russia had formal agreements with China, which both continued to uphold. Also, Russia used military force somewhere in Ukraine. Europe typically responded by appealing to Russia, although their response had been increasingly hostile in the past 3 years. America's response was typically more aggressive, sanctioning and imposing embargoes on Russia more often than not, which usually resulted in Russia appealing to the US.</div>\n",
    "<br><div style='text-align: justify; display: inline-block;'>\n",
    "    <ol>\n",
    "        <li><b>China has formal agreements with Russia.</b> Russia had formal agreements with China, which both continued to uphold. Specifically, this includes <tt>CHINA_1 Sign formal agreement</tt> with <tt>RUSSIA_2</tt>.</li>\n",
    "        <br><li><b>Russia uses military force in Ukraine.</b> Specifically, this includes <tt>RUSSIA_1 Use conventional military force</tt> on <tt>UKRAINE_2</tt>.</li>\n",
    "        <br><li><b>France and the UK appeal to and accuse Russia.</b> European countries such as <tt>FRANCE_1</tt> or <tt>UNITED KINGDOM_1</tt> typically responded by <tt>Appeal</tt>ing to Russia, although their response had been increasingly hostile in the past three years.</li>\n",
    "        <br><li><b>US negotiates with and sanctions Russia.</b> America's response was typically more aggressive, sanctioning, and imposing embargoes on Russia often.</li>\n",
    "        <br><li><b>Russia appeals to US.</b> This is often a result of US' actions against Russia.</li>\n",
    "    </ol>\n",
    "</div>\n",
    "<br><br><div style='text-align: justify; text-indent: 2em'>The above items may indicate that the escalation did not happen from a single event, but stems from a larger group of events that happened over the years. Potentially, international travel restrictions related to the COVID-19 pandemic may have delayed events and actions between actors, but we leave the detailed analysis of 2020-2021 for future studies.</div>\n",
    "<br>"
   ]
  },
  {
   "cell_type": "markdown",
   "id": "5dca5951",
   "metadata": {},
   "source": [
    "<div style='font-size: 18px; font-weight: bold;'>2022: Re-escalation and Economic Sanctions against Russia</div>\n",
    "<br><div style='text-align: justify;'>Finally, three itemsets stand out from previous years for 2022.</div>\n",
    "<br><div style='text-align: justify; display: inline-block;'>\n",
    "    <ol>\n",
    "        <li><b>Worldwide criticisms and denouncements of Russia, as well as sanctions and embargoes.</b> This includes actions of <tt>Threaten</tt>ing, <tt>Impose embargo, boycott, or sanctions</tt>, and <tt>Make pessimistic comment</tt>.</li>\n",
    "        <li><b>Support for Ukraine.</b> This includes events where Ukraine is the receiving end of <tt>Provide military aid</tt> and <tt>Engage in negotiation</tt>, but also includes <tt>Make pessimistic comment</tt>.</li>\n",
    "    </ol>\n",
    "</div>\n",
    "<br><center style=\"font-size:14px;font-style:default;\"><b>TABLE 23: First 20 association rules for itemsets in 2022</b></center>"
   ]
  },
  {
   "cell_type": "code",
   "execution_count": 28,
   "id": "683ee040-2480-46ca-8a5e-40a0a5d4ba4c",
   "metadata": {
    "execution": {
     "iopub.execute_input": "2022-03-13T11:49:14.650985Z",
     "iopub.status.busy": "2022-03-13T11:49:14.650736Z",
     "iopub.status.idle": "2022-03-13T11:49:19.990186Z",
     "shell.execute_reply": "2022-03-13T11:49:19.989291Z",
     "shell.execute_reply.started": "2022-03-13T11:49:14.650954Z"
    },
    "tags": []
   },
   "outputs": [
    {
     "data": {
      "application/vnd.jupyter.widget-view+json": {
       "model_id": "621b11d4920e43f5acb2690294d63522",
       "version_major": 2,
       "version_minor": 0
      },
      "text/plain": [
       "VBox()"
      ]
     },
     "metadata": {},
     "output_type": "display_data"
    },
    {
     "data": {
      "application/vnd.jupyter.widget-view+json": {
       "model_id": "",
       "version_major": 2,
       "version_minor": 0
      },
      "text/plain": [
       "FloatProgress(value=0.0, bar_style='info', description='Progress:', layout=Layout(height='25px', width='50%'),…"
      ]
     },
     "metadata": {},
     "output_type": "display_data"
    },
    {
     "name": "stdout",
     "output_type": "stream",
     "text": [
      "+---------------------------------------+-----------+-----+-----+\n",
      "|antecedent                             |consequent |sup  |conf |\n",
      "+---------------------------------------+-----------+-----+-----+\n",
      "|[RUSSIA_2]                             |[RUS]      |0.287|1.0  |\n",
      "|[RUS]                                  |[RUSSIA_2] |0.287|0.544|\n",
      "|[UKRAINE_2]                            |[UKR]      |0.286|1.0  |\n",
      "|[UKR]                                  |[UKRAINE_2]|0.286|0.7  |\n",
      "|[RUSSIAN_2]                            |[RUS]      |0.182|1.0  |\n",
      "|[RUS]                                  |[RUSSIAN_2]|0.182|0.344|\n",
      "|[UKRAINIAN_2]                          |[UKR]      |0.077|1.0  |\n",
      "|[Praise or endorse]                    |[UKR]      |0.037|0.64 |\n",
      "|[Appeal, not specified below]          |[RUS]      |0.036|0.555|\n",
      "|[Consult, not specified below]         |[RUS]      |0.035|0.463|\n",
      "|[Consult, not specified below]         |[UKR]      |0.034|0.448|\n",
      "|[Make a visit]                         |[UKR]      |0.032|0.625|\n",
      "|[MOSCOW_2]                             |[RUS]      |0.031|1.0  |\n",
      "|[Make statement, not specified below]  |[RUS]      |0.03 |0.492|\n",
      "|[Threaten, not specified below]        |[RUS]      |0.028|0.744|\n",
      "|[Praise or endorse, UKRAINE_2]         |[UKR]      |0.027|1.0  |\n",
      "|[Praise or endorse, UKR]               |[UKRAINE_2]|0.027|0.713|\n",
      "|[Praise or endorse]                    |[UKRAINE_2]|0.027|0.456|\n",
      "|[Host a visit]                         |[UKR]      |0.025|0.461|\n",
      "|[Appeal, not specified below, RUSSIA_2]|[RUS]      |0.024|1.0  |\n",
      "+---------------------------------------+-----------+-----+-----+\n",
      "only showing top 20 rows"
     ]
    }
   ],
   "source": [
    "fim_years('itemset', [2022])"
   ]
  },
  {
   "cell_type": "markdown",
   "id": "07433097",
   "metadata": {},
   "source": [
    "# 6. Conclusion\n",
    "\n",
    "<br><div style='text-align: justify;'>In this report, we successfully described the global sentiment and mined for frequently occurring events concurrent to the Russo-Ukrainian War and its corresponding association rules. We summarize our main insights and contributions below:</div>\n",
    "<br><div style='text-align: justify; display: inline-block;'>\n",
    "    <ol>\n",
    "        <li>Frequently mentioned actors, suggested by GDELT as significant actors, are mostly Presidents from major superpowers, such as the UK, the US, China, Russia, and Ukraine. Strikingly, neither then-US President Donald Trump nor Ukrainian President Volodymyr Zelenskyy are not included on the list of frequently mentioned actors.</li>\n",
    "        <br>\n",
    "        <li>The average tone of documents about Western world leaders is far more negative than that of their Eastern counterparts. This could be due to the immediate control the governments of these countries have on how they are perceived by the media.</li>\n",
    "        <br>\n",
    "        <li>Highly mentioned events in the Russo-Ukrainian War are related to escalation events, such as the annexation of Crimea or the Kerch Strait incident. However, the years 2015 to 2021 yielded very limited attention from source documents, even if the war continued during these years.</li>\n",
    "        <br>\n",
    "        <li>Using Goldstein Scales as indicator of theoretical impact of events on country stability, Ukraine appears to be more prone to destabilization than Russia. This could be due to the latter's geopolitical and economic power. Towards early March 2022, however, it appeared that recent sanctions have negatively impacted Russia much more than Ukraine.</li>\n",
    "        <br>\n",
    "        <li>Finally, the frequently occurring events and association rules can be divided into four parts:</li>\n",
    "        <ol>\n",
    "            <li>2013: The usual diplomatic negotiations between world superpowers occurred, with no indication of Russia’s interest in the annexation of Crimea.</li>\n",
    "            <li>2014: Russia starts a War with Ukraine by annexing Crimea, but it was only the US who actively sanctioned and imposed embargoes on Russia.</li>\n",
    "            <li>2015-2021: While these years received less mentions and a lower Goldstein scale, they are nevertheless significant given the strong association rules and patterns between actors. China increased the number of its formal agreements with Russia, while France, the UK, and the US appealed to, negotiated with, and sanctioned Russia in turns, while the latter used military force in Ukraine.</li>\n",
    "            <li>2022:  Re-escalation of events has finally impacted country stability in Russia due to heavy economic sanctions from other countries</li>\n",
    "        </ol>\n",
    "    </ol>\n",
    "</div>"
   ]
  },
  {
   "cell_type": "markdown",
   "id": "e522db11",
   "metadata": {},
   "source": [
    "# 7. Recommendations\n",
    "\n",
    "<br><div style='text-align: justify; display: inline-block;'>\n",
    "    <ol>\n",
    "        <li><b>Further research can be conducted to validate the above findings.</b> The above insights were generated based on the years 2013 and 2022 only. However, wars do not exist in a vacuum; conflict between Russia and Ukraine has existed for many decades and only reached its peak at the start of the war. Knowing the historical context before 2013 will help validate the above insights.</li>\n",
    "        <br>\n",
    "        <li><b>Sequence-aware pattern mining may aid in understanding the nuances between the dynamics of actors.</b> The current study only looks at individual events with no regard for sequences between them. Using sequence-aware pattern mining may surface new insights, including repeating and/or sequential patterns of certain actors.</li>\n",
    "        <br>\n",
    "        <li><b>Encourage media outlets to work against misinformation.</b> State-sponsored media outlets have persisted for many years, which can greatly influence perceptions of people towards the war (or any topic for that matter). There is a public interest for the government and civil society organizations to promote responsible consumption of online media, including in matters that may not be directly nor immediately related to a particular country.</li>\n",
    "    </ol>\n",
    "</div>"
   ]
  },
  {
   "cell_type": "markdown",
   "id": "75f3752c",
   "metadata": {},
   "source": [
    "# 8. References\n",
    "\n",
    "<br><div style='text-align: justify;'><a id='bbc'>BBC News. (2018).</a> <i>Russia-Ukraine sea clash in 300 words.</i> BBC News. Retrieved 06 March 2022 from <a href=\"https://www.bbc.com/news/world-europe-46345697\">https://www.bbc.com/news/world-europe-46345697</a></div>\n",
    "<br><div style='text-align: justify;'><a id='cathcart'>Cathcart, W. (2017).</a> <i>Putin's Crimean medal of honor, forged before the war even began.</i> The Daily Beast. Retrieved 06 March 2022 from <a href=\"https://www.thedailybeast.com/putins-crimean-medal-of-honor-forged-before-the-war-even-began\">https://www.thedailybeast.com/putins-crimean-medal-of-honor-forged-before-the-war-even-began</a></div>\n",
    "<br><div style='text-align: justify;'><a id='dress'>Dress, B. (2022).</a> <i>Russia demanding that Ukraine demilitarize.</i> The Hill. Retrieved 06 March 2022 from <a href=\"https://thehill.com/policy/international/596551-russia-demanding-that-ukraine-demilitarize\">https://thehill.com/policy/international/596551-russia-demanding-that-ukraine-demilitarize</a></div>\n",
    "<br><div style='text-align: justify;'><a id='gdelt'>GDELT Project (2020).</a> <i>Global Database of Events, Language and Tone (GDELT).</i> Retrieved 06 March 2022 from <a href=\"https://registry.opendata.aws/gdelt\">https://registry.opendata.aws/gdelt</a></div>\n",
    "<br><div style='text-align: justify;'><a id='kharkiv'>Kharkiv, Kiev and Lviv (2014).</a> <i>The February revolution.</i> The Economist. Retrieved 06 March 2022 from <a href=\"https://www.economist.com/briefing/2014/02/27/the-february-revolution\">https://www.economist.com/briefing/2014/02/27/the-february-revolution</a></div>\n",
    "<br><div style='text-align: justify;'><a id='kyiv'>Kyiv Post (2013).</a> <i>Parliament passes statement on Ukraine's aspirations for European integration.</i> Kyiv Post. Retrieved 06 March 2022 from <a href=\"https://www.kyivpost.com/article/content/ukraine-politics/parliament-passes-statement-on-ukraines-aspirations-for-european-integration-320792.html\">https://www.kyivpost.com/article/content/ukraine-politics/parliament-passes-statement-on-ukraines-aspirations-for-european-integration-320792.html</a></div>\n",
    "<br><div style='text-align: justify;'><a id='macfarquhar'>MacFarquhar, N. (2018).</a> <i>In standoff with Russia, what does Ukraine's martial law decree mean?</i> The New York Times. Retrieved 06 March 2022 from <a href=\"https://www.nytimes.com/2018/11/27/world/europe/ukraine-crimea-russia.html\">https://www.nytimes.com/2018/11/27/world/europe/ukraine-crimea-russia.html</a></div>\n",
    "<br><div style='text-align: justify;'><a id='united'>United Nations (2014).</a> <i>68/262. Territorial integrity of Ukraine: Resolution adopted by the General Assembly on 27 March 2014.</i> United Nations. Retrieved 06 March 2022 from <a hreff=\"https://www.securitycouncilreport.org/atf/cf/%7B65BFCF9B-6D27-4E9C-8CD3-CF6E4FF96FF9%7D/a_res_68_262.pdf\">https://www.securitycouncilreport.org/atf/cf/%7B65BFCF9B-6D27-4E9C-8CD3-CF6E4FF96FF9%7D/a_res_68_262.pdf</a></div>"
   ]
  },
  {
   "cell_type": "markdown",
   "id": "eaf4bb30",
   "metadata": {},
   "source": [
    "# 9. Appendix"
   ]
  },
  {
   "cell_type": "markdown",
   "id": "c57a541a",
   "metadata": {},
   "source": [
    "<div style='font-size: 18px; font-weight: bold;'>Screenshot of the instances, showing the instance type</div>\n",
    "\n",
    "![Screenshot 1](figures/appendix1.PNG)\n",
    "<hr>"
   ]
  },
  {
   "cell_type": "markdown",
   "id": "3321d602",
   "metadata": {},
   "source": [
    "<div style='font-size: 18px; font-weight: bold;'>Screenshot of the output of <tt>aws s3 ls --summarize --human-readable</tt> showing the total size of the actual data that was processed</div>\n",
    "\n",
    "![Screenshot 2](figures/appendix2.PNG)\n",
    "![Screenshot 3](figures/appendix3.PNG)\n",
    "<hr>"
   ]
  },
  {
   "cell_type": "markdown",
   "id": "6eb53a1e",
   "metadata": {
    "ExecuteTime": {
     "end_time": "2022-03-14T10:19:25.410179Z",
     "start_time": "2022-03-14T10:19:25.394020Z"
    }
   },
   "source": [
    "<div style='font-size: 18px; font-weight: bold;'>Screenshot of the spark list of workers from the dashboard</div>\n",
    "\n",
    "![Screenshot 4](figures/appendix4.PNG)<br>\n",
    "![Screenshot 5](figures/appendix5.PNG)<br>\n",
    "![Screenshot 6](figures/appendix6.PNG)"
   ]
  }
 ],
 "metadata": {
  "kernelspec": {
   "display_name": "Python 3 (ipykernel)",
   "language": "python",
   "name": "python3"
  },
  "language_info": {
   "codemirror_mode": {
    "name": "ipython",
    "version": 3
   },
   "file_extension": ".py",
   "mimetype": "text/x-python",
   "name": "python",
   "nbconvert_exporter": "python",
   "pygments_lexer": "ipython3",
   "version": "3.9.13"
  },
  "toc": {
   "base_numbering": 1,
   "nav_menu": {},
   "number_sections": false,
   "sideBar": true,
   "skip_h1_title": false,
   "title_cell": "Table of Contents",
   "title_sidebar": "Contents",
   "toc_cell": false,
   "toc_position": {
    "height": "calc(100% - 180px)",
    "left": "10px",
    "top": "150px",
    "width": "519px"
   },
   "toc_section_display": true,
   "toc_window_display": true
  }
 },
 "nbformat": 4,
 "nbformat_minor": 5
}
